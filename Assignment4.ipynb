{
 "cells": [
  {
   "cell_type": "code",
   "execution_count": 9,
   "id": "56c49503-7311-4242-8ea1-58713a7bfee6",
   "metadata": {},
   "outputs": [
    {
     "data": {
      "text/plain": [
       "('Honda', 120, 60)"
      ]
     },
     "execution_count": 9,
     "metadata": {},
     "output_type": "execute_result"
    }
   ],
   "source": [
    "class vehicle:\n",
    "    \n",
    "    def __init__(self,name_of_vehicle,max_speed,average_of_vehicle):\n",
    "        self.name_of_vehicle=name_of_vehicle\n",
    "        self.max_speed=max_speed\n",
    "        self.average_of_vehicle = average_of_vehicle\n",
    "        \n",
    "    def vehicle_details(self):\n",
    "        return self.name_of_vehicle,self.max_speed,self.average_of_vehicle\n",
    "        \n",
    "c=vehicle('Honda',120,60)\n",
    "c.vehicle_details()"
   ]
  },
  {
   "cell_type": "code",
   "execution_count": 30,
   "id": "47f07565-3ca6-461a-8842-9d41eea0bc39",
   "metadata": {},
   "outputs": [
    {
     "data": {
      "text/plain": [
       "('honda', 202)"
      ]
     },
     "execution_count": 30,
     "metadata": {},
     "output_type": "execute_result"
    }
   ],
   "source": [
    "class car(vehicle):\n",
    "    def sitting_capacity(self,capacity):\n",
    "        return self.name_of_vehicle,self.max_speed\n",
    "    def details(self):\n",
    "        return self.name_of_vehicle,self.capacity\n",
    "car_details=car('honda',202,345)\n",
    "car_details.sitting_capacity(2)\n",
    "\n"
   ]
  },
  {
   "cell_type": "markdown",
   "id": "38fdb7a3-35e1-4d35-92a0-861c34d8e246",
   "metadata": {},
   "source": [
    "Ans3\n",
    "\n",
    "Multiple Inheritance is a feature of an object-oriented concept, where a class can\n",
    "inherit properties of more than one parent class."
   ]
  },
  {
   "cell_type": "code",
   "execution_count": 14,
   "id": "b2f316b7-f738-4733-b4c5-0096b9c6d7d0",
   "metadata": {},
   "outputs": [
    {
     "data": {
      "text/plain": [
       "'This is second class'"
      ]
     },
     "execution_count": 14,
     "metadata": {},
     "output_type": "execute_result"
    }
   ],
   "source": [
    "#Multiple Inheritance\n",
    "\n",
    "class first:\n",
    "    \n",
    "    def class1(self):\n",
    "        return \"This is First class\"\n",
    "class second:\n",
    "    def class2(self):\n",
    "        return \"This is second class\"\n",
    "class third:\n",
    "    def class3(self):\n",
    "        return \"This is third class\"\n",
    "class fourth(first,second,third):\n",
    "    pass\n",
    "class_fourth=fourth()\n",
    "class_fourth.class1()\n",
    "class_fourth.class2()\n",
    "\n",
    "            "
   ]
  },
  {
   "cell_type": "markdown",
   "id": "cd388b41-2d81-4332-ad3f-9f4c69f524ea",
   "metadata": {},
   "source": [
    "Ans4.\n",
    "\n",
    "Getter: A method that allows you to access an attribute in a given class. \n",
    "Setter: A method that allows you to set or mutate the value of an attribute in a class"
   ]
  },
  {
   "cell_type": "code",
   "execution_count": 16,
   "id": "cda86d8f-2fcf-4c67-88eb-5f617c8765c2",
   "metadata": {},
   "outputs": [
    {
     "name": "stdout",
     "output_type": "stream",
     "text": [
      "2021\n"
     ]
    },
    {
     "data": {
      "text/plain": [
       "210"
      ]
     },
     "execution_count": 16,
     "metadata": {},
     "output_type": "execute_result"
    }
   ],
   "source": [
    "class car:\n",
    "\n",
    "    def __init__(self,year,make,model,speed):\n",
    "        self.__year=year\n",
    "        self.__make=make\n",
    "        self.__model=model\n",
    "        self.__speed=0\n",
    "\n",
    "    def set_speed(self,speed):\n",
    "        self.__speed=0 if speed<0 else speed\n",
    "\n",
    "    def get_speed(self):\n",
    "        return self.__speed\n",
    "\n",
    "\n",
    "\n",
    "c=car(2021,\"tata\",'Anova',100)\n",
    "print(c._car__year) \n",
    "c.set_speed(210)   \n",
    "c.get_speed()"
   ]
  },
  {
   "cell_type": "code",
   "execution_count": null,
   "id": "9e1467df-e641-486e-937e-f69edf50551f",
   "metadata": {},
   "outputs": [],
   "source": []
  }
 ],
 "metadata": {
  "kernelspec": {
   "display_name": "Python 3 (ipykernel)",
   "language": "python",
   "name": "python3"
  },
  "language_info": {
   "codemirror_mode": {
    "name": "ipython",
    "version": 3
   },
   "file_extension": ".py",
   "mimetype": "text/x-python",
   "name": "python",
   "nbconvert_exporter": "python",
   "pygments_lexer": "ipython3",
   "version": "3.10.8"
  }
 },
 "nbformat": 4,
 "nbformat_minor": 5
}
