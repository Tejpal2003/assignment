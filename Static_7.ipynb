{
 "cells": [
  {
   "cell_type": "markdown",
   "id": "6159acc1-ad76-466f-8c35-ca3be993d71d",
   "metadata": {},
   "source": [
    "# Answer 1"
   ]
  },
  {
   "cell_type": "code",
   "execution_count": 1,
   "id": "cc9b17d1-27dd-403b-bd02-aadb9e259698",
   "metadata": {
    "tags": []
   },
   "outputs": [
    {
     "name": "stdout",
     "output_type": "stream",
     "text": [
      "F-value: 1.00\n",
      "P-value: 0.50\n"
     ]
    }
   ],
   "source": [
    "import numpy as np\n",
    "from scipy.stats import f\n",
    "def var_ratio_test(arr1, arr2):\n",
    "    var1 = np.var(arr1, ddof=1)\n",
    "    var2 = np.var(arr2, ddof=1)\n",
    "    f_value = var1 / var2\n",
    "    df1 = len(arr1) - 1\n",
    "    df2 = len(arr2) - 1\n",
    "    p_value = f.cdf(f_value, df1, df2)\n",
    "    return f_value, p_value\n",
    "arr1 = [1, 2, 3, 4, 5]\n",
    "arr2 = [6, 7, 8, 9, 10]\n",
    "f_value, p_value = var_ratio_test(arr1, arr2)\n",
    "print(f\"F-value: {f_value:.2f}\")\n",
    "print(f\"P-value: {p_value:.2f}\")"
   ]
  },
  {
   "cell_type": "markdown",
   "id": "4825c18e-21c8-4498-8e58-1a98daf536c3",
   "metadata": {},
   "source": [
    "# Answer 2"
   ]
  },
  {
   "cell_type": "code",
   "execution_count": 2,
   "id": "450ef7c4-e9b8-44b8-a99f-35d953d9cb3b",
   "metadata": {
    "tags": []
   },
   "outputs": [
    {
     "name": "stdout",
     "output_type": "stream",
     "text": [
      "Critical F-value: 4.0768\n"
     ]
    }
   ],
   "source": [
    "from scipy.stats import f\n",
    "def critical_f_value(dfn,dfd, alpha=0.05):\n",
    "    f_crit = f.ppf(1-alpha/2, dfn, dfd)\n",
    "    return f_crit\n",
    "dfn = 3\n",
    "dfd = 16\n",
    "alpha = 0.05\n",
    "f_crit = critical_f_value(dfn, dfd, alpha)\n",
    "print(f\"Critical F-value: {f_crit:.4f}\")"
   ]
  },
  {
   "cell_type": "markdown",
   "id": "b02f3ad1-8be4-4451-8247-3377652d4338",
   "metadata": {},
   "source": [
    "# Answer 3"
   ]
  },
  {
   "cell_type": "code",
   "execution_count": 3,
   "id": "65d1b70c-d045-4c83-b20f-31faadf5b97e",
   "metadata": {
    "tags": []
   },
   "outputs": [
    {
     "name": "stdout",
     "output_type": "stream",
     "text": [
      "The null hypothesis that the variances are equal is not rejected.\n",
      "F-value: 1.7070\n",
      "Degrees of freedom (numerator): 19\n",
      "Degrees of freedom (denominator): 19\n",
      "P-value: 0.1264\n"
     ]
    }
   ],
   "source": [
    "import numpy as np\n",
    "from scipy.stats import f\n",
    "def f_test(sample1, sample2, var1, var2, alpha=0.05):\n",
    "    s1_var = np.var(sample1, ddof=1)\n",
    "    s2_var = np.var(sample2, ddof=1)\n",
    "    f_value = s1_var / s2_var if s1_var > s2_var else s2_var / s1_var\n",
    "    dfn = len(sample1) - 1 if s1_var > s2_var else len(sample2) - 1\n",
    "    dfd = len(sample2) - 1 if s1_var > s2_var else len(sample1) - 1\n",
    "    p_value = f.sf(f_value, dfn, dfd)\n",
    "    if p_value < alpha:\n",
    "        print(\"The null hypothesis that the variances are equal is rejected.\")\n",
    "    else:\n",
    "        print(\"The null hypothesis that the variances are equal is not rejected.\")\n",
    "    return f_value, dfn, dfd, p_value\n",
    "np.random.seed(123)\n",
    "sample1 = np.random.normal(10, 2, size=20)\n",
    "sample2 = np.random.normal(10, 3, size=20)\n",
    "f_value, dfn, dfd, p_value = f_test(sample1, sample2, var1=2**2, var2=3**2)\n",
    "print(f\"F-value: {f_value:.4f}\")\n",
    "print(f\"Degrees of freedom (numerator): {dfn}\")\n",
    "print(f\"Degrees of freedom (denominator): {dfd}\")\n",
    "print(f\"P-value: {p_value:.4f}\")"
   ]
  },
  {
   "cell_type": "markdown",
   "id": "d5fd6da5-5c35-47d9-89b5-0f222c53021e",
   "metadata": {},
   "source": [
    "# Answer 4"
   ]
  },
  {
   "cell_type": "code",
   "execution_count": 4,
   "id": "1080e805-c5c7-40b8-80f1-8422a6a40f24",
   "metadata": {
    "tags": []
   },
   "outputs": [
    {
     "name": "stdout",
     "output_type": "stream",
     "text": [
      "There is no significant difference between the variances.\n"
     ]
    }
   ],
   "source": [
    "import numpy as np\n",
    "from scipy.stats import f\n",
    "n1 = 12\n",
    "n2 = 12\n",
    "var1 = 10\n",
    "var2 = 15\n",
    "f_stat = var1 / var2\n",
    "p_val = f.cdf(f_stat, n1 - 1, n2 - 1)\n",
    "alpha = 0.05\n",
    "if p_val < alpha / 2 or p_val > 1 - alpha / 2:\n",
    "    print(\"The variances are significantly different.\")\n",
    "else:\n",
    "    print(\"There is no significant difference between the variances.\")"
   ]
  },
  {
   "cell_type": "markdown",
   "id": "ce32a927-6d1a-49fe-b5ce-b3c1bda53d65",
   "metadata": {},
   "source": [
    "# Answer  5"
   ]
  },
  {
   "cell_type": "code",
   "execution_count": 5,
   "id": "f8620616-342c-4b2c-8972-2b5e9e2b969d",
   "metadata": {
    "tags": []
   },
   "outputs": [
    {
     "name": "stdout",
     "output_type": "stream",
     "text": [
      "The manufacturer's claim is not justified.\n"
     ]
    }
   ],
   "source": [
    "import numpy as np\n",
    "from scipy.stats import f\n",
    "n = 25\n",
    "sample_var = 0.006\n",
    "hypo_var = 0.005\n",
    "f_stat = sample_var / hypo_var\n",
    "p_val = f.cdf(f_stat, n - 1, np.inf)\n",
    "alpha = 0.01\n",
    "if p_val < alpha:\n",
    "    print(\"The manufacturer's claim is not justified.\")\n",
    "else:\n",
    "    print(\"The manufacturer's claim is justified.\")"
   ]
  },
  {
   "cell_type": "markdown",
   "id": "7a909a8e-8a4e-4c38-ab29-b8fd2b9a2c11",
   "metadata": {},
   "source": [
    "# Answer 6"
   ]
  },
  {
   "cell_type": "code",
   "execution_count": 6,
   "id": "b90bae98-a942-42c2-8ecb-24af00f0398d",
   "metadata": {
    "tags": []
   },
   "outputs": [
    {
     "name": "stdout",
     "output_type": "stream",
     "text": [
      "Mean:  1.25\n",
      "Variance: 1.3542\n"
     ]
    }
   ],
   "source": [
    "import numpy as np\n",
    "from scipy.stats import f\n",
    "def f_distribution_mean_var(dfn, dfd):\n",
    "    mean = dfd / (dfd - 2)\n",
    "    variance = (2 * dfd**2 * (dfn + dfd - 2)) / (dfn * (dfd - 2)**2 * (dfd - 4))\n",
    "    return (mean, variance)\n",
    "mean, variance = f_distribution_mean_var(5, 10)\n",
    "print(\"Mean: \", mean)\n",
    "print(f\"Variance: {variance:.4f}\")"
   ]
  },
  {
   "cell_type": "markdown",
   "id": "6dce66b6-f45b-4fe2-93bb-eadfd8c2b9a5",
   "metadata": {},
   "source": [
    "# Answer 7"
   ]
  },
  {
   "cell_type": "code",
   "execution_count": 7,
   "id": "2e3c7b6c-ae7a-43fa-820b-ce132f4ad7d3",
   "metadata": {
    "tags": []
   },
   "outputs": [
    {
     "name": "stdout",
     "output_type": "stream",
     "text": [
      "The variances are not significantly different.\n"
     ]
    }
   ],
   "source": [
    "from scipy.stats import f\n",
    "n1 = 10\n",
    "n2 = 15\n",
    "s1_sq = 25\n",
    "s2_sq = 20\n",
    "f_stat = s1_sq / s2_sq\n",
    "p_val = f.cdf(f_stat, n1 - 1, n2 - 1)\n",
    "alpha = 0.1\n",
    "if p_val < alpha:\n",
    "    print(\"The variances are significantly different.\")\n",
    "else:\n",
    "    print(\"The variances are not significantly different.\")"
   ]
  },
  {
   "cell_type": "markdown",
   "id": "9fc4121e-922d-403c-8e8c-5431ed58f281",
   "metadata": {},
   "source": [
    "# Answer 8"
   ]
  },
  {
   "cell_type": "code",
   "execution_count": 8,
   "id": "d213e8f1-ce6a-47b7-845f-0f9d5f1de4a4",
   "metadata": {
    "tags": []
   },
   "outputs": [
    {
     "name": "stdout",
     "output_type": "stream",
     "text": [
      "The variances are not significantly different.\n"
     ]
    }
   ],
   "source": [
    "from scipy.stats import f\n",
    "a = [24, 25, 28, 23, 22, 20, 27]\n",
    "b = [31, 33, 35, 30, 32, 36]\n",
    "n1 = len(a)\n",
    "n2 = len(b)\n",
    "s1_sq = sum((x - sum(a)/n1)**2 for x in a) / (n1 - 1)\n",
    "s2_sq = sum((x - sum(b)/n2)**2 for x in b) / (n2 - 1)\n",
    "f_stat = s1_sq / s2_sq\n",
    "p_val = f.cdf(f_stat, n1 - 1, n2 - 1)\n",
    "alpha = 0.05\n",
    "if p_val < alpha:\n",
    "    print(\"The variances are significantly different.\")\n",
    "else:\n",
    "    print(\"The variances are not significantly different.\")"
   ]
  },
  {
   "cell_type": "markdown",
   "id": "d866372b-e034-4084-ab72-bfeb9a4416c5",
   "metadata": {},
   "source": [
    "# Answer 9\n"
   ]
  },
  {
   "cell_type": "code",
   "execution_count": 9,
   "id": "f2598eff-0a96-4bab-bb28-f48af1216e2b",
   "metadata": {
    "tags": []
   },
   "outputs": [
    {
     "name": "stdout",
     "output_type": "stream",
     "text": [
      "The variances are not significantly different (fail to reject null hypothesis)\n"
     ]
    }
   ],
   "source": [
    "\n",
    "\n",
    "from scipy.stats import f_oneway\n",
    "group_a = [80, 85, 90, 92, 87, 83]\n",
    "group_b = [75, 78, 82, 79, 81, 84]\n",
    "f_statistic, p_value = f_oneway(group_a, group_b)\n",
    "alpha = 0.01\n",
    "if p_value < alpha:\n",
    "    print(\"The variances are significantly different (reject null hypothesis)\")\n",
    "else:\n",
    "    print(\"The variances are not significantly different (fail to reject null hypothesis)\")"
   ]
  },
  {
   "cell_type": "code",
   "execution_count": null,
   "id": "8f8d80ee-b48a-4733-8b43-3d6df9083c2b",
   "metadata": {},
   "outputs": [],
   "source": []
  }
 ],
 "metadata": {
  "kernelspec": {
   "display_name": "Python 3 (ipykernel)",
   "language": "python",
   "name": "python3"
  },
  "language_info": {
   "codemirror_mode": {
    "name": "ipython",
    "version": 3
   },
   "file_extension": ".py",
   "mimetype": "text/x-python",
   "name": "python",
   "nbconvert_exporter": "python",
   "pygments_lexer": "ipython3",
   "version": "3.11.4"
  }
 },
 "nbformat": 4,
 "nbformat_minor": 5
}
