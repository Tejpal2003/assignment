{
 "cells": [
  {
   "cell_type": "markdown",
   "id": "8ad815f9-7819-4e99-9daa-3b628cd1282d",
   "metadata": {},
   "source": [
    "# Answer 1"
   ]
  },
  {
   "cell_type": "code",
   "execution_count": 1,
   "id": "82267cae-b369-4ffa-93b1-c6f843a498ab",
   "metadata": {
    "tags": []
   },
   "outputs": [
    {
     "name": "stdout",
     "output_type": "stream",
     "text": [
      "Accuracy: 1.0\n"
     ]
    }
   ],
   "source": [
    "from sklearn.datasets import load_iris\n",
    "from sklearn.model_selection import train_test_split\n",
    "from sklearn.neighbors import KNeighborsClassifier\n",
    "from sklearn.metrics import accuracy_score\n",
    "\n",
    "# Load the dataset\n",
    "iris = load_iris()\n",
    "\n",
    "# Split the dataset into training and testing sets\n",
    "X_train, X_test, y_train, y_test = train_test_split(iris.data, iris.target, test_size=0.2)\n",
    "\n",
    "# Create the KNN classifier with k=3\n",
    "knn = KNeighborsClassifier(n_neighbors=3)\n",
    "\n",
    "# Train the KNN classifier on the training data\n",
    "knn.fit(X_train, y_train)\n",
    "\n",
    "# Use the trained KNN classifier to predict the test data\n",
    "y_pred = knn.predict(X_test)\n",
    "\n",
    "# Calculate the accuracy of the classifier\n",
    "accuracy = accuracy_score(y_test, y_pred)\n",
    "print(f\"Accuracy: {accuracy}\")\n"
   ]
  },
  {
   "cell_type": "markdown",
   "id": "4002739e-d706-48ae-8d8f-f6587cbac80a",
   "metadata": {},
   "source": [
    "# Answer 2"
   ]
  },
  {
   "cell_type": "code",
   "execution_count": null,
   "id": "1cf9ddf2-0ab9-4c1b-ab93-e7b0336b20d3",
   "metadata": {},
   "outputs": [],
   "source": [
    "import pandas as pd\n",
    "from sklearn.model_selection import train_test_split\n",
    "from sklearn.neighbors import KNeighborsRegressor\n",
    "from sklearn.metrics import mean_squared_error\n"
   ]
  },
  {
   "cell_type": "code",
   "execution_count": null,
   "id": "56977858-3de6-4c2a-9542-706b05b2f96f",
   "metadata": {},
   "outputs": [],
   "source": [
    "boston = pd.read_csv('BostonHousing (1).csv')"
   ]
  },
  {
   "cell_type": "code",
   "execution_count": 7,
   "id": "97cfb61f-e812-4631-a0c2-c517f7c261da",
   "metadata": {
    "tags": []
   },
   "outputs": [
    {
     "data": {
      "text/html": [
       "<div>\n",
       "<style scoped>\n",
       "    .dataframe tbody tr th:only-of-type {\n",
       "        vertical-align: middle;\n",
       "    }\n",
       "\n",
       "    .dataframe tbody tr th {\n",
       "        vertical-align: top;\n",
       "    }\n",
       "\n",
       "    .dataframe thead th {\n",
       "        text-align: right;\n",
       "    }\n",
       "</style>\n",
       "<table border=\"1\" class=\"dataframe\">\n",
       "  <thead>\n",
       "    <tr style=\"text-align: right;\">\n",
       "      <th></th>\n",
       "      <th>crim</th>\n",
       "      <th>zn</th>\n",
       "      <th>indus</th>\n",
       "      <th>chas</th>\n",
       "      <th>nox</th>\n",
       "      <th>rm</th>\n",
       "      <th>age</th>\n",
       "      <th>dis</th>\n",
       "      <th>rad</th>\n",
       "      <th>tax</th>\n",
       "      <th>ptratio</th>\n",
       "      <th>b</th>\n",
       "      <th>lstat</th>\n",
       "      <th>medv</th>\n",
       "    </tr>\n",
       "  </thead>\n",
       "  <tbody>\n",
       "    <tr>\n",
       "      <th>0</th>\n",
       "      <td>0.00632</td>\n",
       "      <td>18.0</td>\n",
       "      <td>2.31</td>\n",
       "      <td>0</td>\n",
       "      <td>0.538</td>\n",
       "      <td>6.575</td>\n",
       "      <td>65.2</td>\n",
       "      <td>4.0900</td>\n",
       "      <td>1</td>\n",
       "      <td>296</td>\n",
       "      <td>15.3</td>\n",
       "      <td>396.90</td>\n",
       "      <td>4.98</td>\n",
       "      <td>24.0</td>\n",
       "    </tr>\n",
       "    <tr>\n",
       "      <th>1</th>\n",
       "      <td>0.02731</td>\n",
       "      <td>0.0</td>\n",
       "      <td>7.07</td>\n",
       "      <td>0</td>\n",
       "      <td>0.469</td>\n",
       "      <td>6.421</td>\n",
       "      <td>78.9</td>\n",
       "      <td>4.9671</td>\n",
       "      <td>2</td>\n",
       "      <td>242</td>\n",
       "      <td>17.8</td>\n",
       "      <td>396.90</td>\n",
       "      <td>9.14</td>\n",
       "      <td>21.6</td>\n",
       "    </tr>\n",
       "    <tr>\n",
       "      <th>2</th>\n",
       "      <td>0.02729</td>\n",
       "      <td>0.0</td>\n",
       "      <td>7.07</td>\n",
       "      <td>0</td>\n",
       "      <td>0.469</td>\n",
       "      <td>7.185</td>\n",
       "      <td>61.1</td>\n",
       "      <td>4.9671</td>\n",
       "      <td>2</td>\n",
       "      <td>242</td>\n",
       "      <td>17.8</td>\n",
       "      <td>392.83</td>\n",
       "      <td>4.03</td>\n",
       "      <td>34.7</td>\n",
       "    </tr>\n",
       "    <tr>\n",
       "      <th>3</th>\n",
       "      <td>0.03237</td>\n",
       "      <td>0.0</td>\n",
       "      <td>2.18</td>\n",
       "      <td>0</td>\n",
       "      <td>0.458</td>\n",
       "      <td>6.998</td>\n",
       "      <td>45.8</td>\n",
       "      <td>6.0622</td>\n",
       "      <td>3</td>\n",
       "      <td>222</td>\n",
       "      <td>18.7</td>\n",
       "      <td>394.63</td>\n",
       "      <td>2.94</td>\n",
       "      <td>33.4</td>\n",
       "    </tr>\n",
       "    <tr>\n",
       "      <th>4</th>\n",
       "      <td>0.06905</td>\n",
       "      <td>0.0</td>\n",
       "      <td>2.18</td>\n",
       "      <td>0</td>\n",
       "      <td>0.458</td>\n",
       "      <td>7.147</td>\n",
       "      <td>54.2</td>\n",
       "      <td>6.0622</td>\n",
       "      <td>3</td>\n",
       "      <td>222</td>\n",
       "      <td>18.7</td>\n",
       "      <td>396.90</td>\n",
       "      <td>5.33</td>\n",
       "      <td>36.2</td>\n",
       "    </tr>\n",
       "  </tbody>\n",
       "</table>\n",
       "</div>"
      ],
      "text/plain": [
       "      crim    zn  indus  chas    nox     rm   age     dis  rad  tax  ptratio  \\\n",
       "0  0.00632  18.0   2.31     0  0.538  6.575  65.2  4.0900    1  296     15.3   \n",
       "1  0.02731   0.0   7.07     0  0.469  6.421  78.9  4.9671    2  242     17.8   \n",
       "2  0.02729   0.0   7.07     0  0.469  7.185  61.1  4.9671    2  242     17.8   \n",
       "3  0.03237   0.0   2.18     0  0.458  6.998  45.8  6.0622    3  222     18.7   \n",
       "4  0.06905   0.0   2.18     0  0.458  7.147  54.2  6.0622    3  222     18.7   \n",
       "\n",
       "        b  lstat  medv  \n",
       "0  396.90   4.98  24.0  \n",
       "1  396.90   9.14  21.6  \n",
       "2  392.83   4.03  34.7  \n",
       "3  394.63   2.94  33.4  \n",
       "4  396.90   5.33  36.2  "
      ]
     },
     "execution_count": 7,
     "metadata": {},
     "output_type": "execute_result"
    }
   ],
   "source": [
    "boston.head()"
   ]
  },
  {
   "cell_type": "code",
   "execution_count": 8,
   "id": "f0b89e08-fe61-47d7-8d82-30273a9cdabb",
   "metadata": {
    "tags": []
   },
   "outputs": [
    {
     "name": "stdout",
     "output_type": "stream",
     "text": [
      "Mean Squared Error: 37.74654509803921\n"
     ]
    }
   ],
   "source": [
    "\n",
    "\n",
    "# Load the dataset using pandas\n",
    "boston = pd.read_csv('BostonHousing (1).csv')\n",
    "\n",
    "# Split the dataset into features (X) and target variable (y)\n",
    "X = boston.drop('medv', axis=1)\n",
    "y = boston['medv']\n",
    "\n",
    "# Split the dataset into training and testing sets\n",
    "X_train, X_test, y_train, y_test = train_test_split(X, y, test_size=0.2)\n",
    "\n",
    "# Create the KNN regressor with k=5\n",
    "knn = KNeighborsRegressor(n_neighbors=5)\n",
    "\n",
    "# Train the KNN regressor on the training data\n",
    "knn.fit(X_train, y_train)\n",
    "\n",
    "# Use the trained KNN regressor to predict the test data\n",
    "y_pred = knn.predict(X_test)\n",
    "\n",
    "# Calculate the mean squared error of the regressor\n",
    "mse = mean_squared_error(y_test, y_pred)\n",
    "print(f\"Mean Squared Error: {mse}\")"
   ]
  },
  {
   "cell_type": "markdown",
   "id": "563ae593-501b-487b-ad63-a8bfa85bd7d2",
   "metadata": {},
   "source": [
    "# Answer 3\n"
   ]
  },
  {
   "cell_type": "code",
   "execution_count": 9,
   "id": "e0476816-7053-4208-a14e-fe9e4d2ed1e0",
   "metadata": {
    "tags": []
   },
   "outputs": [
    {
     "name": "stdout",
     "output_type": "stream",
     "text": [
      "Optimal value of K: 10\n"
     ]
    }
   ],
   "source": [
    "from sklearn.datasets import load_iris\n",
    "from sklearn.model_selection import cross_val_score, KFold\n",
    "from sklearn.neighbors import KNeighborsClassifier\n",
    "\n",
    "# Load the dataset\n",
    "iris = load_iris()\n",
    "\n",
    "# Define the range of K values to test\n",
    "k_range = range(1, 31)\n",
    "\n",
    "# Create an empty list to store the mean accuracy scores for each value of K\n",
    "k_scores = []\n",
    "\n",
    "# Perform cross-validation for each value of K\n",
    "for k in k_range:\n",
    "    knn = KNeighborsClassifier(n_neighbors=k)\n",
    "    # Define the cross-validation method (here we use 10-fold cross-validation)\n",
    "    cv = KFold(n_splits=10, shuffle=True, random_state=42)\n",
    "    # Calculate the mean accuracy score using cross-validation\n",
    "    scores = cross_val_score(knn, iris.data, iris.target, cv=cv, scoring='accuracy')\n",
    "    k_scores.append(scores.mean())\n",
    "\n",
    "# Find the optimal value of K with the highest mean accuracy score\n",
    "optimal_k = k_range[k_scores.index(max(k_scores))]\n",
    "print(f\"Optimal value of K: {optimal_k}\")"
   ]
  },
  {
   "cell_type": "markdown",
   "id": "6e523f04-dd06-45ac-afb6-b0921da51bb5",
   "metadata": {},
   "source": [
    "# Answer 4"
   ]
  },
  {
   "cell_type": "code",
   "execution_count": 11,
   "id": "22e31e0d-bd25-4b43-9bdb-24dcf3ace458",
   "metadata": {
    "tags": []
   },
   "outputs": [
    {
     "name": "stdout",
     "output_type": "stream",
     "text": [
      "Mean Squared Error: 23.028749019607844\n"
     ]
    }
   ],
   "source": [
    "import pandas as pd\n",
    "from sklearn.model_selection import train_test_split\n",
    "from sklearn.neighbors import KNeighborsRegressor\n",
    "from sklearn.metrics import mean_squared_error\n",
    "from sklearn.preprocessing import StandardScaler\n",
    "\n",
    "# Load the dataset from a CSV file\n",
    "boston = pd.read_csv('BostonHousing (1).csv')\n",
    "\n",
    "# Split the dataset into features (X) and target variable (y)\n",
    "X = boston.drop('medv', axis=1)\n",
    "y = boston['medv']\n",
    "# Split the dataset into training and testing sets\n",
    "X_train, X_test, y_train, y_test = train_test_split(X, y, test_size=0.2)\n",
    "\n",
    "# Perform feature scaling on the training and testing data\n",
    "scaler = StandardScaler()\n",
    "X_train = scaler.fit_transform(X_train)\n",
    "X_test = scaler.transform(X_test)\n",
    "\n",
    "# Create the KNN regressor with k=5\n",
    "knn = KNeighborsRegressor(n_neighbors=5)\n",
    "\n",
    "# Train the KNN regressor on the training data\n",
    "knn.fit(X_train, y_train)\n",
    "\n",
    "# Use the trained KNN regressor to predict the test data\n",
    "y_pred = knn.predict(X_test)\n",
    "\n",
    "# Calculate the mean squared error of the regressor\n",
    "mse = mean_squared_error(y_test, y_pred)\n",
    "print(f\"Mean Squared Error: {mse}\")"
   ]
  },
  {
   "cell_type": "markdown",
   "id": "6f51b608-9952-42cd-805c-58e17f45fbf9",
   "metadata": {},
   "source": [
    "# Answer 5"
   ]
  },
  {
   "cell_type": "code",
   "execution_count": 12,
   "id": "b6df3ceb-0481-4bb8-bb50-85211d5ac681",
   "metadata": {
    "tags": []
   },
   "outputs": [
    {
     "name": "stdout",
     "output_type": "stream",
     "text": [
      "Predicted class labels: [2 1]\n"
     ]
    }
   ],
   "source": [
    "from sklearn.datasets import load_iris\n",
    "from sklearn.neighbors import KNeighborsClassifier\n",
    "\n",
    "# Load the dataset\n",
    "iris = load_iris()\n",
    "\n",
    "# Split the dataset into features (X) and target variable (y)\n",
    "X = iris.data\n",
    "y = iris.target\n",
    "\n",
    "# Create the KNN classifier with k=5 and weighted voting\n",
    "knn = KNeighborsClassifier(n_neighbors=5, weights='distance')\n",
    "\n",
    "# Train the KNN classifier on the entire dataset\n",
    "knn.fit(X, y)\n",
    "\n",
    "# Predict the class labels for new data\n",
    "new_data = [[6.1, 3.1, 5.1, 1.9], [5.7, 2.8, 4.1, 1.3]]\n",
    "y_pred = knn.predict(new_data)\n",
    "\n",
    "print(\"Predicted class labels:\", y_pred)"
   ]
  },
  {
   "cell_type": "markdown",
   "id": "cdac1f04-170e-411c-be4b-2a38e8d47d46",
   "metadata": {},
   "source": [
    "# Answer 6\n",
    "\n"
   ]
  },
  {
   "cell_type": "code",
   "execution_count": 13,
   "id": "686a1510-a4e2-4e6b-9072-871a0d48fccb",
   "metadata": {
    "tags": []
   },
   "outputs": [
    {
     "name": "stdout",
     "output_type": "stream",
     "text": [
      "Predicted class labels: [2 0]\n"
     ]
    }
   ],
   "source": [
    "from sklearn.datasets import load_iris\n",
    "from sklearn.neighbors import KNeighborsClassifier\n",
    "from sklearn.preprocessing import StandardScaler\n",
    "\n",
    "# Load the dataset\n",
    "iris = load_iris()\n",
    "\n",
    "# Split the dataset into features (X) and target variable (y)\n",
    "X = iris.data\n",
    "y = iris.target\n",
    "\n",
    "# Define a function to standardize the features\n",
    "def standardize(X):\n",
    "    scaler = StandardScaler()\n",
    "    X_std = scaler.fit_transform(X)\n",
    "    return X_std\n",
    "\n",
    "# Standardize the features\n",
    "X_std = standardize(X)\n",
    "\n",
    "# Create the KNN classifier with k=5\n",
    "knn = KNeighborsClassifier(n_neighbors=5)\n",
    "\n",
    "# Train the KNN classifier on the standardized data\n",
    "knn.fit(X_std, y)\n",
    "\n",
    "# Predict the class labels for new data\n",
    "new_data = [[6.1, 3.1, 5.1, 1.9], [5.7, 2.8, 4.1, 1.3]]\n",
    "new_data_std = standardize(new_data)\n",
    "y_pred = knn.predict(new_data_std)\n",
    "\n",
    "print(\"Predicted class labels:\", y_pred)"
   ]
  },
  {
   "cell_type": "markdown",
   "id": "b7eccf61-ad2c-448e-b021-330b85c59ff5",
   "metadata": {},
   "source": [
    "# Answer 7\n",
    "\n"
   ]
  },
  {
   "cell_type": "code",
   "execution_count": 14,
   "id": "4400507b-3f86-4297-bc39-3437c21d5d1e",
   "metadata": {
    "tags": []
   },
   "outputs": [
    {
     "name": "stdout",
     "output_type": "stream",
     "text": [
      "Euclidean distance between x1 and x2: 4.003748243833521\n"
     ]
    }
   ],
   "source": [
    "from sklearn.datasets import load_iris\n",
    "import math\n",
    "\n",
    "# Load the iris dataset\n",
    "iris = load_iris()\n",
    "\n",
    "# Select two random data points from the dataset\n",
    "x1 = iris.data[0]\n",
    "x2 = iris.data[50]\n",
    "\n",
    "# Define a function to calculate the Euclidean distance\n",
    "def euclidean_distance(x1, x2):\n",
    "    distance = 0\n",
    "    for i in range(len(x1)):\n",
    "        distance += (x1[i] - x2[i])**2\n",
    "    distance = math.sqrt(distance)\n",
    "    return distance\n",
    "\n",
    "# Calculate the Euclidean distance between the two points\n",
    "distance = euclidean_distance(x1, x2)\n",
    "\n",
    "# Print the result\n",
    "print(\"Euclidean distance between x1 and x2:\", distance)"
   ]
  },
  {
   "cell_type": "markdown",
   "id": "2cc536f5-95b8-4738-8715-e7d5571f024a",
   "metadata": {},
   "source": [
    "# Answer 8\n",
    "\n"
   ]
  },
  {
   "cell_type": "code",
   "execution_count": 15,
   "id": "d39e0901-dd45-4d53-887f-b01dcc5b65c4",
   "metadata": {
    "tags": []
   },
   "outputs": [
    {
     "name": "stdout",
     "output_type": "stream",
     "text": [
      "Manhattan distance between x1 and x2: 6.7\n"
     ]
    }
   ],
   "source": [
    "from sklearn.datasets import load_iris\n",
    "\n",
    "# Load the iris dataset\n",
    "iris = load_iris()\n",
    "\n",
    "# Select two random data points from the dataset\n",
    "x1 = iris.data[0]\n",
    "x2 = iris.data[50]\n",
    "\n",
    "# Define a function to calculate the Manhattan distance\n",
    "def manhattan_distance(x1, x2):\n",
    "    distance = 0\n",
    "    for i in range(len(x1)):\n",
    "        distance += abs(x1[i] - x2[i])\n",
    "    return distance\n",
    "\n",
    "# Calculate the Manhattan distance between the two points\n",
    "distance = manhattan_distance(x1, x2)\n",
    "\n",
    "# Print the result\n",
    "print(\"Manhattan distance between x1 and x2:\", distance)"
   ]
  },
  {
   "cell_type": "code",
   "execution_count": null,
   "id": "95de7e7e-abf6-424d-87d9-f328db2662bd",
   "metadata": {},
   "outputs": [],
   "source": []
  }
 ],
 "metadata": {
  "kernelspec": {
   "display_name": "Python 3 (ipykernel)",
   "language": "python",
   "name": "python3"
  },
  "language_info": {
   "codemirror_mode": {
    "name": "ipython",
    "version": 3
   },
   "file_extension": ".py",
   "mimetype": "text/x-python",
   "name": "python",
   "nbconvert_exporter": "python",
   "pygments_lexer": "ipython3",
   "version": "3.11.4"
  }
 },
 "nbformat": 4,
 "nbformat_minor": 5
}
