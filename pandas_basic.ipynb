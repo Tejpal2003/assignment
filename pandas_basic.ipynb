{
 "cells": [
  {
   "cell_type": "code",
   "execution_count": 1,
   "id": "e6c71cce-01f6-4553-8d7e-56799d9220d3",
   "metadata": {},
   "outputs": [],
   "source": [
    "import pandas as pd"
   ]
  },
  {
   "cell_type": "code",
   "execution_count": 12,
   "id": "14d73f6f-87d9-468f-bc7a-b1e225719d38",
   "metadata": {},
   "outputs": [
    {
     "data": {
      "text/plain": [
       "0     4\n",
       "1     8\n",
       "2    15\n",
       "3    18\n",
       "4    23\n",
       "5    42\n",
       "dtype: int64"
      ]
     },
     "execution_count": 12,
     "metadata": {},
     "output_type": "execute_result"
    }
   ],
   "source": [
    "#ans1\n",
    "\n",
    "data=pd.Series([4,8,15,18,23,42])\n",
    "data\n"
   ]
  },
  {
   "cell_type": "code",
   "execution_count": 13,
   "id": "9029c310-0ea5-4f80-828c-df037b592820",
   "metadata": {},
   "outputs": [
    {
     "data": {
      "text/plain": [
       "pandas.core.series.Series"
      ]
     },
     "execution_count": 13,
     "metadata": {},
     "output_type": "execute_result"
    }
   ],
   "source": [
    "type(data)"
   ]
  },
  {
   "cell_type": "code",
   "execution_count": 14,
   "id": "a00d6bea-d786-4478-ae5e-9b61a0fa2da4",
   "metadata": {},
   "outputs": [
    {
     "data": {
      "text/plain": [
       "0     1\n",
       "1     2\n",
       "2     3\n",
       "3     4\n",
       "4     5\n",
       "5     6\n",
       "6     7\n",
       "7     8\n",
       "8     9\n",
       "9    10\n",
       "dtype: int64"
      ]
     },
     "execution_count": 14,
     "metadata": {},
     "output_type": "execute_result"
    }
   ],
   "source": [
    "#ans2\n",
    "\n",
    "list_1=[1,2,3,4,5,6,7,8,9,10]\n",
    "\n",
    "df=pd.Series(list_1)\n",
    "df\n"
   ]
  },
  {
   "cell_type": "code",
   "execution_count": 3,
   "id": "533dc6bd-3db6-44db-93d5-1fa9a916ccf2",
   "metadata": {},
   "outputs": [],
   "source": [
    "#ans3\n",
    "\n",
    "\n",
    "table=pd.DataFrame({'Name':['Alice','Bob','Claire'],'Age':[25,30,27],\"Gender\":['Female','Male','Female']})"
   ]
  },
  {
   "cell_type": "code",
   "execution_count": 4,
   "id": "1a08338d-7cb7-4b4b-9e20-06892a9f90bc",
   "metadata": {},
   "outputs": [
    {
     "data": {
      "text/html": [
       "<div>\n",
       "<style scoped>\n",
       "    .dataframe tbody tr th:only-of-type {\n",
       "        vertical-align: middle;\n",
       "    }\n",
       "\n",
       "    .dataframe tbody tr th {\n",
       "        vertical-align: top;\n",
       "    }\n",
       "\n",
       "    .dataframe thead th {\n",
       "        text-align: right;\n",
       "    }\n",
       "</style>\n",
       "<table border=\"1\" class=\"dataframe\">\n",
       "  <thead>\n",
       "    <tr style=\"text-align: right;\">\n",
       "      <th></th>\n",
       "      <th>Name</th>\n",
       "      <th>Age</th>\n",
       "      <th>Gender</th>\n",
       "    </tr>\n",
       "  </thead>\n",
       "  <tbody>\n",
       "    <tr>\n",
       "      <th>0</th>\n",
       "      <td>Alice</td>\n",
       "      <td>25</td>\n",
       "      <td>Female</td>\n",
       "    </tr>\n",
       "    <tr>\n",
       "      <th>1</th>\n",
       "      <td>Bob</td>\n",
       "      <td>30</td>\n",
       "      <td>Male</td>\n",
       "    </tr>\n",
       "    <tr>\n",
       "      <th>2</th>\n",
       "      <td>Claire</td>\n",
       "      <td>27</td>\n",
       "      <td>Female</td>\n",
       "    </tr>\n",
       "  </tbody>\n",
       "</table>\n",
       "</div>"
      ],
      "text/plain": [
       "     Name  Age  Gender\n",
       "0   Alice   25  Female\n",
       "1     Bob   30    Male\n",
       "2  Claire   27  Female"
      ]
     },
     "execution_count": 4,
     "metadata": {},
     "output_type": "execute_result"
    }
   ],
   "source": [
    "table"
   ]
  },
  {
   "cell_type": "markdown",
   "id": "a3a28607-0005-4b6a-b1b7-bc8ef7375f4b",
   "metadata": {},
   "source": [
    "ans4\n",
    "\n",
    "Pandas DataFrame is two-dimensional size-mutable, potentially heterogeneous tabular data structure with labeled axes (rows and columns). A Data frame is a two-dimensional data structure, i.e., data is aligned in a tabular fashion in rows and columns. Pandas DataFrame consists of three principal components, the data, rows, and columns.\n",
    "\n",
    "1. Series\n",
    "\n",
    "    1. Series is 1-Dimensional\n",
    "    2. In Series all elements have same data types.\n",
    "    3. Series is Immutable\n",
    "    \n",
    "2. Dataframe\n",
    "\n",
    "    1. Series is 2-Dimensional\n",
    "    2. Dataframe object can be difference data type.\n",
    "    3. Series is mutable"
   ]
  },
  {
   "cell_type": "code",
   "execution_count": 5,
   "id": "eff3388d-ff04-4483-b911-71842b613c3a",
   "metadata": {},
   "outputs": [],
   "source": [
    "#for example\n",
    "\n",
    "\n",
    "df=pd.DataFrame({\"Name\":[\"Tej pal\",'Abhishek','Suraj','Piyush'],\n",
    "                 \"Course\":[\"B.tech\",'B.tech','B.tech','B.pharma'],\n",
    "                \"Email\":[\"Tejpal@gmail.com\",'Abhishek@gmail.com','suraj@gmail.com','-']})"
   ]
  },
  {
   "cell_type": "code",
   "execution_count": 6,
   "id": "2e7b93ac-1c0f-4c10-bd70-29cf5569db17",
   "metadata": {},
   "outputs": [
    {
     "data": {
      "text/html": [
       "<div>\n",
       "<style scoped>\n",
       "    .dataframe tbody tr th:only-of-type {\n",
       "        vertical-align: middle;\n",
       "    }\n",
       "\n",
       "    .dataframe tbody tr th {\n",
       "        vertical-align: top;\n",
       "    }\n",
       "\n",
       "    .dataframe thead th {\n",
       "        text-align: right;\n",
       "    }\n",
       "</style>\n",
       "<table border=\"1\" class=\"dataframe\">\n",
       "  <thead>\n",
       "    <tr style=\"text-align: right;\">\n",
       "      <th></th>\n",
       "      <th>Name</th>\n",
       "      <th>Course</th>\n",
       "      <th>Email</th>\n",
       "    </tr>\n",
       "  </thead>\n",
       "  <tbody>\n",
       "    <tr>\n",
       "      <th>0</th>\n",
       "      <td>Tej pal</td>\n",
       "      <td>B.tech</td>\n",
       "      <td>Tejpal@gmail.com</td>\n",
       "    </tr>\n",
       "    <tr>\n",
       "      <th>1</th>\n",
       "      <td>Abhishek</td>\n",
       "      <td>B.tech</td>\n",
       "      <td>Abhishek@gmail.com</td>\n",
       "    </tr>\n",
       "    <tr>\n",
       "      <th>2</th>\n",
       "      <td>Suraj</td>\n",
       "      <td>B.tech</td>\n",
       "      <td>suraj@gmail.com</td>\n",
       "    </tr>\n",
       "    <tr>\n",
       "      <th>3</th>\n",
       "      <td>Piyush</td>\n",
       "      <td>B.pharma</td>\n",
       "      <td>-</td>\n",
       "    </tr>\n",
       "  </tbody>\n",
       "</table>\n",
       "</div>"
      ],
      "text/plain": [
       "       Name    Course               Email\n",
       "0   Tej pal    B.tech    Tejpal@gmail.com\n",
       "1  Abhishek    B.tech  Abhishek@gmail.com\n",
       "2     Suraj    B.tech     suraj@gmail.com\n",
       "3    Piyush  B.pharma                   -"
      ]
     },
     "execution_count": 6,
     "metadata": {},
     "output_type": "execute_result"
    }
   ],
   "source": [
    "df"
   ]
  },
  {
   "cell_type": "code",
   "execution_count": 8,
   "id": "284a9b9b-0905-413c-83e2-9ce22a06c61c",
   "metadata": {},
   "outputs": [],
   "source": [
    "s=pd.Series([1,2,3,4,5,6,7,8])"
   ]
  },
  {
   "cell_type": "code",
   "execution_count": 9,
   "id": "755e658e-a9ab-430f-abb1-afe8a4d4609d",
   "metadata": {},
   "outputs": [
    {
     "data": {
      "text/plain": [
       "0    1\n",
       "1    2\n",
       "2    3\n",
       "3    4\n",
       "4    5\n",
       "5    6\n",
       "6    7\n",
       "7    8\n",
       "dtype: int64"
      ]
     },
     "execution_count": 9,
     "metadata": {},
     "output_type": "execute_result"
    }
   ],
   "source": [
    "s"
   ]
  },
  {
   "cell_type": "markdown",
   "id": "bbde4ce2-2f80-40a9-8773-8235184dc4ec",
   "metadata": {},
   "source": [
    "ans5\n",
    "\n",
    "\n",
    "In pandas there are many function which are used to manipulate the data .\n",
    "\n",
    "for example-\n",
    "    1. read_csv\n",
    "    2. describe\n",
    "    3.  head\n",
    "    4. tail\n",
    "    5. dtypes"
   ]
  },
  {
   "cell_type": "code",
   "execution_count": 10,
   "id": "537e9e5a-381c-40e2-87e4-dd0e1315c086",
   "metadata": {},
   "outputs": [],
   "source": [
    "dt=pd.read_csv(\"Player_per.csv\")"
   ]
  },
  {
   "cell_type": "code",
   "execution_count": 11,
   "id": "3a8e9192-efd7-4aa2-866e-036044589e2d",
   "metadata": {},
   "outputs": [
    {
     "data": {
      "text/html": [
       "<div>\n",
       "<style scoped>\n",
       "    .dataframe tbody tr th:only-of-type {\n",
       "        vertical-align: middle;\n",
       "    }\n",
       "\n",
       "    .dataframe tbody tr th {\n",
       "        vertical-align: top;\n",
       "    }\n",
       "\n",
       "    .dataframe thead th {\n",
       "        text-align: right;\n",
       "    }\n",
       "</style>\n",
       "<table border=\"1\" class=\"dataframe\">\n",
       "  <thead>\n",
       "    <tr style=\"text-align: right;\">\n",
       "      <th></th>\n",
       "      <th>Unnamed: 0</th>\n",
       "      <th>Player</th>\n",
       "      <th>Span</th>\n",
       "      <th>Mat</th>\n",
       "      <th>Inns</th>\n",
       "      <th>NO</th>\n",
       "      <th>Runs</th>\n",
       "      <th>HS</th>\n",
       "      <th>Ave</th>\n",
       "      <th>BF</th>\n",
       "      <th>SR</th>\n",
       "      <th>100</th>\n",
       "      <th>50</th>\n",
       "      <th>0</th>\n",
       "      <th>4s</th>\n",
       "      <th>6s</th>\n",
       "    </tr>\n",
       "  </thead>\n",
       "  <tbody>\n",
       "    <tr>\n",
       "      <th>0</th>\n",
       "      <td>0</td>\n",
       "      <td>Shubman Gill (GT)</td>\n",
       "      <td>2023-2023</td>\n",
       "      <td>17</td>\n",
       "      <td>17</td>\n",
       "      <td>2</td>\n",
       "      <td>890</td>\n",
       "      <td>129</td>\n",
       "      <td>59.33</td>\n",
       "      <td>564</td>\n",
       "      <td>157.80</td>\n",
       "      <td>3</td>\n",
       "      <td>4</td>\n",
       "      <td>1</td>\n",
       "      <td>85</td>\n",
       "      <td>33</td>\n",
       "    </tr>\n",
       "    <tr>\n",
       "      <th>1</th>\n",
       "      <td>1</td>\n",
       "      <td>F du Plessis (RCB)</td>\n",
       "      <td>2023-2023</td>\n",
       "      <td>14</td>\n",
       "      <td>14</td>\n",
       "      <td>1</td>\n",
       "      <td>730</td>\n",
       "      <td>84</td>\n",
       "      <td>56.15</td>\n",
       "      <td>475</td>\n",
       "      <td>153.68</td>\n",
       "      <td>-</td>\n",
       "      <td>8</td>\n",
       "      <td>-</td>\n",
       "      <td>60</td>\n",
       "      <td>36</td>\n",
       "    </tr>\n",
       "    <tr>\n",
       "      <th>2</th>\n",
       "      <td>2</td>\n",
       "      <td>DP Conway (CSK)</td>\n",
       "      <td>2023-2023</td>\n",
       "      <td>16</td>\n",
       "      <td>15</td>\n",
       "      <td>2</td>\n",
       "      <td>672</td>\n",
       "      <td>92*</td>\n",
       "      <td>51.69</td>\n",
       "      <td>481</td>\n",
       "      <td>139.70</td>\n",
       "      <td>-</td>\n",
       "      <td>6</td>\n",
       "      <td>1</td>\n",
       "      <td>77</td>\n",
       "      <td>18</td>\n",
       "    </tr>\n",
       "    <tr>\n",
       "      <th>3</th>\n",
       "      <td>3</td>\n",
       "      <td>V Kohli (RCB)</td>\n",
       "      <td>2023-2023</td>\n",
       "      <td>14</td>\n",
       "      <td>14</td>\n",
       "      <td>2</td>\n",
       "      <td>639</td>\n",
       "      <td>101*</td>\n",
       "      <td>53.25</td>\n",
       "      <td>457</td>\n",
       "      <td>139.82</td>\n",
       "      <td>2</td>\n",
       "      <td>6</td>\n",
       "      <td>1</td>\n",
       "      <td>65</td>\n",
       "      <td>16</td>\n",
       "    </tr>\n",
       "    <tr>\n",
       "      <th>4</th>\n",
       "      <td>4</td>\n",
       "      <td>YBK Jaiswal (RR)</td>\n",
       "      <td>2023-2023</td>\n",
       "      <td>14</td>\n",
       "      <td>14</td>\n",
       "      <td>1</td>\n",
       "      <td>625</td>\n",
       "      <td>124</td>\n",
       "      <td>48.07</td>\n",
       "      <td>382</td>\n",
       "      <td>163.61</td>\n",
       "      <td>1</td>\n",
       "      <td>5</td>\n",
       "      <td>1</td>\n",
       "      <td>82</td>\n",
       "      <td>26</td>\n",
       "    </tr>\n",
       "  </tbody>\n",
       "</table>\n",
       "</div>"
      ],
      "text/plain": [
       "   Unnamed: 0              Player       Span  Mat  Inns  NO  Runs    HS  \\\n",
       "0           0   Shubman Gill (GT)  2023-2023   17    17   2   890   129   \n",
       "1           1  F du Plessis (RCB)  2023-2023   14    14   1   730    84   \n",
       "2           2     DP Conway (CSK)  2023-2023   16    15   2   672   92*   \n",
       "3           3       V Kohli (RCB)  2023-2023   14    14   2   639  101*   \n",
       "4           4    YBK Jaiswal (RR)  2023-2023   14    14   1   625   124   \n",
       "\n",
       "     Ave   BF      SR 100 50  0  4s  6s  \n",
       "0  59.33  564  157.80   3  4  1  85  33  \n",
       "1  56.15  475  153.68   -  8  -  60  36  \n",
       "2  51.69  481  139.70   -  6  1  77  18  \n",
       "3  53.25  457  139.82   2  6  1  65  16  \n",
       "4  48.07  382  163.61   1  5  1  82  26  "
      ]
     },
     "execution_count": 11,
     "metadata": {},
     "output_type": "execute_result"
    }
   ],
   "source": [
    "dt.head()"
   ]
  },
  {
   "cell_type": "markdown",
   "id": "de53a7ad-1aa7-43a6-9206-1ecff4369f33",
   "metadata": {},
   "source": [
    "ans6\n",
    "\n",
    "\n",
    "In Dataframe,Series,Panel  Dataframe are Mutable.\n",
    "\n",
    "In DataFrame we can add new colums and drop a coluns and many operation."
   ]
  },
  {
   "cell_type": "code",
   "execution_count": 14,
   "id": "2295d253-b9c9-47cb-95be-71723f7c5926",
   "metadata": {},
   "outputs": [],
   "source": [
    "#for example\n",
    "dt[\"new_col\"] = 0"
   ]
  },
  {
   "cell_type": "code",
   "execution_count": 16,
   "id": "543d87f4-0730-4e9e-928d-4aee9abf56ed",
   "metadata": {},
   "outputs": [
    {
     "data": {
      "text/html": [
       "<div>\n",
       "<style scoped>\n",
       "    .dataframe tbody tr th:only-of-type {\n",
       "        vertical-align: middle;\n",
       "    }\n",
       "\n",
       "    .dataframe tbody tr th {\n",
       "        vertical-align: top;\n",
       "    }\n",
       "\n",
       "    .dataframe thead th {\n",
       "        text-align: right;\n",
       "    }\n",
       "</style>\n",
       "<table border=\"1\" class=\"dataframe\">\n",
       "  <thead>\n",
       "    <tr style=\"text-align: right;\">\n",
       "      <th></th>\n",
       "      <th>Unnamed: 0</th>\n",
       "      <th>Player</th>\n",
       "      <th>Span</th>\n",
       "      <th>Mat</th>\n",
       "      <th>Inns</th>\n",
       "      <th>NO</th>\n",
       "      <th>Runs</th>\n",
       "      <th>HS</th>\n",
       "      <th>Ave</th>\n",
       "      <th>BF</th>\n",
       "      <th>SR</th>\n",
       "      <th>100</th>\n",
       "      <th>50</th>\n",
       "      <th>0</th>\n",
       "      <th>4s</th>\n",
       "      <th>6s</th>\n",
       "      <th>new_col</th>\n",
       "    </tr>\n",
       "  </thead>\n",
       "  <tbody>\n",
       "    <tr>\n",
       "      <th>0</th>\n",
       "      <td>0</td>\n",
       "      <td>Shubman Gill (GT)</td>\n",
       "      <td>2023-2023</td>\n",
       "      <td>17</td>\n",
       "      <td>17</td>\n",
       "      <td>2</td>\n",
       "      <td>890</td>\n",
       "      <td>129</td>\n",
       "      <td>59.33</td>\n",
       "      <td>564</td>\n",
       "      <td>157.80</td>\n",
       "      <td>3</td>\n",
       "      <td>4</td>\n",
       "      <td>1</td>\n",
       "      <td>85</td>\n",
       "      <td>33</td>\n",
       "      <td>0</td>\n",
       "    </tr>\n",
       "    <tr>\n",
       "      <th>1</th>\n",
       "      <td>1</td>\n",
       "      <td>F du Plessis (RCB)</td>\n",
       "      <td>2023-2023</td>\n",
       "      <td>14</td>\n",
       "      <td>14</td>\n",
       "      <td>1</td>\n",
       "      <td>730</td>\n",
       "      <td>84</td>\n",
       "      <td>56.15</td>\n",
       "      <td>475</td>\n",
       "      <td>153.68</td>\n",
       "      <td>-</td>\n",
       "      <td>8</td>\n",
       "      <td>-</td>\n",
       "      <td>60</td>\n",
       "      <td>36</td>\n",
       "      <td>0</td>\n",
       "    </tr>\n",
       "    <tr>\n",
       "      <th>2</th>\n",
       "      <td>2</td>\n",
       "      <td>DP Conway (CSK)</td>\n",
       "      <td>2023-2023</td>\n",
       "      <td>16</td>\n",
       "      <td>15</td>\n",
       "      <td>2</td>\n",
       "      <td>672</td>\n",
       "      <td>92*</td>\n",
       "      <td>51.69</td>\n",
       "      <td>481</td>\n",
       "      <td>139.70</td>\n",
       "      <td>-</td>\n",
       "      <td>6</td>\n",
       "      <td>1</td>\n",
       "      <td>77</td>\n",
       "      <td>18</td>\n",
       "      <td>0</td>\n",
       "    </tr>\n",
       "    <tr>\n",
       "      <th>3</th>\n",
       "      <td>3</td>\n",
       "      <td>V Kohli (RCB)</td>\n",
       "      <td>2023-2023</td>\n",
       "      <td>14</td>\n",
       "      <td>14</td>\n",
       "      <td>2</td>\n",
       "      <td>639</td>\n",
       "      <td>101*</td>\n",
       "      <td>53.25</td>\n",
       "      <td>457</td>\n",
       "      <td>139.82</td>\n",
       "      <td>2</td>\n",
       "      <td>6</td>\n",
       "      <td>1</td>\n",
       "      <td>65</td>\n",
       "      <td>16</td>\n",
       "      <td>0</td>\n",
       "    </tr>\n",
       "    <tr>\n",
       "      <th>4</th>\n",
       "      <td>4</td>\n",
       "      <td>YBK Jaiswal (RR)</td>\n",
       "      <td>2023-2023</td>\n",
       "      <td>14</td>\n",
       "      <td>14</td>\n",
       "      <td>1</td>\n",
       "      <td>625</td>\n",
       "      <td>124</td>\n",
       "      <td>48.07</td>\n",
       "      <td>382</td>\n",
       "      <td>163.61</td>\n",
       "      <td>1</td>\n",
       "      <td>5</td>\n",
       "      <td>1</td>\n",
       "      <td>82</td>\n",
       "      <td>26</td>\n",
       "      <td>0</td>\n",
       "    </tr>\n",
       "  </tbody>\n",
       "</table>\n",
       "</div>"
      ],
      "text/plain": [
       "   Unnamed: 0              Player       Span  Mat  Inns  NO  Runs    HS  \\\n",
       "0           0   Shubman Gill (GT)  2023-2023   17    17   2   890   129   \n",
       "1           1  F du Plessis (RCB)  2023-2023   14    14   1   730    84   \n",
       "2           2     DP Conway (CSK)  2023-2023   16    15   2   672   92*   \n",
       "3           3       V Kohli (RCB)  2023-2023   14    14   2   639  101*   \n",
       "4           4    YBK Jaiswal (RR)  2023-2023   14    14   1   625   124   \n",
       "\n",
       "     Ave   BF      SR 100 50  0  4s  6s  new_col  \n",
       "0  59.33  564  157.80   3  4  1  85  33        0  \n",
       "1  56.15  475  153.68   -  8  -  60  36        0  \n",
       "2  51.69  481  139.70   -  6  1  77  18        0  \n",
       "3  53.25  457  139.82   2  6  1  65  16        0  \n",
       "4  48.07  382  163.61   1  5  1  82  26        0  "
      ]
     },
     "execution_count": 16,
     "metadata": {},
     "output_type": "execute_result"
    }
   ],
   "source": [
    "dt.head()"
   ]
  },
  {
   "cell_type": "code",
   "execution_count": 17,
   "id": "2129181b-4a5d-4be0-96d3-8a5e9fefefc0",
   "metadata": {},
   "outputs": [],
   "source": [
    "#ans7\n",
    "\n",
    "s1=pd.Series([\"tej pal\",\"Abhishek\",'Suraj',\"Ram\",'Geeta','Seeta'])"
   ]
  },
  {
   "cell_type": "code",
   "execution_count": 18,
   "id": "0f8c21a9-ee6e-440e-a599-380acb7e7b40",
   "metadata": {},
   "outputs": [],
   "source": [
    "s2=pd.Series([18,20,17,10,29,23])"
   ]
  },
  {
   "cell_type": "code",
   "execution_count": 19,
   "id": "c9ea6588-0890-4519-bb0b-ce72503bfcee",
   "metadata": {},
   "outputs": [],
   "source": [
    "s3=pd.Series([\"M\",'M','M','M','F','F'])"
   ]
  },
  {
   "cell_type": "code",
   "execution_count": null,
   "id": "430a0b43-a0dd-470c-97db-a233f9535cad",
   "metadata": {},
   "outputs": [],
   "source": []
  }
 ],
 "metadata": {
  "kernelspec": {
   "display_name": "Python 3 (ipykernel)",
   "language": "python",
   "name": "python3"
  },
  "language_info": {
   "codemirror_mode": {
    "name": "ipython",
    "version": 3
   },
   "file_extension": ".py",
   "mimetype": "text/x-python",
   "name": "python",
   "nbconvert_exporter": "python",
   "pygments_lexer": "ipython3",
   "version": "3.10.8"
  }
 },
 "nbformat": 4,
 "nbformat_minor": 5
}
