{
 "cells": [
  {
   "cell_type": "markdown",
   "id": "1cf03238-37e4-4ddd-b5ea-c76dd49c2ad7",
   "metadata": {},
   "source": [
    "ans1\n",
    "\n",
    "\n",
    "APIs are ubiquitous, and all you have to do is pick up your smartphone to see them in action. APIs power everything from searching for the weather on Google to connecting with friends on Facebook, purchasing with PayPal, and communicating with a Twitter bot\n",
    "\n",
    "for example_\n",
    "\n",
    "facebook"
   ]
  },
  {
   "cell_type": "markdown",
   "id": "26108564-896f-4405-b4c3-e73b5da09fa8",
   "metadata": {},
   "source": [
    "ans2\n",
    "\n",
    "\n",
    "1. Advantages_of_API\n",
    "\n",
    "APIs increase business agility. By abstracting away the underlying complexity of a service and presenting it as a product, APIs give organizations secure access to data, services, and operating systems that drive innovation for internal partners and third-party consumers\n",
    "\n",
    "2. Disadvantages of API\n",
    "\n",
    "The disadvantages of application programming interfaces include: Implementing and providing API capabilities can be costly in terms of development times, ongoing maintenance requirements, and providing support\n",
    "\n",
    "\n"
   ]
  },
  {
   "cell_type": "markdown",
   "id": "639e0866-dbd5-4ba8-8704-b3a8d51d7fad",
   "metadata": {},
   "source": [
    "ans3\n",
    "\n",
    "\n",
    "A Web API is an application programming interface for the Web. A Browser API can extend the functionality of a web browser. A Server API can extend the functionality of a web server.\n",
    "\n",
    "\n",
    "\n",
    "API is an interface that exposes an application's data to outside software, whereas web applications are one type of API with stricter requirements."
   ]
  },
  {
   "cell_type": "markdown",
   "id": "22f3599e-86f7-4d1b-b554-a141b13486a1",
   "metadata": {},
   "source": [
    "ans4\n",
    "\n",
    "\n",
    "The SOAP approach is highly structured and uses XML data format. REST is more flexible and allows applications to exchange data in multiple formats\n",
    "\n",
    "SOAP is used only XML format data in web service, whereas JSON and other lightweight formats are not supported by it"
   ]
  },
  {
   "cell_type": "markdown",
   "id": "ef8f55bf-a209-44fd-93d9-e1ff0c67ee7a",
   "metadata": {},
   "source": [
    "ans5\n",
    "\n",
    "\n",
    "SOAP and REST are two internet data exchange mechanisms. For example, imagine that your internal accounts system shares data with your customer's accounting system to automate invoicing tasks. The two applications share data by using an API that defines communication rules. SOAP and REST are two different approaches to API design. The SOAP approach is highly structured and uses XML data format. REST is more flexible and allows applications to exchange data in multiple formats.\n",
    "\n"
   ]
  }
 ],
 "metadata": {
  "kernelspec": {
   "display_name": "Python 3 (ipykernel)",
   "language": "python",
   "name": "python3"
  },
  "language_info": {
   "codemirror_mode": {
    "name": "ipython",
    "version": 3
   },
   "file_extension": ".py",
   "mimetype": "text/x-python",
   "name": "python",
   "nbconvert_exporter": "python",
   "pygments_lexer": "ipython3",
   "version": "3.10.8"
  }
 },
 "nbformat": 4,
 "nbformat_minor": 5
}
