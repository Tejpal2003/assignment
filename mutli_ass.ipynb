{
 "cells": [
  {
   "cell_type": "markdown",
   "id": "5ced6d18-9df6-4d3e-91bc-c83a5e9f961f",
   "metadata": {},
   "source": [
    "# ans1"
   ]
  },
  {
   "cell_type": "markdown",
   "id": "b9654f88-770f-4c46-9a0a-6aa3a1b8f345",
   "metadata": {},
   "source": [
    "The threading module is a high-level implementation of multithreading used to deploy an application in Python. To use multithreading, we need to import the threading module in Python Program. A start() method is used to initiate the activity of a thread."
   ]
  },
  {
   "cell_type": "markdown",
   "id": "36d30041-410d-4d9e-9862-7df92ca0b31c",
   "metadata": {},
   "source": [
    "# ans2 \n",
    "\n",
    "Threading in python is used to run multiple threads (tasks, function calls) at the same time. Note that this does not mean that they are executed on different CPUs. Python threads will NOT make your program faster if it already uses 100 % CPU time. In that case, you probably want to look into parallel programming.\n"
   ]
  },
  {
   "cell_type": "markdown",
   "id": "7b2797d7-df99-4aa9-b95f-71a751a61de3",
   "metadata": {},
   "source": [
    "### threading.activeCount()\n",
    "\n",
    "Returns the number of thread objects that are active."
   ]
  },
  {
   "cell_type": "markdown",
   "id": "ecdbc7f4-785b-41b4-8b04-3124f764b65d",
   "metadata": {},
   "source": [
    "### threading.currentThread() \n",
    "\n",
    "Returns the number of thread objects in the caller's thread control."
   ]
  },
  {
   "cell_type": "markdown",
   "id": "fc965ab1-28ca-4724-a5f4-c8d7d6e48ee6",
   "metadata": {},
   "source": [
    "### threading.enumerate() \n",
    "\n",
    "\n",
    "Returns a list of all thread objects that are currently active."
   ]
  },
  {
   "cell_type": "markdown",
   "id": "cc6a8a63-6c8c-4c26-935a-40474fbf0208",
   "metadata": {},
   "source": [
    "# ans3"
   ]
  },
  {
   "cell_type": "markdown",
   "id": "fbb0f30c-9668-4750-a963-180eb6459cad",
   "metadata": {},
   "source": [
    "### run()  \n",
    "\n",
    "The run() method is the entry point for a thread.\n",
    "### start()  \n",
    "\n",
    "The start() method starts a thread by calling the run method.\n",
    "### join([time]) \n",
    "\n",
    "The join() waits for threads to terminate.\n",
    "### isAlive()  \n",
    "\n",
    "The isAlive() method checks whether a thread is still executing."
   ]
  },
  {
   "cell_type": "markdown",
   "id": "61a27d59-bed8-4d8a-9d37-70df39e5e60f",
   "metadata": {},
   "source": [
    "# ans4\n"
   ]
  },
  {
   "cell_type": "code",
   "execution_count": 1,
   "id": "b618f878-1f15-4a05-a776-93a9ffff67db",
   "metadata": {},
   "outputs": [
    {
     "name": "stdout",
     "output_type": "stream",
     "text": [
      "[1, 4, 9, 16, 25, 36, 49, 64, 81, 100]\n",
      "[3, 6, 9, 12, 15, 18, 21, 24, 27, 30]\n"
     ]
    }
   ],
   "source": [
    "\n",
    "import threading\n",
    "\n",
    "class Square_Cube:\n",
    "\n",
    "    def __init__(self,lis):\n",
    "        self.lis=lis\n",
    "    \n",
    "    def Square(self):\n",
    "        list1=[]\n",
    "        for i in self.lis:\n",
    "            square=i*i\n",
    "            list1.append(square)\n",
    "        print(list1)\n",
    "    def Cube(self):\n",
    "        list2=[]\n",
    "        for i in self.lis:\n",
    "            cube=i*3\n",
    "            list2.append(cube)\n",
    "        print(list2)\n",
    "    \n",
    "obj=Square_Cube([1,2,3,4,5,6,7,8,9,10])\n",
    "t1=threading.Thread(target=obj.Square)\n",
    "t2=threading.Thread(target=obj.Cube)\n",
    "t1.start()\n",
    "t2.start()\n",
    "\n",
    "    \n"
   ]
  },
  {
   "cell_type": "markdown",
   "id": "83b9e8ee-2956-4282-afe3-4dbd7fed4c4a",
   "metadata": {},
   "source": [
    "# ans5\n",
    "\n",
    "### Advantage of Multithread\n",
    "\n",
    "n multithreading, the treads are able to share the resources and memory of any other process. Hence, multithreading allows any program or application to perform multiple tasks inside the same address space. There are two techniques to share resources namely, message passing and shared memory\n",
    "\n",
    "\n",
    "\n"
   ]
  },
  {
   "cell_type": "markdown",
   "id": "d33f0dd0-39f5-4c72-9641-6a7ff41ebe11",
   "metadata": {},
   "source": [
    "### Disadvantage of multithread"
   ]
  },
  {
   "cell_type": "markdown",
   "id": "27b58538-e005-447f-958c-59825ea4a914",
   "metadata": {},
   "source": [
    "\n",
    "\n",
    "\n",
    "Difficulty of writing code. Multithreaded and multicontexted applications are not easy to write. ...\n",
    "Difficulty of debugging. ...\n",
    "Difficulty of managing concurrency. ...\n",
    "Difficulty of testing. ...\n",
    "Difficulty of porting existing code."
   ]
  },
  {
   "cell_type": "markdown",
   "id": "b47f2225-ed92-4e00-ac6a-e4026b65914f",
   "metadata": {},
   "source": [
    "# Ans6\n",
    "\n",
    "### Race condition\n",
    "\n",
    "A race condition occurs when two threads access a shared variable at the same time. The first thread reads the variable, and the second thread reads the same value from the variable.\n",
    "\n",
    "### Deadlock condition \n",
    "\n",
    "Deadlock describes a condition in which two or more threads are blocked (hung) forever because they are waiting for each other. There are many causes of deadlocks. The Thread Analyzer detects deadlocks that are caused by the inappropriate use of mutual exclusion locks."
   ]
  },
  {
   "cell_type": "code",
   "execution_count": null,
   "id": "57faf115-4e64-494f-980d-d71cad1d5bc7",
   "metadata": {},
   "outputs": [],
   "source": []
  }
 ],
 "metadata": {
  "kernelspec": {
   "display_name": "Python 3 (ipykernel)",
   "language": "python",
   "name": "python3"
  },
  "language_info": {
   "codemirror_mode": {
    "name": "ipython",
    "version": 3
   },
   "file_extension": ".py",
   "mimetype": "text/x-python",
   "name": "python",
   "nbconvert_exporter": "python",
   "pygments_lexer": "ipython3",
   "version": "3.10.8"
  }
 },
 "nbformat": 4,
 "nbformat_minor": 5
}
