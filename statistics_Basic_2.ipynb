{
 "cells": [
  {
   "cell_type": "code",
   "execution_count": 1,
   "id": "222451d9-3dd3-4aae-9a53-88cbce46b539",
   "metadata": {},
   "outputs": [],
   "source": [
    "import numpy as np\n",
    "import statistics as s\n",
    "from scipy import stats as st"
   ]
  },
  {
   "cell_type": "markdown",
   "id": "28d31e67-0c72-4cda-8159-cfbba2b09941",
   "metadata": {},
   "source": [
    "# ans1"
   ]
  },
  {
   "cell_type": "markdown",
   "id": "b278d13e-bf14-41be-b90e-a1cd94ad5988",
   "metadata": {},
   "source": [
    "## Type of measures of central tendency"
   ]
  },
  {
   "cell_type": "markdown",
   "id": "dda4ef05-6cc3-4156-a85f-20301352ca50",
   "metadata": {},
   "source": [
    "There are three type of measures of central tendency.\n",
    "\n",
    "    1. Mean\n",
    "    2. Median\n",
    "    3. mode"
   ]
  },
  {
   "cell_type": "markdown",
   "id": "27131d74-5a7a-4773-9e08-1380526d6268",
   "metadata": {},
   "source": [
    "# ans2"
   ]
  },
  {
   "cell_type": "markdown",
   "id": "5c61a0b4-2513-4e3d-aa66-d668e42dccd1",
   "metadata": {},
   "source": [
    "#### Difference between mean,median,mode"
   ]
  },
  {
   "cell_type": "markdown",
   "id": "f776b249-88e8-4990-843a-4097ccf0f007",
   "metadata": {},
   "source": [
    "##### Mean"
   ]
  },
  {
   "cell_type": "markdown",
   "id": "99931721-825c-4519-be03-3604af4f5f0f",
   "metadata": {},
   "source": [
    "Mean is the average where the sumof all the numbers  is divided\n",
    "by the total number of numbers.\n"
   ]
  },
  {
   "cell_type": "code",
   "execution_count": 2,
   "id": "509b18b3-fe9f-46b6-8f48-4b390329af7e",
   "metadata": {},
   "outputs": [],
   "source": [
    "# for example\n",
    "\n",
    "arr=np.array([1,2,2,2,3,4,5,6,7,8,9,10,12,100])"
   ]
  },
  {
   "cell_type": "code",
   "execution_count": 3,
   "id": "0a976a70-b276-44d2-8f97-d90ebde2faec",
   "metadata": {},
   "outputs": [
    {
     "data": {
      "text/plain": [
       "array([  1,   2,   2,   2,   3,   4,   5,   6,   7,   8,   9,  10,  12,\n",
       "       100])"
      ]
     },
     "execution_count": 3,
     "metadata": {},
     "output_type": "execute_result"
    }
   ],
   "source": [
    "arr"
   ]
  },
  {
   "cell_type": "code",
   "execution_count": 4,
   "id": "7835727a-ded3-485e-ad6a-9ccfa7a72ab1",
   "metadata": {},
   "outputs": [
    {
     "data": {
      "text/plain": [
       "12.214285714285714"
      ]
     },
     "execution_count": 4,
     "metadata": {},
     "output_type": "execute_result"
    }
   ],
   "source": [
    "np.mean(arr)"
   ]
  },
  {
   "cell_type": "markdown",
   "id": "07e01f7b-00fd-41fc-abaf-bf45584434a4",
   "metadata": {},
   "source": [
    "### Meadian"
   ]
  },
  {
   "cell_type": "markdown",
   "id": "6c0e716a-bd23-44cc-8530-bb0fb57b2592",
   "metadata": {},
   "source": [
    "The median is the middle value in the list of given numbers\n",
    "numerically the ordered from smallest to biggest."
   ]
  },
  {
   "cell_type": "code",
   "execution_count": 5,
   "id": "aa78e712-bcd5-4a84-84ba-df8fb008db15",
   "metadata": {},
   "outputs": [
    {
     "data": {
      "text/plain": [
       "5.5"
      ]
     },
     "execution_count": 5,
     "metadata": {},
     "output_type": "execute_result"
    }
   ],
   "source": [
    "# for example\n",
    "\n",
    "np.median(arr)"
   ]
  },
  {
   "cell_type": "markdown",
   "id": "0dbfdfc2-d683-48ae-9a4b-854fdb9b6607",
   "metadata": {},
   "source": [
    "## mode"
   ]
  },
  {
   "cell_type": "markdown",
   "id": "7bd57510-400b-415f-b6a6-91e89999742c",
   "metadata": {},
   "source": [
    "Mode is the value of the number which occurs most often in the list"
   ]
  },
  {
   "cell_type": "code",
   "execution_count": 6,
   "id": "ca09d801-6b18-4f4e-a32e-924ce1f2906a",
   "metadata": {},
   "outputs": [
    {
     "data": {
      "text/plain": [
       "2"
      ]
     },
     "execution_count": 6,
     "metadata": {},
     "output_type": "execute_result"
    }
   ],
   "source": [
    "s.mode(arr)"
   ]
  },
  {
   "cell_type": "markdown",
   "id": "4bedc9ea-9696-4f42-86bf-428aa27f5411",
   "metadata": {},
   "source": [
    "# ans3"
   ]
  },
  {
   "cell_type": "code",
   "execution_count": 7,
   "id": "a76a3954-f930-4b59-b569-f45d0a826c74",
   "metadata": {},
   "outputs": [],
   "source": [
    "height=np.array([178,177,176,177,178.2,178,175,179,180,175,178.9,176.2,177,172.5,178,176.5])"
   ]
  },
  {
   "cell_type": "code",
   "execution_count": 8,
   "id": "c061889c-3019-4185-abf8-570270d29c44",
   "metadata": {},
   "outputs": [
    {
     "data": {
      "text/plain": [
       "array([178. , 177. , 176. , 177. , 178.2, 178. , 175. , 179. , 180. ,\n",
       "       175. , 178.9, 176.2, 177. , 172.5, 178. , 176.5])"
      ]
     },
     "execution_count": 8,
     "metadata": {},
     "output_type": "execute_result"
    }
   ],
   "source": [
    "height"
   ]
  },
  {
   "cell_type": "markdown",
   "id": "790de8b8-8d9d-441d-9e90-d2df6c683b16",
   "metadata": {},
   "source": [
    "# mean"
   ]
  },
  {
   "cell_type": "code",
   "execution_count": 9,
   "id": "69dbd20d-f8c9-4272-b2af-e99c264045af",
   "metadata": {},
   "outputs": [
    {
     "data": {
      "text/plain": [
       "177.01875"
      ]
     },
     "execution_count": 9,
     "metadata": {},
     "output_type": "execute_result"
    }
   ],
   "source": [
    "s.mean(height)"
   ]
  },
  {
   "cell_type": "markdown",
   "id": "e4340dee-c40b-47f0-857c-9b988c0de84b",
   "metadata": {},
   "source": [
    "# median"
   ]
  },
  {
   "cell_type": "code",
   "execution_count": 10,
   "id": "de4dbd33-79d0-4ef4-bcfd-5f7f53be45ce",
   "metadata": {},
   "outputs": [
    {
     "data": {
      "text/plain": [
       "177.0"
      ]
     },
     "execution_count": 10,
     "metadata": {},
     "output_type": "execute_result"
    }
   ],
   "source": [
    "s.median(height)"
   ]
  },
  {
   "cell_type": "markdown",
   "id": "eb54a85d-ed8c-4252-869b-578cf370d89d",
   "metadata": {},
   "source": [
    "# mode"
   ]
  },
  {
   "cell_type": "code",
   "execution_count": 11,
   "id": "b2e0b217-7078-4e5e-9b34-2e345341585d",
   "metadata": {},
   "outputs": [
    {
     "data": {
      "text/plain": [
       "178.0"
      ]
     },
     "execution_count": 11,
     "metadata": {},
     "output_type": "execute_result"
    }
   ],
   "source": [
    "s.mode(height)"
   ]
  },
  {
   "cell_type": "markdown",
   "id": "2a208927-17dc-4833-8e82-d1ec00a73593",
   "metadata": {},
   "source": [
    "# ans4"
   ]
  },
  {
   "cell_type": "code",
   "execution_count": 12,
   "id": "da7bb2c8-b8c8-4c35-a102-24d5f42333d8",
   "metadata": {},
   "outputs": [],
   "source": [
    "arr=np.array([178,177,176,177,178.2,178,175,179,180,175,178.9,176.2,177,172.5,178,176.5])"
   ]
  },
  {
   "cell_type": "code",
   "execution_count": 13,
   "id": "ed838eea-435d-4ef7-a75e-f023236bb9f3",
   "metadata": {},
   "outputs": [
    {
     "data": {
      "text/plain": [
       "array([178. , 177. , 176. , 177. , 178.2, 178. , 175. , 179. , 180. ,\n",
       "       175. , 178.9, 176.2, 177. , 172.5, 178. , 176.5])"
      ]
     },
     "execution_count": 13,
     "metadata": {},
     "output_type": "execute_result"
    }
   ],
   "source": [
    "arr"
   ]
  },
  {
   "cell_type": "code",
   "execution_count": 15,
   "id": "eb30254f-a913-40bc-a3bf-2cae6c45b646",
   "metadata": {},
   "outputs": [
    {
     "data": {
      "text/plain": [
       "1.8472389305844188"
      ]
     },
     "execution_count": 15,
     "metadata": {},
     "output_type": "execute_result"
    }
   ],
   "source": [
    "s.stdev(arr)"
   ]
  },
  {
   "cell_type": "markdown",
   "id": "1b8219dd-c9ce-4480-816b-77b1ecfd416e",
   "metadata": {},
   "source": [
    "# ans5"
   ]
  },
  {
   "cell_type": "markdown",
   "id": "aa72f7d8-f097-41ce-9144-ec69eee7d5d2",
   "metadata": {},
   "source": [
    "Measures of dispersion such as range, variance, and standard deviation are used to describe the spread or variability of a dataset. They give an idea of how spread out the data points are from the central tendency.\n",
    "\n",
    "## Range:\n",
    "The range is the difference between the maximum and minimum values in a dataset. It gives a rough estimate of the spread of the data. For example, if we have a dataset of test scores with a range of 40, we can say that the scores are spread out over a range of 40 points.\n",
    "\n",
    "## Variance:\n",
    "The variance is the average of the squared differences from the mean. It measures how much the data points deviate from the mean. A higher variance indicates a greater spread of the data. For example, if we have a dataset of the heights of students in a class with a variance of 4, we can say that the heights of the students are spread out over a range of 2 cm on either side of the mean.\n",
    "\n",
    "## Standard deviation:\n",
    "The standard deviation is the square root of the variance. It measures the spread of the data in the same units as the original data. A higher standard deviation indicates a greater spread of the data. For example, if we have a dataset of the weights of apples in a basket with a standard deviation of 2 kg, we can say that the weights of the apples are spread out over a range of 4 kg on either side of the mean.\n",
    "\n",
    "## As an example\n",
    "\n",
    ", consider the following dataset of test scores:\n",
    "\n",
    "[85, 90, 75, 80, 95, 70, 85, 90, 80, 75]\n",
    "\n",
    "The mean score is 82, and we can calculate the measures of dispersion as follows:\n",
    "\n",
    "Range: The range is the difference between the maximum and minimum values, which is 25 (95 - 70). Variance: The variance is the average of the squared differences from the mean, which is 62.5. Standard deviation: The standard deviation is the square root of the variance, which is approximately 7.91."
   ]
  },
  {
   "cell_type": "markdown",
   "id": "6e01117b-48ce-42f1-9a1d-228766a5c44c",
   "metadata": {},
   "source": [
    "# ans6"
   ]
  },
  {
   "cell_type": "markdown",
   "id": "b635b42e-f94d-4b19-a2ab-7e5a25f0bd01",
   "metadata": {},
   "source": [
    "### Venn diagram\n",
    "is a visual representation of the relationships between sets of data. It is a diagram that shows all possible logical relations between a finite collection of sets, often represented as circles that overlap or are disjoint. Venn diagrams are commonly used to illustrate simple set relationships in logic, statistics, probability, and computer science.\n",
    "\n",
    "In a Venn diagram, each circle represents a set, and the region where the circles overlap represents the intersection of those sets. The areas outside the circles represent the complement of those sets."
   ]
  },
  {
   "cell_type": "markdown",
   "id": "17ce56c5-324f-4208-99cb-eb08ea868faf",
   "metadata": {},
   "source": [
    "# ans7"
   ]
  },
  {
   "cell_type": "code",
   "execution_count": 16,
   "id": "c6ada86c-0e1b-4ce1-9dd0-4a8b70b12c4f",
   "metadata": {},
   "outputs": [],
   "source": [
    "A = {2, 3, 4, 5, 6, 7}\n",
    "B = {0, 2, 6, 8, 10}\n"
   ]
  },
  {
   "cell_type": "code",
   "execution_count": 17,
   "id": "e16ff241-8a8e-49fc-96bc-1791b488537a",
   "metadata": {},
   "outputs": [],
   "source": [
    "intersection=A.intersection(B)"
   ]
  },
  {
   "cell_type": "code",
   "execution_count": 18,
   "id": "f461dec9-0671-41bd-923d-32a404adfd4b",
   "metadata": {},
   "outputs": [
    {
     "data": {
      "text/plain": [
       "{2, 6}"
      ]
     },
     "execution_count": 18,
     "metadata": {},
     "output_type": "execute_result"
    }
   ],
   "source": [
    "intersection"
   ]
  },
  {
   "cell_type": "code",
   "execution_count": 19,
   "id": "082eff27-201b-40ba-90dc-7f66f51722c1",
   "metadata": {},
   "outputs": [],
   "source": [
    "union=A.union(B)"
   ]
  },
  {
   "cell_type": "code",
   "execution_count": 20,
   "id": "edf9adec-09ce-458a-a73e-6a8d222fa52d",
   "metadata": {},
   "outputs": [
    {
     "data": {
      "text/plain": [
       "{0, 2, 3, 4, 5, 6, 7, 8, 10}"
      ]
     },
     "execution_count": 20,
     "metadata": {},
     "output_type": "execute_result"
    }
   ],
   "source": [
    "union"
   ]
  },
  {
   "cell_type": "markdown",
   "id": "d025c4a3-b4aa-4180-aba6-7df080d59cad",
   "metadata": {},
   "source": [
    "# ans8"
   ]
  },
  {
   "cell_type": "markdown",
   "id": "fed48030-9bd3-4503-b76c-461b945f3270",
   "metadata": {},
   "source": [
    "In statistics, skewness is a measure of the asymmetry of a probability distribution. Skewness refers to the degree to which the data is not symmetrically distributed around the mean. It indicates whether the data is skewed to the left or to the right of the mean.\n",
    "\n",
    "If a distribution is symmetrical, then it has zero skewness. If the tail of the distribution is longer on the right side than on the left side, then the distribution is said to be positively skewed, and it has a positive skewness. On the other hand, if the tail of the distribution is longer on the left side than on the right side, then the distribution is said to be negatively skewed, and it has a negative skewness."
   ]
  },
  {
   "cell_type": "markdown",
   "id": "aecedef5-c676-4e18-ba44-e9bb6d31ad95",
   "metadata": {},
   "source": [
    "# ans9"
   ]
  },
  {
   "cell_type": "markdown",
   "id": "8d8550de-4f04-4503-b3b9-676605dcd9e9",
   "metadata": {},
   "source": [
    "If a data set is right-skewed, it means that the tail of the distribution is longer on the right side, and the data is concentrated on the left side of the distribution. In this case, the mean is greater than the median.\n",
    "\n",
    "To understand why this is the case, consider a right-skewed distribution like income. In this distribution, there are a small number of individuals who earn very high incomes, which pull the mean to the right. However, most people earn lower incomes, so the median is not as affected by the high earners and remains closer to the center of the distribution.\n",
    "\n",
    "Therefore, the median will be to the left of the mean in a right-skewed distribution."
   ]
  },
  {
   "cell_type": "markdown",
   "id": "1fa15a7c-359a-42c1-a0cc-b828342e22c0",
   "metadata": {},
   "source": [
    "# ans10"
   ]
  },
  {
   "cell_type": "markdown",
   "id": "c4cf3b06-957c-4c0d-96e7-a74756afcb56",
   "metadata": {},
   "source": [
    "Covariance and correlation are two statistical measures that are used to quantify the relationship between two variables.\n",
    "\n",
    "Covariance is a measure of how two variables vary together. It measures the degree to which two variables are linearly related. A positive covariance indicates that the two variables move in the same direction, while a negative covariance indicates that they move in opposite directions. However, the magnitude of covariance does not have a standardized scale and it can be affected by the scale of the variables being measured.\n",
    "\n",
    "Correlation, on the other hand, is a measure of the strength and direction of the linear relationship between two variables. Correlation ranges from -1 to +1, where -1 indicates a perfect negative correlation, 0 indicates no correlation, and +1 indicates a perfect positive correlation. Correlation is standardized, which means that it is not affected by the scale of the variables being measured.\n",
    "\n",
    "In statistical analysis, covariance and correlation are used to assess the relationship between two variables. They help to identify patterns and trends in the data, and to determine the strength and direction of the relationship between the variables. They are also used to test hypotheses and to make predictions about the behavior of the variables."
   ]
  },
  {
   "cell_type": "markdown",
   "id": "ffdc7c39-83c0-4c49-a25e-f0e1fb592a66",
   "metadata": {},
   "source": [
    "# ans11"
   ]
  },
  {
   "cell_type": "markdown",
   "id": "34999f8e-6ac5-4653-9277-75274858d1a5",
   "metadata": {},
   "source": [
    "The formula for calculating the sample mean is:\n",
    "\n",
    "Sample Mean = (Sum of all observations) / (Number of observations) In other words, the sample mean is calculated by adding up all the values in a sample and dividing by the number of observations in the sample.\n",
    "\n",
    "Here is an example calculation:\n",
    "\n",
    "Suppose we have the following dataset: [4, 7, 9, 12, 15]\n",
    "\n",
    "To calculate the sample mean, we add up all the values and divide by the number of observations:\n",
    "\n",
    "Sample Mean = (4 + 7 + 9 + 12 + 15) / 5 = 47 / 5 = 9.4\n",
    "\n",
    "Therefore, the sample mean for this dataset is 9.4."
   ]
  },
  {
   "cell_type": "markdown",
   "id": "c5750605-2b9c-44e0-a86a-dcb9974d3c93",
   "metadata": {},
   "source": [
    "# ans12"
   ]
  },
  {
   "cell_type": "markdown",
   "id": "23ac9b53-50ea-4861-8fe1-2d879d1589d8",
   "metadata": {},
   "source": [
    "For a normal distribution, the measures of central tendency, namely the mean, median, and mode, are all equal. In other words, they have the same value.\n",
    "\n",
    "This is because a normal distribution is a symmetric distribution, with equal amounts of data on both sides of the mean. The median, which is the middle value of the dataset, is also the same as the mean in a normal distribution.\n",
    "\n",
    "Additionally, the mode, which is the value that occurs most frequently in the dataset, is also equal to the mean and median in a normal distribution.\n",
    "\n",
    "Therefore, for a normal distribution, the mean, median, and mode are all the same value, and they all represent the center or midpoint of the distribution."
   ]
  },
  {
   "cell_type": "markdown",
   "id": "fe1cd32c-0356-440b-885e-27411fea6a95",
   "metadata": {},
   "source": [
    "# ans 13"
   ]
  },
  {
   "cell_type": "markdown",
   "id": "b4189671-229f-4236-9070-fa82201f1003",
   "metadata": {},
   "source": [
    "Covariance and correlation are both statistical measures that describe the relationship between two variables, but they differ in several important ways.\n",
    "\n",
    "Range: The range of covariance is unbounded, which means it can take on any value. In contrast, the range of correlation is between -1 and +1.\n",
    "\n",
    "Standardization: Covariance is not standardized, which means it is affected by the scale of the variables being measured. Correlation, on the other hand, is standardized, which means it is not affected by the scale of the variables.\n",
    "\n",
    "Interpretation: Covariance measures the direction and strength of the linear relationship between two variables. A positive covariance indicates a positive relationship between the variables, while a negative covariance indicates a negative relationship. However, it does not provide any information about the strength of the relationship. Correlation, on the other hand, provides information about both the direction and strength of the linear relationship between two variables.\n",
    "\n",
    "Units: Covariance is measured in units that are the product of the units of the two variables being measured. Correlation is unitless."
   ]
  },
  {
   "cell_type": "markdown",
   "id": "df4bacfc-4102-403b-9e39-88b705f6d9ba",
   "metadata": {},
   "source": [
    "# ans 14"
   ]
  },
  {
   "cell_type": "markdown",
   "id": "4bad23e5-7ecd-40af-b166-7aef6f364a85",
   "metadata": {},
   "source": [
    "Outliers are data points that are significantly different from other observations in a dataset. Outliers can have a significant impact on measures of central tendency and dispersion.\n",
    "\n",
    "Measures of central tendency, such as the mean, are affected by outliers because they are calculated using all the data points in the dataset. If there are outliers present, they can significantly pull the mean in one direction or another, causing it to be an inaccurate representation of the center of the dataset.\n",
    "\n",
    "For example, suppose we have the following dataset: [2, 3, 4, 5, 6, 7, 100]. The mean of this dataset is (2+3+4+5+6+7+100) / 7 = 18.43. However, the outlier value of 100 is significantly larger than all the other values in the dataset, which makes the mean an inaccurate representation of the center of the dataset.\n",
    "\n",
    "Outliers can also affect measures of dispersion, such as the range, variance, and standard deviation. Outliers can increase the range of the dataset, which makes it difficult to interpret the spread of the data. Outliers can also increase the variance and standard deviation, which makes the spread of the data appear larger than it actually is.\n",
    "\n",
    "For example, suppose we have the following dataset: [2, 3, 4, 5, 6, 7, 100]. The range of this dataset is 98, which makes the spread of the data appear much larger than it actually is. The variance of this dataset is 1372.8, which is also significantly larger than it would be if the outlier were not present."
   ]
  },
  {
   "cell_type": "code",
   "execution_count": null,
   "id": "1660f329-3267-4917-bb71-90f3147a8f9d",
   "metadata": {},
   "outputs": [],
   "source": []
  }
 ],
 "metadata": {
  "kernelspec": {
   "display_name": "Python 3 (ipykernel)",
   "language": "python",
   "name": "python3"
  },
  "language_info": {
   "codemirror_mode": {
    "name": "ipython",
    "version": 3
   },
   "file_extension": ".py",
   "mimetype": "text/x-python",
   "name": "python",
   "nbconvert_exporter": "python",
   "pygments_lexer": "ipython3",
   "version": "3.10.8"
  }
 },
 "nbformat": 4,
 "nbformat_minor": 5
}
