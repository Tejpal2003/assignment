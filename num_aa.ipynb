{
 "cells": [
  {
   "cell_type": "code",
   "execution_count": 2,
   "id": "ee79a7ed-b6ee-4aeb-8961-23dc7ce159c3",
   "metadata": {},
   "outputs": [],
   "source": [
    "import numpy as np\n",
    "list_ = [ '1' , '2' , '3' , '4' , '5' ]\n",
    "array_list = np.array(object = list_)"
   ]
  },
  {
   "cell_type": "markdown",
   "id": "2d5a1aa3-5693-42ad-b3c9-75d7c97eb337",
   "metadata": {},
   "source": [
    "# ans1"
   ]
  },
  {
   "cell_type": "markdown",
   "id": "55a3443b-51d5-47e3-b330-14359113e20c",
   "metadata": {},
   "source": [
    "Yes there is a difference between list_ and array_list . list_ is a python list and array_list is a numpy\n",
    "array object."
   ]
  },
  {
   "cell_type": "code",
   "execution_count": 8,
   "id": "dfc5549f-6788-466a-9cc9-471793dda7df",
   "metadata": {},
   "outputs": [
    {
     "name": "stdout",
     "output_type": "stream",
     "text": [
      "<class 'numpy.ndarray'>\n"
     ]
    }
   ],
   "source": [
    "\n",
    "print(type(array_list))"
   ]
  },
  {
   "cell_type": "code",
   "execution_count": 6,
   "id": "38b3a18e-c5d6-41b1-8a5a-c84ed55049f3",
   "metadata": {},
   "outputs": [
    {
     "name": "stdout",
     "output_type": "stream",
     "text": [
      "<class 'list'>\n"
     ]
    }
   ],
   "source": [
    "print(type(list_))"
   ]
  },
  {
   "cell_type": "markdown",
   "id": "58700aa5-c25d-481b-9181-c2f46a5cd6fb",
   "metadata": {},
   "source": [
    "# ans2"
   ]
  },
  {
   "cell_type": "code",
   "execution_count": 9,
   "id": "9c5ff076-7fd4-4ebc-914b-2e2fde69395e",
   "metadata": {},
   "outputs": [
    {
     "name": "stdout",
     "output_type": "stream",
     "text": [
      "<class 'str'>\n",
      "<class 'str'>\n",
      "<class 'str'>\n",
      "<class 'str'>\n",
      "<class 'str'>\n"
     ]
    }
   ],
   "source": [
    "for i in list_:\n",
    "    print(type(i))"
   ]
  },
  {
   "cell_type": "code",
   "execution_count": 10,
   "id": "d235c474-32a5-4406-ae68-a2ba8ca2e8ac",
   "metadata": {},
   "outputs": [
    {
     "name": "stdout",
     "output_type": "stream",
     "text": [
      "<class 'numpy.str_'>\n",
      "<class 'numpy.str_'>\n",
      "<class 'numpy.str_'>\n",
      "<class 'numpy.str_'>\n",
      "<class 'numpy.str_'>\n"
     ]
    }
   ],
   "source": [
    "for i in array_list:\n",
    "    print(type(i))"
   ]
  },
  {
   "cell_type": "markdown",
   "id": "b1763ded-ea93-45e5-8789-4f43bca851e0",
   "metadata": {},
   "source": [
    "# ans3"
   ]
  },
  {
   "cell_type": "code",
   "execution_count": 22,
   "id": "5dda88f5-44c7-4add-ac17-3a2726230c9a",
   "metadata": {},
   "outputs": [],
   "source": [
    "array_list = np.array(object = list_, dtype = int)"
   ]
  },
  {
   "cell_type": "code",
   "execution_count": 23,
   "id": "034075ac-3399-4edc-978b-bfaa4b48b6cd",
   "metadata": {},
   "outputs": [
    {
     "name": "stdout",
     "output_type": "stream",
     "text": [
      "<class 'str'>\n",
      "<class 'str'>\n",
      "<class 'str'>\n",
      "<class 'str'>\n",
      "<class 'str'>\n"
     ]
    }
   ],
   "source": [
    "for i in list_:\n",
    "    print(type(i))"
   ]
  },
  {
   "cell_type": "code",
   "execution_count": null,
   "id": "89d41a91-6e68-47ed-b507-d0e5ad94320c",
   "metadata": {},
   "outputs": [
    {
     "name": "stdout",
     "output_type": "stream",
     "text": [
      "<class 'numpy.int64'>\n",
      "<class 'numpy.int64'>\n",
      "<class 'numpy.int64'>\n",
      "<class 'numpy.int64'>\n",
      "<class 'numpy.int64'>\n"
     ]
    }
   ],
   "source": [
    "for i in array_list:\n",
    "    print(type(i))"
   ]
  },
  {
   "cell_type": "code",
   "execution_count": null,
   "id": "761b6545-32ae-4281-a865-4af10e940208",
   "metadata": {},
   "outputs": [],
   "source": []
  },
  {
   "cell_type": "code",
   "execution_count": null,
   "id": "0435d214-76ff-42a8-a5fd-ec843c82900f",
   "metadata": {},
   "outputs": [],
   "source": []
  },
  {
   "cell_type": "code",
   "execution_count": null,
   "id": "c65adabe-8abf-4e56-acdd-95443f47fe37",
   "metadata": {},
   "outputs": [],
   "source": []
  },
  {
   "cell_type": "code",
   "execution_count": 25,
   "id": "393fcca5-1d64-4199-9858-f07b253a76ee",
   "metadata": {},
   "outputs": [],
   "source": [
    "\n",
    "\n",
    "\n",
    "import numpy as np\n",
    "num_list = [ [ 1 , 2 , 3 ] , [ 4 , 5 , 6 ] ]\n",
    "num_array = np.array(object = num_list)"
   ]
  },
  {
   "cell_type": "markdown",
   "id": "161226de-064e-4da5-a3b7-9270e4a76b3e",
   "metadata": {},
   "source": [
    "# ans4"
   ]
  },
  {
   "cell_type": "code",
   "execution_count": 20,
   "id": "c49b4752-b2d2-43af-8e62-bcaedf240b4b",
   "metadata": {},
   "outputs": [
    {
     "data": {
      "text/plain": [
       "6"
      ]
     },
     "execution_count": 20,
     "metadata": {},
     "output_type": "execute_result"
    }
   ],
   "source": [
    "np.size(num_array)"
   ]
  },
  {
   "cell_type": "code",
   "execution_count": 21,
   "id": "64590912-1de8-4678-8843-e682f9290480",
   "metadata": {},
   "outputs": [
    {
     "data": {
      "text/plain": [
       "(2, 3)"
      ]
     },
     "execution_count": 21,
     "metadata": {},
     "output_type": "execute_result"
    }
   ],
   "source": [
    "np.shape(num_array)"
   ]
  },
  {
   "cell_type": "markdown",
   "id": "9e94880c-b3be-433a-8f1a-afa5629e0062",
   "metadata": {},
   "source": [
    "# ans5"
   ]
  },
  {
   "cell_type": "code",
   "execution_count": 27,
   "id": "6d205c40-d79c-4f4e-a9a7-b049fed90160",
   "metadata": {},
   "outputs": [
    {
     "data": {
      "text/plain": [
       "array([[0., 0., 0.],\n",
       "       [0., 0., 0.],\n",
       "       [0., 0., 0.]])"
      ]
     },
     "execution_count": 27,
     "metadata": {},
     "output_type": "execute_result"
    }
   ],
   "source": [
    "zeros_matrix=np.zeros((3,3))\n",
    "zeros_matrix"
   ]
  },
  {
   "cell_type": "markdown",
   "id": "30c683eb-1d08-40e7-a7cf-3fa06cfd631d",
   "metadata": {},
   "source": [
    "# ans6"
   ]
  },
  {
   "cell_type": "code",
   "execution_count": 28,
   "id": "40a984c7-2aad-4db1-9b4b-821410e992aa",
   "metadata": {},
   "outputs": [
    {
     "data": {
      "text/plain": [
       "array([[1., 0., 0., 0., 0.],\n",
       "       [0., 1., 0., 0., 0.],\n",
       "       [0., 0., 1., 0., 0.],\n",
       "       [0., 0., 0., 1., 0.],\n",
       "       [0., 0., 0., 0., 1.]])"
      ]
     },
     "execution_count": 28,
     "metadata": {},
     "output_type": "execute_result"
    }
   ],
   "source": [
    "Identity_matrix=np.eye(5,5)\n",
    "Identity_matrix"
   ]
  },
  {
   "cell_type": "code",
   "execution_count": null,
   "id": "f41ee223-6d01-4c1b-be17-ef1e23bf2aa8",
   "metadata": {},
   "outputs": [],
   "source": []
  }
 ],
 "metadata": {
  "kernelspec": {
   "display_name": "Python 3 (ipykernel)",
   "language": "python",
   "name": "python3"
  },
  "language_info": {
   "codemirror_mode": {
    "name": "ipython",
    "version": 3
   },
   "file_extension": ".py",
   "mimetype": "text/x-python",
   "name": "python",
   "nbconvert_exporter": "python",
   "pygments_lexer": "ipython3",
   "version": "3.10.8"
  }
 },
 "nbformat": 4,
 "nbformat_minor": 5
}
