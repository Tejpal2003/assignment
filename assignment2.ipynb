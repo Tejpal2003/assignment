{
 "cells": [
  {
   "cell_type": "markdown",
   "id": "f68bf347-1a81-4114-936a-6baa415f951e",
   "metadata": {},
   "source": [
    "Ans1.  \n",
    "\n",
    "\n",
    "In Python comments are these lines that are ignored by the compiler during the execution.There are two types of comments in Python.\n",
    "1.\tSingle Line commet-  In python single lines comments are provided by using hash( # ).\n",
    "2.\tMultiline comment- In python multilines comment are provide using three single(‘’’) or double queots(“””).\n"
   ]
  },
  {
   "cell_type": "markdown",
   "id": "a4c02395-d930-414e-90d3-9d5a7cd6b80a",
   "metadata": {},
   "source": [
    "Ans2.\n",
    "\n",
    "\n",
    "\n",
    " Variable are the place name of memory that are hold the value of any types of value as – string,complex , Integer etc. \n",
    "In Python we can declare a variable by difining a name and assign a value using = sign.\n",
    "Example-\n",
    "my_list=[1,2,3,4,5,6,7,”Tej pal”]\n"
   ]
  },
  {
   "cell_type": "markdown",
   "id": "e37420e6-b9a4-446c-a8d9-20274dc14666",
   "metadata": {},
   "source": [
    "Ans3.\n",
    "Using  typecasting we can convert one data type to another.\n",
    "Example-\n",
    "\n"
   ]
  },
  {
   "cell_type": "code",
   "execution_count": 3,
   "id": "2e195ee3-fdf0-40c2-b82b-7be0a79f33e6",
   "metadata": {},
   "outputs": [],
   "source": [
    "age = '19'  # In this string are stored\n",
    "correct_age = int(age) # In this line we convert sring in Integer value."
   ]
  },
  {
   "cell_type": "markdown",
   "id": "797ae42d-a1e3-4540-84fe-b4f9581b647f",
   "metadata": {},
   "source": [
    "Ans4.\n",
    "\n",
    "To run Python scripts with the python command, you need to open a\n",
    "command-line and type in the word python , or python3 if you have\n",
    "both versions, followed by the path to your script"
   ]
  },
  {
   "cell_type": "code",
   "execution_count": 17,
   "id": "c6fc7384-1ca3-4d6e-8800-73f7ea438b4d",
   "metadata": {},
   "outputs": [
    {
     "name": "stdout",
     "output_type": "stream",
     "text": [
      "[2, 3]\n"
     ]
    }
   ],
   "source": [
    "#ans5\n",
    "\n",
    "my_list=[1,2,3,4,5]\n",
    "print(my_list[1:3])\n"
   ]
  },
  {
   "cell_type": "code",
   "execution_count": null,
   "id": "729ebcdc-d0b7-4333-9465-ccfe9a7a0be9",
   "metadata": {},
   "outputs": [],
   "source": [
    "Ans6. \n",
    "Numbers that are represented in form of a+bi is called Complex number.where a,b are the real number and i is an imaginary numbers.\n",
    "In python complex variable are represented in form of a+bj\n",
    "Example-  \n",
    "Complex_Num=5+9j\n"
   ]
  },
  {
   "cell_type": "code",
   "execution_count": null,
   "id": "e1d3931d-2145-4fe0-9103-0c6fd2fd4def",
   "metadata": {},
   "outputs": [],
   "source": []
  },
  {
   "cell_type": "code",
   "execution_count": 5,
   "id": "0a3628f2-8574-4a5f-b180-ec84d921e33c",
   "metadata": {},
   "outputs": [
    {
     "data": {
      "text/plain": [
       "float"
      ]
     },
     "execution_count": 5,
     "metadata": {},
     "output_type": "execute_result"
    }
   ],
   "source": [
    "#ans8\n",
    "\n",
    "price=1.23\n",
    "(type(price))"
   ]
  },
  {
   "cell_type": "code",
   "execution_count": 7,
   "id": "4c2ab9f1-a812-49d7-9386-dd49e3a8012e",
   "metadata": {},
   "outputs": [
    {
     "name": "stdout",
     "output_type": "stream",
     "text": [
      "Tej pal\n"
     ]
    }
   ],
   "source": [
    "#Ans9.\n",
    "\n",
    "name='Tej pal'\n",
    "print(name)\n"
   ]
  },
  {
   "cell_type": "code",
   "execution_count": 10,
   "id": "b4cdb067-2cfd-4b85-888c-cdceb6601dcd",
   "metadata": {},
   "outputs": [
    {
     "data": {
      "text/plain": [
       "'world'"
      ]
     },
     "execution_count": 10,
     "metadata": {},
     "output_type": "execute_result"
    }
   ],
   "source": [
    "#Ans10\n",
    "\n",
    "String='Hello, world'\n",
    "String[7:12]\n"
   ]
  },
  {
   "cell_type": "code",
   "execution_count": 15,
   "id": "b890fb3d-25bd-431f-a7f4-24300f2e7d88",
   "metadata": {},
   "outputs": [
    {
     "name": "stdout",
     "output_type": "stream",
     "text": [
      "Yes You are currently student\n"
     ]
    }
   ],
   "source": [
    "#Ans11.\n",
    "\n",
    "Is_student=True\n",
    "if(Is_student):\n",
    "    \n",
    "\tprint('Yes You are currently student')\n",
    "else:\t\n",
    "\tprint('You are not a student')\n"
   ]
  },
  {
   "cell_type": "code",
   "execution_count": null,
   "id": "cf76b5b4-94b7-460d-b8e6-e844c22d85cd",
   "metadata": {},
   "outputs": [],
   "source": []
  }
 ],
 "metadata": {
  "kernelspec": {
   "display_name": "Python 3 (ipykernel)",
   "language": "python",
   "name": "python3"
  },
  "language_info": {
   "codemirror_mode": {
    "name": "ipython",
    "version": 3
   },
   "file_extension": ".py",
   "mimetype": "text/x-python",
   "name": "python",
   "nbconvert_exporter": "python",
   "pygments_lexer": "ipython3",
   "version": "3.10.8"
  }
 },
 "nbformat": 4,
 "nbformat_minor": 5
}
