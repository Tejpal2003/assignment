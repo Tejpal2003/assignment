{
 "cells": [
  {
   "cell_type": "code",
   "execution_count": 1,
   "id": "d0b74c68-30bb-4a07-a61e-e56071a2b997",
   "metadata": {},
   "outputs": [],
   "source": [
    "#ans1\n",
    "\n",
    "\n",
    "\n",
    "l1 = [('Sachin Tendulkar', 34357), ('Ricky Ponting', 27483), ('Jack Kallis', 25534), ('Virat Kohli', 24936)]"
   ]
  },
  {
   "cell_type": "code",
   "execution_count": 3,
   "id": "a4c6c8ca-504b-4fab-b5b4-c76d1b3cde84",
   "metadata": {},
   "outputs": [],
   "source": [
    "l1.sort(key=lambda x:x[1])"
   ]
  },
  {
   "cell_type": "code",
   "execution_count": 4,
   "id": "89f38140-d167-45dc-904e-b8a0d048dc3e",
   "metadata": {},
   "outputs": [
    {
     "name": "stdout",
     "output_type": "stream",
     "text": [
      "[('Virat Kohli', 24936), ('Jack Kallis', 25534), ('Ricky Ponting', 27483), ('Sachin Tendulkar', 34357)]\n"
     ]
    }
   ],
   "source": [
    "print(l1)"
   ]
  },
  {
   "cell_type": "code",
   "execution_count": 10,
   "id": "e8a1aa86-afc5-415a-a247-e50134548927",
   "metadata": {},
   "outputs": [
    {
     "name": "stdout",
     "output_type": "stream",
     "text": [
      "[1, 4, 9, 16, 25, 36, 49, 64, 81, 100]\n"
     ]
    }
   ],
   "source": [
    "#ans2\n",
    "\n",
    "\n",
    "l2 = [1, 2, 3, 4, 5, 6, 7, 8, 9, 10]\n",
    "print(list(map(lambda x: x * x,l2)))"
   ]
  },
  {
   "cell_type": "code",
   "execution_count": 11,
   "id": "08271903-1a9f-4a5e-af6e-b7e3163a9619",
   "metadata": {},
   "outputs": [
    {
     "name": "stdout",
     "output_type": "stream",
     "text": [
      "('1', '2', '3', '4', '5', '6', '7', '8', '9', '10')\n"
     ]
    }
   ],
   "source": [
    "#ans3\n",
    "\n",
    "\n",
    "l3 = [1, 2, 3, 4, 5, 6, 7, 8, 9, 10]\n",
    "print(tuple(map(lambda x:str(x),l3)))"
   ]
  },
  {
   "cell_type": "code",
   "execution_count": 17,
   "id": "16c0f36c-e786-4583-a39a-dbc0266e8a5c",
   "metadata": {},
   "outputs": [
    {
     "name": "stdout",
     "output_type": "stream",
     "text": [
      "15511210043330985984000000\n"
     ]
    }
   ],
   "source": [
    "#ans4\n",
    "\n",
    "\n",
    "from functools import *\n",
    "l4 = list(range(1, 26))\n",
    "multi = reduce(lambda x, y: x * y, l4)\n",
    "print(multi)"
   ]
  },
  {
   "cell_type": "code",
   "execution_count": 19,
   "id": "885d9716-81f7-438c-9c11-7a0646180106",
   "metadata": {},
   "outputs": [
    {
     "name": "stdout",
     "output_type": "stream",
     "text": [
      "[6, 60, 90, 120]\n"
     ]
    }
   ],
   "source": [
    "#ans5\n",
    "\n",
    "\n",
    "l5 = [2, 3, 6, 9, 27, 60, 90, 120, 55, 46]\n",
    "print(list(filter(lambda x:x%2==0 and x%3==0,l5)))"
   ]
  },
  {
   "cell_type": "code",
   "execution_count": 21,
   "id": "766ca1e0-d917-4c73-ba5d-0aeba78c5fa0",
   "metadata": {},
   "outputs": [
    {
     "name": "stdout",
     "output_type": "stream",
     "text": [
      "['php', 'aba', 'radar', 'level']\n"
     ]
    }
   ],
   "source": [
    "l6 = ['python', 'php', 'aba', 'radar', 'level']\n",
    "print(list(filter(lambda x:x==x[::-1],l6)))"
   ]
  },
  {
   "cell_type": "code",
   "execution_count": null,
   "id": "52a8da2d-afdd-4ef5-b4cf-2042812cf151",
   "metadata": {},
   "outputs": [],
   "source": []
  }
 ],
 "metadata": {
  "kernelspec": {
   "display_name": "Python 3 (ipykernel)",
   "language": "python",
   "name": "python3"
  },
  "language_info": {
   "codemirror_mode": {
    "name": "ipython",
    "version": 3
   },
   "file_extension": ".py",
   "mimetype": "text/x-python",
   "name": "python",
   "nbconvert_exporter": "python",
   "pygments_lexer": "ipython3",
   "version": "3.10.8"
  }
 },
 "nbformat": 4,
 "nbformat_minor": 5
}
