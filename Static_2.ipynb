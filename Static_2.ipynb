{
 "cells": [
  {
   "cell_type": "markdown",
   "id": "84583ce1-a0f7-484b-b625-86aee213a6b0",
   "metadata": {},
   "source": [
    "# Answer 1\n",
    "\n",
    "Probability Mass Function (PMF) and Probability Density Function (PDF) are two fundamental concepts in probability theory and statistics used to describe the probability distribution of a random variable.\n",
    "\n",
    "Probability Mass Function (PMF):\n",
    "The PMF is a function that maps each possible value of a discrete random variable to its probability of occurrence. It represents the probability that a random variable takes a certain value. The sum of probabilities of all possible values of the random variable is equal to 1. The PMF is defined as:\n",
    "\n",
    "PMF(x) = P(X = x)\n",
    "\n",
    "where X is a random variable, x is a possible value that X can take, and P(X = x) is the probability that X takes the value x.\n",
    "\n",
    "Example: Consider the roll of a fair six-sided die. The possible values that the die can take are 1, 2, 3, 4, 5, and 6, each with a probability of 1/6. The PMF of the random variable X, which represents the number on the top face of the die, is:\n",
    "\n",
    "PMF(1) = 1/6, PMF(2) = 1/6, PMF(3) = 1/6, PMF(4) = 1/6, PMF(5) = 1/6, PMF(6) = 1/6\n",
    "\n",
    "Probability Density Function (PDF):\n",
    "PDF is a function that describes the probability density of a continuous random variable. It represents the probability that a random variable falls within a certain range of values. The area under the curve of the PDF between any two points represents the probability that the random variable falls within that range. The integral of the PDF over the entire domain is equal to 1. The PDF is defined as:\n",
    "\n",
    "PDF(x) = dF(x)/dx\n",
    "\n",
    "Example: Consider a normal distribution with a mean of 0 and a standard deviation of 1. The PDF of the random variable X, which represents the values that X can take, is:\n",
    "\n",
    "PDF(x) = 1/(sqrt(2pi)) exp(-(x^2)/2)"
   ]
  },
  {
   "cell_type": "markdown",
   "id": "7998cf9a-d5be-442c-b976-c83d28c8d0ed",
   "metadata": {},
   "source": [
    "# Answer 2"
   ]
  },
  {
   "cell_type": "markdown",
   "id": "0a48c8fa-e8f0-4eef-9c9a-d3287c3e53b5",
   "metadata": {},
   "source": [
    "\n",
    "\n",
    "\n",
    "The Cumulative Distribution Function (CDF) is a fundamental concept in probability theory and statistics that describes the probability that a random variable takes a value less than or equal to a given value. It is defined for both discrete and continuous random variables.\n",
    "\n",
    "For a discrete random variable X, the CDF is defined as:\n",
    "\n",
    "F(x) = P(X ≤ x)\n",
    "\n",
    "where x is any real number, and P(X ≤ x) is the probability that X takes a value less than or equal to x.\n",
    "\n",
    "For a continuous random variable X, the CDF is defined as the integral of the PDF from negative infinity to x:\n",
    "\n",
    "F(x) = ∫{-∞, x} PDF(t) dt\n",
    "\n",
    "where PDF(x) is the Probability Density Function of X.\n",
    "\n",
    "Example: Consider the roll of a fair six-sided die. The possible values that the die can take are 1, 2, 3, 4, 5, and 6, each with a probability of 1/6.\n",
    "The CDF of the random variable X, which represents the number on the top face of the die, is:\n",
    "\n",
    "F(x) = P(X ≤ x)\n",
    "\n",
    "= 0 for x < 1\n",
    "= 1/6 for 1 ≤ x < 2\n",
    "= 2/6 for 2 ≤ x < 3\n",
    "= 3/6 for 3 ≤ x < 4\n",
    "= 4/6 for 4 ≤ x < 5\n",
    "= 5/6 for 5 ≤ x < 6\n",
    "= 1 for x ≥ 6"
   ]
  },
  {
   "cell_type": "markdown",
   "id": "6957eccc-a7ab-4efe-8fab-3c816958edef",
   "metadata": {},
   "source": [
    "# Answer 3\n",
    "\n",
    "Some examples of situations where the normal distribution might be used as a model include:\n",
    "\n",
    "Heights or weights of a population: The normal distribution can be used to model the distribution of heights or weights of a population.\n",
    "\n",
    "Test scores: The normal distribution can be used to model the distribution of test scores in a population.\n",
    "\n",
    "Measurement errors: The normal distribution can be used to model the distribution of errors in measurements, such as errors in laboratory measurements.\n",
    "\n",
    "Financial returns: The normal distribution can be used to model the distribution of financial returns, such as stock prices.\n",
    "Time taken to complete a task: The normal distribution can be used to model the distribution of time taken to complete a task, such as the time taken to fill an order in a factory.\n",
    "\n",
    "The normal distribution is a symmetric distribution, which means that the mean, median, and mode are all equal. The shape of the distribution is bell-shaped, and the total area under the curve is equal to 1. The standard normal distribution is a special case of the normal distribution with a mean of 0 and a standard deviation of 1.\n",
    "\n",
    "The normal distribution is often used as a model in statistical analysis because of its properties, such as the central limit theorem, which states that the sum of a large number of independent and identically distributed random variables will tend to a normal distribution."
   ]
  },
  {
   "cell_type": "markdown",
   "id": "84fcbe14-99fe-4867-90de-9089059fdab5",
   "metadata": {},
   "source": [
    "# Answer 4"
   ]
  },
  {
   "cell_type": "markdown",
   "id": "9bb2232d-e331-4681-9624-4816da80f265",
   "metadata": {},
   "source": [
    "The importance of the normal distribution can be explained as follows:\n",
    "\n",
    "Many natural phenomena follow a normal distribution: The normal distribution is observed in many natural phenomena, such as the heights and weights of a population, the measurement errors in laboratory experiments, the test scores of students, the time taken to complete a task, and many more.\n",
    "\n",
    "\n",
    "Statistical inference: The normal distribution is used extensively in statistical inference, which involves drawing conclusions about a population based on a sample of data. Many statistical tests, such as the t-test and ANOVA, assume that the data follow a normal distribution.\n",
    "\n",
    "\n",
    "Central limit theorem: The central limit theorem states that the sum of a large number of independent and identically distributed random variables will tend to a normal distribution, regardless of the distribution of the individual variables. This property makes the normal distribution a fundamental concept in probability theory and statistics.\n",
    "Some real-life examples of the normal distribution are:\n",
    "\n",
    "Heights of adults: The heights of adults in a population follow a normal distribution, with a mean of around 5 feet 7 inches and a standard deviation of around 3 inches.\n",
    "\n",
    "Test scores: The scores on a standardized test, such as the SAT or GRE, follow a normal distribution, with a mean of around 500-600 and a standard deviation of around 100-200.\n",
    "\n",
    "Body temperature: The body temperature of a healthy human follows a normal distribution, with a mean of around 98.6 degrees Fahrenheit and a standard deviation of around 0.5 degrees.\n",
    "\n",
    "IQ scores: The IQ scores of a population follow a normal distribution, with a mean of 100 and a standard deviation of 15.\n",
    "Stock market returns: The daily returns on the stock market follow a normal distribution, with a mean of around 0 and a standard deviation of around 1-2%."
   ]
  },
  {
   "cell_type": "markdown",
   "id": "f8699879-a94e-4f78-a099-0769a80a30b4",
   "metadata": {},
   "source": [
    "# Answer 5"
   ]
  },
  {
   "cell_type": "markdown",
   "id": "66e99008-4ab5-42d8-b63f-ae447fb18a9d",
   "metadata": {},
   "source": [
    "The Bernoulli distribution is a discrete probability distribution that models the outcome of a single binary event. It takes a single parameter p, which represents the probability of success for the event, and outputs a probability distribution for the event's outcomes.\n",
    "\n",
    "Example: Consider flipping a fair coin. The Bernoulli distribution models this as a binary event where the outcome is either heads or tails. If we define \"success\" as getting heads, then the probability of success is 0.5, and the probability of failure (getting tails) is also 0.5. The Bernoulli distribution would output a probability distribution where the probability of success is 0.5 and the probability of failure is 0.5.\n",
    "\n",
    "The key difference between the Bernoulli distribution and the binomial distribution is that the Bernoulli distribution models the outcome of a single event, while the binomial distribution models the number of successes in a fixed number of independent and identical Bernoulli trials. In other words, the binomial distribution is the sum of multiple independent Bernoulli random variables."
   ]
  },
  {
   "cell_type": "markdown",
   "id": "292fc4a7-94ac-49c9-a82c-d5bca167a6ce",
   "metadata": {},
   "source": [
    "# Answer 6"
   ]
  },
  {
   "cell_type": "markdown",
   "id": "be300479-0469-4dd6-a385-f4428c746818",
   "metadata": {},
   "source": [
    "We can use the z-table to solve this question.\n",
    "\n",
    "The appropriate formula to use is:\n",
    "z = (x - μ) / σ\n",
    "\n",
    "where x is the value of the observation you are interested in (in this case, x = 60), μ is the mean of the dataset, and σ is the standard deviation of the dataset.\n",
    "\n",
    "Substituting the values given in the question, we get:\n",
    "z = (60 - 50) / 10 = 1\n",
    "\n",
    "Now, we need to use the z-table to find the probability that a z-score is greater than 1.\n",
    "\n",
    "Using the z-table, we look up the probability corresponding to a z-score of 1.00 in the positive z-score column. The table tells us that the probability is 0.8413.\n",
    "\n",
    "The probabilty that we got from z-table is the probability of randomly selected number less than 60, because z-table gives us the probability of the values on the left side of 60. But we need the values on the right side (greater than 60) of 60. So we can get that probability by subtracting 0.8413 from 1 as:\n",
    "\n",
    "1 - 0.8413 = 0.1587"
   ]
  },
  {
   "cell_type": "markdown",
   "id": "22f57d23-a3d4-4c83-9e00-68898bed89cc",
   "metadata": {},
   "source": [
    "# Answer 7"
   ]
  },
  {
   "cell_type": "markdown",
   "id": "afd4c42a-30be-4a12-bcda-8234f27912d1",
   "metadata": {},
   "source": [
    "Uniform distribution, also known as a rectangular distribution, is a probability distribution where all possible outcomes are equally likely to occur. It is often used in statistics to model situations where each outcome is equally likely to occur, such as rolling a fair die or picking a card from a well-shuffled deck.\n",
    "\n",
    "Example:\n",
    "Rolling a fair six-sided die: When rolling the die, each face has an equal probability of showing up, which is 1/6 or approximately 0.1667. This means that any number between 1 and 6 is equally likely to be rolled, and the probability of rolling any particular number is 1/6.\n",
    "\n",
    "In the above examples, the probability density function of the uniform distribution is constant over the entire range of possible outcomes. That is, the probability of any particular outcome is proportional to the size of the range of possible outcomes."
   ]
  },
  {
   "cell_type": "markdown",
   "id": "7c628b73-2787-46d5-8f4e-ef94a73f2210",
   "metadata": {},
   "source": [
    "# Answer 8"
   ]
  },
  {
   "cell_type": "markdown",
   "id": "33d7ac46-9c9f-49f6-9523-a7b4031de032",
   "metadata": {},
   "source": [
    "The z-score is a statistical measure that expresses how far a data point is from the mean of a distribution in terms of standard deviations.\n",
    "\n",
    "The formula for calculating the z-score of a data point is:\n",
    "z = (x - μ) / σ\n",
    "where x is the data point, μ is the mean of the distribution, and σ is the standard deviation.\n",
    "\n",
    "Importance:\n",
    "\n",
    "The z-score is important because it allows us to standardize data from different distributions, which can then be compared and analyzed more easily. By converting data into z-scores, we can compare observations from different samples or populations and make meaningful statements about their relative positions.\n",
    "The z-score is also useful in hypothesis testing, where it is used to calculate the probability of observing a value as extreme as the one observed, assuming a certain null hypothesis."
   ]
  },
  {
   "cell_type": "markdown",
   "id": "ee9accda-c9a7-418e-8774-62433a77acf0",
   "metadata": {},
   "source": [
    "# Answer 9"
   ]
  },
  {
   "cell_type": "markdown",
   "id": "e4d36fb1-8d49-49dd-860d-1b0e9fd5a957",
   "metadata": {},
   "source": [
    "The Central Limit Theorem (CLT) is a fundamental result in probability theory and statistics that describes the behavior of the sum or average of a large number of independent and identically distributed random variables. It states that, under certain conditions, the sum or average of such variables will converge to a normal distribution, regardless of the distribution of the individual variables.\n",
    "\n",
    "The significance of the CLT is that it provides a theoretical foundation for many statistical techniques that assume normally distributed data. For example, many hypothesis tests and confidence intervals rely on the assumption of normality, which is often justified by the CLT.\n",
    "Additionally, the CLT is important in practical applications such as quality control, where it is often necessary to estimate the mean and variance of a population based on a sample."
   ]
  },
  {
   "cell_type": "markdown",
   "id": "7090e116-801d-4bf6-9789-766a5ec09b9d",
   "metadata": {},
   "source": [
    "# Answer10"
   ]
  },
  {
   "cell_type": "markdown",
   "id": "b5c5be4b-303b-41ce-aab3-bfe2e8278a1a",
   "metadata": {},
   "source": [
    "The assumptions of the Central Limit Theorem are:\n",
    "\n",
    "Independence: The observations in the sample are independent of each other, meaning that the outcome of one observation does not influence the outcome of another observation.\n",
    "\n",
    "Sample size: The sample size is sufficiently large. The larger the sample size, the better the approximation to the normal distribution.\n",
    "\n",
    "Identically distributed: The sample data comes from a population that has a well-defined mean and variance. The observations in the sample are identically distributed, meaning that they come from the same population.\n",
    "\n",
    "Finite variance: The population has a finite variance. This assumption ensures that the sample variance is also finite.\n",
    "\n",
    "Non-skewed population distribution: The population distribution is not strongly skewed. A strongly skewed population distribution can affect the validity of the Central Limit Theorem, and a larger sample size may be required to approximate a normal distribution."
   ]
  }
 ],
 "metadata": {
  "kernelspec": {
   "display_name": "Python 3 (ipykernel)",
   "language": "python",
   "name": "python3"
  },
  "language_info": {
   "codemirror_mode": {
    "name": "ipython",
    "version": 3
   },
   "file_extension": ".py",
   "mimetype": "text/x-python",
   "name": "python",
   "nbconvert_exporter": "python",
   "pygments_lexer": "ipython3",
   "version": "3.11.4"
  }
 },
 "nbformat": 4,
 "nbformat_minor": 5
}
