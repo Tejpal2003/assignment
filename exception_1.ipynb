{
 "cells": [
  {
   "cell_type": "markdown",
   "id": "edf0ef72-916e-441b-b391-4d7622a0c98f",
   "metadata": {},
   "source": [
    "Ans1\n",
    "\n",
    "Exception is an event which occurs during the execution of a program that disturbs normal flow of the program  instruction.\n",
    "An error is the issue of program that prevent the program from completion task. In comparison exception is the condition that interrupts the normal flow of the program."
   ]
  },
  {
   "cell_type": "markdown",
   "id": "88835d84-b17a-492d-929e-f2988236b4c1",
   "metadata": {},
   "source": [
    "Ans2\n",
    "\n",
    "\n",
    "When an exception occurred, if you don’t handle it, the program terminates abruptly and the code past the line that caused the exception will not get executed."
   ]
  },
  {
   "cell_type": "code",
   "execution_count": 1,
   "id": "2d2a9758-2e97-4daa-b700-81aacecdccc9",
   "metadata": {},
   "outputs": [
    {
     "name": "stdin",
     "output_type": "stream",
     "text": [
      "Enter a number 2\n",
      "Enter a number 0\n"
     ]
    },
    {
     "ename": "ZeroDivisionError",
     "evalue": "division by zero",
     "output_type": "error",
     "traceback": [
      "\u001b[0;31m---------------------------------------------------------------------------\u001b[0m",
      "\u001b[0;31mZeroDivisionError\u001b[0m                         Traceback (most recent call last)",
      "Cell \u001b[0;32mIn[1], line 6\u001b[0m\n\u001b[1;32m      3\u001b[0m num\u001b[38;5;241m=\u001b[39m\u001b[38;5;28mint\u001b[39m(\u001b[38;5;28minput\u001b[39m(\u001b[38;5;124m\"\u001b[39m\u001b[38;5;124mEnter a number\u001b[39m\u001b[38;5;124m\"\u001b[39m))\n\u001b[1;32m      4\u001b[0m num2\u001b[38;5;241m=\u001b[39m\u001b[38;5;28mint\u001b[39m(\u001b[38;5;28minput\u001b[39m(\u001b[38;5;124m\"\u001b[39m\u001b[38;5;124mEnter a number\u001b[39m\u001b[38;5;124m\"\u001b[39m))\n\u001b[0;32m----> 6\u001b[0m num3\u001b[38;5;241m=\u001b[39m\u001b[43mnum\u001b[49m\u001b[38;5;241;43m/\u001b[39;49m\u001b[43mnum2\u001b[49m\n\u001b[1;32m      7\u001b[0m \u001b[38;5;28mprint\u001b[39m(num3)\n\u001b[1;32m      8\u001b[0m \u001b[38;5;28mprint\u001b[39m(\u001b[38;5;124m\"\u001b[39m\u001b[38;5;124mthis is next line\u001b[39m\u001b[38;5;124m\"\u001b[39m)\n",
      "\u001b[0;31mZeroDivisionError\u001b[0m: division by zero"
     ]
    }
   ],
   "source": [
    "#for example\n",
    "\n",
    "num=int(input(\"Enter a number\"))\n",
    "num2=int(input(\"Enter a number\"))\n",
    "\n",
    "num3=num/num2\n",
    "print(num3)\n",
    "print(\"this is next line\")"
   ]
  },
  {
   "cell_type": "markdown",
   "id": "7c07ddd0-c28b-4b61-9250-efdb0efd49d8",
   "metadata": {},
   "source": [
    "#ans3\n",
    "\n",
    "\n",
    "In python try and exception statement are used to catch the exception and handle the exception. "
   ]
  },
  {
   "cell_type": "code",
   "execution_count": 2,
   "id": "2bfe5cb2-bc46-4852-ae50-75a3bbe86985",
   "metadata": {},
   "outputs": [
    {
     "name": "stdin",
     "output_type": "stream",
     "text": [
      "Enter a number 2\n",
      "Enter a number 0\n"
     ]
    },
    {
     "name": "stdout",
     "output_type": "stream",
     "text": [
      "division by zero\n",
      "this is next line\n"
     ]
    }
   ],
   "source": [
    "try:\n",
    "    num=int(input(\"Enter a number\"))\n",
    "    num2=int(input(\"Enter a number\"))\n",
    "\n",
    "    num3=num/num2\n",
    "    print(num3)\n",
    "except ZeroDivisionError as e:\n",
    "    print(e)\n",
    "print(\"this is next line\")"
   ]
  },
  {
   "cell_type": "code",
   "execution_count": 1,
   "id": "71c25300-f8e9-4fa8-93cb-8e3bd6d0381f",
   "metadata": {},
   "outputs": [
    {
     "name": "stdout",
     "output_type": "stream",
     "text": [
      "file created successfully\n"
     ]
    }
   ],
   "source": [
    "#ans2\n",
    "\n",
    "try:\n",
    "    data=open('error.txt','w')\n",
    "    data.write(\"This error file\")\n",
    "    data.close()\n",
    "except FileNotFoundError as e:\n",
    "    print(e)\n",
    "else:\n",
    "    print(\"file created successfully\")\n",
    "    "
   ]
  },
  {
   "cell_type": "code",
   "execution_count": 4,
   "id": "0ee6a726-e7af-4b9d-851c-b2715ed75175",
   "metadata": {},
   "outputs": [
    {
     "name": "stdout",
     "output_type": "stream",
     "text": [
      "[Errno 2] No such file or directory: 'error1.txt'\n",
      "this is finally statement\n"
     ]
    }
   ],
   "source": [
    "##finaly with example\n",
    "try:\n",
    "    data=open('error1.txt','r')\n",
    "    data.write(\"This error file\")\n",
    "    data.close()\n",
    "except FileNotFoundError as e:\n",
    "    print(e)\n",
    "finally:\n",
    "    print(\"this is finally statement\")"
   ]
  },
  {
   "cell_type": "markdown",
   "id": "a508292c-35d9-4bda-90a2-755434f61abe",
   "metadata": {},
   "source": [
    "raise with example\n",
    "\n",
    "raise statement are used to give an custom error in python"
   ]
  },
  {
   "cell_type": "code",
   "execution_count": 8,
   "id": "8b363e10-188a-4675-a773-ae85b89eb0a5",
   "metadata": {},
   "outputs": [
    {
     "name": "stdin",
     "output_type": "stream",
     "text": [
      "Enter  your age 0\n"
     ]
    },
    {
     "name": "stdout",
     "output_type": "stream",
     "text": [
      "enter age is negative\n"
     ]
    }
   ],
   "source": [
    "class validateage(Exception):\n",
    "\n",
    "    def __init__(self,msg):\n",
    "        self.msg=msg\n",
    "\n",
    "def validaetage(age):\n",
    "    if age<=0 :\n",
    "        raise validateage(\"enter age is negative\")\n",
    "    elif age>200:\n",
    "        raise validateage(\"Entered age is very very high\")\n",
    "    else:\n",
    "        print(\"age is valid\")\n",
    "\n",
    "try :\n",
    "    age = int(input(\"Enter  your age\"))\n",
    "    validaetage(age)\n",
    "except validateage as e:\n",
    "    print(e)"
   ]
  },
  {
   "cell_type": "markdown",
   "id": "723f8c5e-4bc1-4242-8fa3-3042f67dcae0",
   "metadata": {},
   "source": [
    "ans5\n",
    "\n",
    "\n",
    "custom error are the error that are provide by the user according him.custom error are usefull that not provide by the python."
   ]
  },
  {
   "cell_type": "code",
   "execution_count": 10,
   "id": "8fd4ae37-6abd-4df8-bb07-dc7676a0396f",
   "metadata": {},
   "outputs": [
    {
     "name": "stdin",
     "output_type": "stream",
     "text": [
      "Enter first number 12\n",
      "Enter first number tej\n"
     ]
    },
    {
     "name": "stdout",
     "output_type": "stream",
     "text": [
      "unsupported operand type(s) for +: 'int' and 'str'\n"
     ]
    }
   ],
   "source": [
    "try:\n",
    "    n1=int(input(\"Enter first number\"))\n",
    "    n2=input(\"Enter first number\")\n",
    "    n3=n1+n2\n",
    "    if  n2==str :\n",
    "        raise (\"int and str could not add\")\n",
    "    else:\n",
    "        print(\"Done\")\n",
    "except Exception as e:\n",
    "    print(e)\n",
    "    "
   ]
  },
  {
   "cell_type": "code",
   "execution_count": null,
   "id": "a70fe846-e785-42b5-802f-8e9781544ea8",
   "metadata": {},
   "outputs": [],
   "source": [
    "#ans6\n",
    "class validateage(Exception):\n",
    "\n",
    "    def __init__(self,msg):\n",
    "        self.msg=msg\n",
    "\n",
    "def validaetage(age):\n",
    "    if age<=0 :\n",
    "        raise validateage(\"enter age is negative\")\n",
    "    elif age>200:\n",
    "        raise validateage(\"Entered age is very very high\")\n",
    "    else:\n",
    "        print(\"age is valid\")\n",
    "\n",
    "try :\n",
    "    age = int(input(\"Enter  your age\"))\n",
    "    validaetage(age)\n",
    "except validateage as e:\n",
    "    print(e)"
   ]
  }
 ],
 "metadata": {
  "kernelspec": {
   "display_name": "Python 3 (ipykernel)",
   "language": "python",
   "name": "python3"
  },
  "language_info": {
   "codemirror_mode": {
    "name": "ipython",
    "version": 3
   },
   "file_extension": ".py",
   "mimetype": "text/x-python",
   "name": "python",
   "nbconvert_exporter": "python",
   "pygments_lexer": "ipython3",
   "version": "3.10.8"
  }
 },
 "nbformat": 4,
 "nbformat_minor": 5
}
