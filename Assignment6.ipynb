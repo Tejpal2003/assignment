{
 "cells": [
  {
   "cell_type": "markdown",
   "id": "e8d515d1-9a4e-4aea-94db-63e9380371f7",
   "metadata": {},
   "source": [
    "#ans1\n",
    "\n",
    "In python class is considered as a blueprint of  objects. we can thinks of the class as sketch of a car. which have many function and part . \n",
    "\n",
    "Object is an instance of class"
   ]
  },
  {
   "cell_type": "code",
   "execution_count": 1,
   "id": "0c24344d-988e-4764-8952-a397616d05fc",
   "metadata": {},
   "outputs": [
    {
     "data": {
      "text/plain": [
       "'This is a course object'"
      ]
     },
     "execution_count": 1,
     "metadata": {},
     "output_type": "execute_result"
    }
   ],
   "source": [
    "#for example\n",
    "\n",
    "\n",
    "#pwskills is a class\n",
    "class pwskills:\n",
    "    \n",
    "    #course is an object of class pwskills\n",
    "    def cousre(self):\n",
    "        return \"This is a course object\"\n",
    "    \n",
    "obj1=pwskills()\n",
    "obj1.cousre()\n",
    "\n"
   ]
  },
  {
   "cell_type": "markdown",
   "id": "64ed062c-8f17-4580-8fc1-ddc2f54be87b",
   "metadata": {},
   "source": [
    "#ans2\n",
    "\n",
    "The four pillars of OOPs (object-oriented programming) are data abstraction, encapsulation, inheritance, and polymorphism.\n",
    "\n",
    "\n",
    "\n"
   ]
  },
  {
   "cell_type": "markdown",
   "id": "7acccacf-ebad-458d-96dc-f13aea850375",
   "metadata": {},
   "source": [
    "ans3\n",
    "\n",
    "\n",
    "The __init__ method lets the class initialize the object's attributes and serves no other purpose. It is only used within classes"
   ]
  },
  {
   "cell_type": "code",
   "execution_count": 2,
   "id": "bfb97085-1df8-4629-a295-c8052a1582ac",
   "metadata": {},
   "outputs": [
    {
     "name": "stdout",
     "output_type": "stream",
     "text": [
      "['Tej pal', 9536419693, 'Tejp0058@gmail.com']\n"
     ]
    }
   ],
   "source": [
    "#for example\n",
    "\n",
    "\n",
    "class my_details:\n",
    "    \n",
    "    def __init__(self,name,MoB_number,email):\n",
    "        self.name=name\n",
    "        self.MoB_number=MoB_number\n",
    "        self.email=email\n",
    "        \n",
    "        \n",
    "    def details(self):\n",
    "        print([self.name,self.MoB_number,self.email])\n",
    "        \n",
    "obj2=my_details('Tej pal',9536419693,'Tejp0058@gmail.com')\n",
    "obj2.details()\n",
    "   "
   ]
  },
  {
   "cell_type": "markdown",
   "id": "4830588b-dc6b-4300-8f8f-be4e9b323e75",
   "metadata": {},
   "source": [
    "ans4\n",
    "\n",
    "\n",
    "The self variable is used to represent the instance of the class which is often used in object-oriented programming. It works as a reference to the object. Python uses the self parameter to refer to instance attributes and methods of the class."
   ]
  },
  {
   "cell_type": "markdown",
   "id": "bac9ad7e-5251-490f-abd4-10f95ce90673",
   "metadata": {},
   "source": [
    "ans5\n",
    "\n",
    "\n",
    "\n",
    "Inheritance is a mechanism that allows you to create a\n",
    "hierarchy of classes that share a set of properties and\n",
    "methods by deriving a class from another class"
   ]
  },
  {
   "cell_type": "code",
   "execution_count": 5,
   "id": "2c50311c-c593-428e-a030-d33af43f880c",
   "metadata": {},
   "outputs": [
    {
     "name": "stdout",
     "output_type": "stream",
     "text": [
      "Tej pal False\n",
      "TEj pal2 True\n"
     ]
    }
   ],
   "source": [
    "class Person(object):\n",
    " \n",
    "    # Constructor\n",
    "    def __init__(self, name):\n",
    "        self.name = name\n",
    " \n",
    "    # To get name\n",
    "    def getName(self):\n",
    "        return self.name\n",
    " \n",
    "    # To check if this person is an employee\n",
    "    def isEmployee(self):\n",
    "        return False\n",
    " \n",
    " \n",
    "# Inherited or Subclass (Note Person in bracket)\n",
    "class Employee(Person):\n",
    " \n",
    "    # Here we return true\n",
    "    def isEmployee(self):\n",
    "        return True\n",
    " \n",
    " \n",
    "# Driver code\n",
    "emp = Person(\"Tej pal\")  # An Object of Person\n",
    "print(emp.getName(), emp.isEmployee())\n",
    " \n",
    "emp = Employee(\"TEj pal2\")  # An Object of Employee\n",
    "print(emp.getName(), emp.isEmployee())"
   ]
  },
  {
   "cell_type": "code",
   "execution_count": null,
   "id": "d4e0442d-f9db-4718-9f4b-89bfa436fad8",
   "metadata": {},
   "outputs": [],
   "source": []
  }
 ],
 "metadata": {
  "kernelspec": {
   "display_name": "Python 3 (ipykernel)",
   "language": "python",
   "name": "python3"
  },
  "language_info": {
   "codemirror_mode": {
    "name": "ipython",
    "version": 3
   },
   "file_extension": ".py",
   "mimetype": "text/x-python",
   "name": "python",
   "nbconvert_exporter": "python",
   "pygments_lexer": "ipython3",
   "version": "3.10.8"
  }
 },
 "nbformat": 4,
 "nbformat_minor": 5
}
