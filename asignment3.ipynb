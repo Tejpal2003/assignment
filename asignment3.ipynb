{
 "cells": [
  {
   "cell_type": "markdown",
   "id": "7f062b77-4ba8-4b04-8386-c4ecc041bb14",
   "metadata": {},
   "source": [
    "Ans1. \n",
    "\n",
    "In python def keyboard are used to define a function."
   ]
  },
  {
   "cell_type": "code",
   "execution_count": 3,
   "id": "9e37872a-63ab-4b14-9868-5ae042f7626e",
   "metadata": {},
   "outputs": [
    {
     "name": "stdout",
     "output_type": "stream",
     "text": [
      "[1, 3, 5, 7, 9, 11, 13, 15, 17, 19, 21, 23, 25]\n"
     ]
    }
   ],
   "source": [
    "#function that return list of odd number between 1 to 25\n",
    "\n",
    "\n",
    "def listOdd():\n",
    "    list1=[]\n",
    "    for i in range(1,26):\n",
    "        if i%2!=0:\n",
    "            list1.append(i)\n",
    "    return list1\n",
    "odd=listOdd()\n",
    "print(odd)\n"
   ]
  },
  {
   "cell_type": "markdown",
   "id": "bcfdda0a-0def-4735-aeda-4ff001e1aee6",
   "metadata": {},
   "source": [
    "Ans2.\n",
    "\n",
    "1. In python *args used to pass non-keyboard , variable-length argument list. \n",
    "2. In python **kwargs used to pass  a keyworded, variable-length argument list."
   ]
  },
  {
   "cell_type": "code",
   "execution_count": 12,
   "id": "9d951931-093f-425d-bf50-92003ab487c7",
   "metadata": {},
   "outputs": [
    {
     "name": "stdout",
     "output_type": "stream",
     "text": [
      "55\n"
     ]
    }
   ],
   "source": [
    "# function to find sum of n number using *args\n",
    "\n",
    "def sumOff(*args):\n",
    "    s=0\n",
    "    for i in args:\n",
    "        s=s+i\n",
    "    return s\n",
    "to_sum=sumOff(1,2,3,4,5,6,7,8,9,10)\n",
    "print(to_sum)  "
   ]
  },
  {
   "cell_type": "code",
   "execution_count": 11,
   "id": "fbcc7a0f-052e-4465-baf3-6c6d692c5fa1",
   "metadata": {},
   "outputs": [
    {
     "name": "stdout",
     "output_type": "stream",
     "text": [
      "name-----Tej pal\n",
      "DoB-----07/03/2003\n",
      "gmail-----tejp0058@gmail.com\n"
     ]
    }
   ],
   "source": [
    "# function to understand **kwargs\n",
    "\n",
    "def det(**tej):\n",
    "    for key,values in tej.items():\n",
    "        print(\"%s-----%s\" %(key,values))\n",
    "    \n",
    "\n",
    "det(name='Tej pal' , DoB='07/03/2003', gmail='tejp0058@gmail.com')"
   ]
  },
  {
   "cell_type": "markdown",
   "id": "65e76c65-7a8b-4a4d-a6c0-9355a34ee4e3",
   "metadata": {},
   "source": [
    "Ans3.\n",
    "\n",
    "In Python, an iterator is an object that allows you to iterate over collections of data, such as lists, tuples, dictionaries, and sets."
   ]
  },
  {
   "cell_type": "code",
   "execution_count": 18,
   "id": "7a2b83fc-5f18-4eae-95de-2b0885ac9a6c",
   "metadata": {},
   "outputs": [
    {
     "name": "stdout",
     "output_type": "stream",
     "text": [
      "2\n",
      "4\n",
      "6\n",
      "8\n",
      "10\n"
     ]
    }
   ],
   "source": [
    "#program to find first five elements using itration mathed\n",
    "\n",
    "\n",
    "list1=[2, 4, 6, 8, 10, 12, 14,16, 18, 20]\n",
    "\n",
    "list2=iter(list1)\n",
    "print(next(list2))\n",
    "print(next(list2))\n",
    "print(next(list2))\n",
    "print(next(list2))\n",
    "print(next(list2))"
   ]
  },
  {
   "cell_type": "code",
   "execution_count": null,
   "id": "b05e979a-e518-4e21-ba47-5987194c0660",
   "metadata": {},
   "outputs": [],
   "source": [
    "Ans4.\n",
    "\n",
    "Generators are function that return a sequence of values. That use yield keyboard to return value."
   ]
  },
  {
   "cell_type": "code",
   "execution_count": null,
   "id": "a7e9cc31-b3e6-47ac-91ec-9a4b5582e2e5",
   "metadata": {},
   "outputs": [
    {
     "name": "stdout",
     "output_type": "stream",
     "text": [
      "0\n",
      "1\n",
      "1\n",
      "2\n",
      "3\n",
      "5\n",
      "8\n",
      "13\n",
      "21\n",
      "34\n"
     ]
    }
   ],
   "source": [
    "# generators function to find fibbonacci number\n",
    "\n",
    "def gen_fib(n):\n",
    "    a,b=0,1\n",
    "    for i in range(n):\n",
    "        yield a\n",
    "        a,b=b,a+b\n",
    "g=gen_fib(10)\n",
    "for i in g:\n",
    "    print(i)"
   ]
  },
  {
   "cell_type": "code",
   "execution_count": 4,
   "id": "91023d63-62fa-4dab-9d52-374bf75d5ae5",
   "metadata": {},
   "outputs": [
    {
     "name": "stdout",
     "output_type": "stream",
     "text": [
      "2\n",
      "3\n",
      "4\n",
      "5\n",
      "6\n"
     ]
    }
   ],
   "source": [
    "#Ans5\n",
    "\n",
    "\n",
    "def prime(n):\n",
    "    num=True\n",
    "    for i in range(2,n):\n",
    "        if n%i==0:\n",
    "            num=False\n",
    "        else:\n",
    "            num==True\n",
    "    yield num\n",
    "\n",
    "l2=[]\n",
    "s=2\n",
    "c=1\n",
    "while True:\n",
    "    if prime(s):\n",
    "        l2.append(s)\n",
    "        c+=1\n",
    "    s+=1\n",
    "    if c>1000:\n",
    "        break\n",
    "l3=iter(l2)\n",
    "print(next(l3))\n",
    "print(next(l3))\n",
    "print(next(l3))\n",
    "print(next(l3))\n",
    "print(next(l3))"
   ]
  },
  {
   "cell_type": "code",
   "execution_count": 8,
   "id": "ed0cd883-9c27-4695-9721-2a54b54c8f63",
   "metadata": {},
   "outputs": [],
   "source": [
    "#Ans6\n",
    "\n",
    "\n",
    "def gen_fib(n):\n",
    "    a,b=0,1\n",
    "    for i in range(n):\n",
    "        yield a\n",
    "        a,b=b,a+b\n",
    "g=gen_fib(10)\n",
    "i=1\n",
    "while i>=10:\n",
    "    print(i)\n",
    "    i+=1"
   ]
  },
  {
   "cell_type": "code",
   "execution_count": null,
   "id": "fde8397f-310a-4615-8a74-ec5755b40ce3",
   "metadata": {},
   "outputs": [],
   "source": []
  },
  {
   "cell_type": "code",
   "execution_count": null,
   "id": "787a3c3d-3d94-4bcd-babb-08cccfe76222",
   "metadata": {},
   "outputs": [],
   "source": []
  },
  {
   "cell_type": "code",
   "execution_count": 9,
   "id": "fd0c5a8f-a50e-4f8c-b644-efa63c199cd4",
   "metadata": {},
   "outputs": [
    {
     "name": "stdout",
     "output_type": "stream",
     "text": [
      "['p', 'w', 's', 'k', 'i', 'l', 'l', 's']\n"
     ]
    }
   ],
   "source": [
    "#ans7\n",
    "\n",
    "list1=\"pwskills\"\n",
    "new=[x for x in list1]\n",
    "print(new)"
   ]
  },
  {
   "cell_type": "code",
   "execution_count": 11,
   "id": "6e48ae90-3152-4219-9f2a-e7b2d1a86b1a",
   "metadata": {},
   "outputs": [
    {
     "name": "stdin",
     "output_type": "stream",
     "text": [
      "Enter a Number 121\n"
     ]
    },
    {
     "name": "stdout",
     "output_type": "stream",
     "text": [
      "121 is a polindrone number\n"
     ]
    }
   ],
   "source": [
    "#an\n",
    "\n",
    "n=int(input(\"Enter a Number\"))\n",
    "ans=0\n",
    "num=n\n",
    "while(n!=0):\n",
    "    digit=n%10\n",
    "    ans=(ans*10)+digit\n",
    "    n=int(n/10)\n",
    "if(num==ans):\n",
    "    print(ans ,\"is a polindrone number\")\n",
    "else:\n",
    "    print(ans ,\"is not polindrone number\")\n",
    "\n"
   ]
  },
  {
   "cell_type": "code",
   "execution_count": 12,
   "id": "3cb424a1-5c73-4e56-aeae-9c293e1d7389",
   "metadata": {},
   "outputs": [
    {
     "name": "stdout",
     "output_type": "stream",
     "text": [
      "[1, 3, 5, 7, 9, 11, 13, 15, 17, 19, 21, 23, 25, 27, 29, 31, 33, 35, 37, 39, 41, 43, 45, 47, 49, 51, 53, 55, 57, 59, 61, 63, 65, 67, 69, 71, 73, 75, 77, 79, 81, 83, 85, 87, 89, 91, 93, 95, 97, 99]\n"
     ]
    }
   ],
   "source": [
    "#ans9\n",
    "\n",
    "\n",
    "\n",
    "newsl=[i for i in range(0,101)]\n",
    "listc=[i for i in newsl if i%2!=0]\n",
    "print(listc)"
   ]
  },
  {
   "cell_type": "code",
   "execution_count": null,
   "id": "fe594c5f-98ed-4eab-b1a7-5cfa05b1f586",
   "metadata": {},
   "outputs": [],
   "source": []
  }
 ],
 "metadata": {
  "kernelspec": {
   "display_name": "Python 3 (ipykernel)",
   "language": "python",
   "name": "python3"
  },
  "language_info": {
   "codemirror_mode": {
    "name": "ipython",
    "version": 3
   },
   "file_extension": ".py",
   "mimetype": "text/x-python",
   "name": "python",
   "nbconvert_exporter": "python",
   "pygments_lexer": "ipython3",
   "version": "3.10.8"
  }
 },
 "nbformat": 4,
 "nbformat_minor": 5
}
