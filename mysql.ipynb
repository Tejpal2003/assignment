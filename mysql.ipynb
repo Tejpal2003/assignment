{
 "cells": [
  {
   "cell_type": "code",
   "execution_count": null,
   "id": "0678a1a5-7b84-49ab-838b-c67494d031a2",
   "metadata": {},
   "outputs": [],
   "source": []
  },
  {
   "cell_type": "markdown",
   "id": "52ec7d72-2e62-45a5-bb98-b5e2cfdad540",
   "metadata": {},
   "source": [
    "ans1\n",
    "\n",
    "\n",
    "\n",
    "\n",
    "A database is an organized collection of structured information, or data, typically stored electronically in a computer system. A database is usually controlled by a database management system (DBMS). Together, the data and the DBMS, along with the applications that are associated with them, are referred to as a database system, often shortened to just database\n",
    "\n",
    "\n",
    "\n",
    "SQL is best suitable for complex queries, multi-row transactions. NoSQL is best suited for unstructured data or documents."
   ]
  },
  {
   "cell_type": "code",
   "execution_count": null,
   "id": "3f230e96-0207-4923-84ef-85b208fa78f6",
   "metadata": {},
   "outputs": [],
   "source": []
  },
  {
   "cell_type": "markdown",
   "id": "064c6641-8b40-45d1-91c5-65034e31ea46",
   "metadata": {},
   "source": [
    "ans2\n",
    "\n",
    "\n",
    "Data Definition Language(DDL) commands in DBMS are used to define the database objects. We can create, delete and alter tables using DDL commands. Since a database structure is designed by DDL commands, they are called Data Definition Languages (DDLs). \n",
    "\n"
   ]
  },
  {
   "cell_type": "markdown",
   "id": "61692e7c-8cef-4953-9e26-dd529046f029",
   "metadata": {},
   "source": [
    "1. Create\n",
    "\n",
    "This command is used to create a new table in SQL. The user has to give information like table name, column names, and their datatypes"
   ]
  },
  {
   "cell_type": "markdown",
   "id": "96c7f715-c2b3-4d2a-8745-bf3cf1a3b98c",
   "metadata": {},
   "source": [
    "#for Example\n",
    "\n",
    "CREATE TABLE Student_info\n",
    "(\n",
    "College_Id number(2),\n",
    "College_name varchar(30),\n",
    "Branch varchar(10)\n",
    ");"
   ]
  },
  {
   "cell_type": "markdown",
   "id": "9bb82ee1-9e53-4157-be30-1ca9b07fba43",
   "metadata": {},
   "source": [
    "2. Drop\n",
    "\n",
    "This command is used to remove an existing table along with its structure from the Database.\n",
    "\n",
    "for example_\n",
    "\n",
    "DROP TABLE Student_info;\n"
   ]
  },
  {
   "cell_type": "markdown",
   "id": "7a2faa3c-fd01-45ab-858c-11e0e8026bb1",
   "metadata": {},
   "source": [
    "3. Alter\n",
    "\n",
    "\n",
    "This command is used to add, delete or change columns in the existing table. The user needs to know the existing table name and can do add, delete or modify tasks easily.\n",
    "\n",
    "\n",
    "ALTER TABLE Student_info\n",
    "ADD CGPA number;"
   ]
  },
  {
   "cell_type": "markdown",
   "id": "0c4a388f-a795-4891-8d0f-0ec2c2a5c85e",
   "metadata": {},
   "source": [
    "4. TRUNCATE\n",
    "\n",
    "This command is used to remove all rows from the table, but the structure of the table still exists.\n",
    "\n",
    "\n",
    "TRUNCATE TABLE Student_info;"
   ]
  },
  {
   "cell_type": "markdown",
   "id": "cacd615a-f596-42ca-86f4-ea7e0f5008f4",
   "metadata": {},
   "source": [
    "ans3\n",
    "\n",
    "\n",
    "\n",
    "DML is an abbreviation of Data Manipulation Language. The DML commands\n",
    "in Structured Query Language change the data present in the SQL database.\n",
    "We can easily access, store,\n",
    "modify, update and delete the existing records from the database using DML commands.\n",
    "\n",
    "\n"
   ]
  },
  {
   "cell_type": "markdown",
   "id": "01131d5e-96b0-43b8-97e1-50b96785ebf2",
   "metadata": {},
   "source": [
    "1.  INSERT COMMAND\n",
    "\n",
    "This command is used to enter the information or values into a row. We can connect one or more records to a single table within a repository using this instruction. This is often used to connect an unused tag to the documents.\n",
    "\n",
    "\n",
    "INSERT INTO students ('stu_id' int, 'stu_name' varchar(20), 'city' varchar(20))\n",
    "\n",
    "VALUES ('1', 'Nirmit', 'Gorakhpur'); "
   ]
  },
  {
   "cell_type": "markdown",
   "id": "31848237-c806-4e4c-afeb-16ae8555bc7b",
   "metadata": {},
   "source": [
    "2. UPDATE COMMAND\n",
    "\n",
    "\n",
    "This command is used to alter existing table records. Within a table, it modifies data from one or more records. This command is used to alter the data which is already present in a table.\n",
    "\n",
    "\n",
    "UPDATE students\n",
    "\n",
    "SET due_fees = 20000\n",
    "\n",
    "WHERE stu_name = 'Mini'; "
   ]
  },
  {
   "cell_type": "markdown",
   "id": "b2826c19-e729-4459-920e-f77277402426",
   "metadata": {},
   "source": [
    "3. DELETE COMMAND\n",
    "\n",
    "\n",
    "It deletes all archives from a table. This command is used to erase some or all of the previous table’s records. If we do not specify the ‘WHERE’ condition then all the rows would be erased or deleted.\n",
    "\n",
    "\n",
    "DELETE FROM students\n",
    "\n",
    "WHERE stu_id = '001'; "
   ]
  },
  {
   "cell_type": "markdown",
   "id": "9e0da371-4321-4b02-b059-24ab6319a7c8",
   "metadata": {},
   "source": [
    "ans4\n",
    "\n",
    "\n",
    "DQL statements are used for performing queries on the data within schema objects. The purpose of DQL commands is to get the schema relation based on the query passed to it\n"
   ]
  },
  {
   "cell_type": "markdown",
   "id": "8592ae3f-35a7-4562-9a95-81ead9dbe4fa",
   "metadata": {},
   "source": [
    "1. INSERT\n",
    "\n",
    "\n",
    "This command is used to get data out of the database. It helps users of the database to access from an operating system, the significant data they need. It sends a track result set from one tables or more.\n",
    "\n",
    "\n",
    "SELECT * \n",
    "FROM students;"
   ]
  },
  {
   "cell_type": "markdown",
   "id": "216a0b51-c005-482c-ade9-fdecfae62deb",
   "metadata": {},
   "source": [
    "ans5\n",
    "\n",
    "1. PRIMARY KEY\n",
    "\n",
    "The PRIMARY KEY constraint uniquely identifies each record in a table. Primary keys must contain UNIQUE values, and cannot contain NULL values. A table can have only ONE primary key; and in the table, this primary key can consist of single or multiple columns (fields).\n",
    "\n",
    "\n",
    "2. FOREIGN KEY\n",
    "\n",
    "A FOREIGN KEY is a field (or collection of fields) in one table, that refers to the PRIMARY KEY in another table. The table with the foreign key is called the child table, and the table with the primary key is called the referenced or parent table."
   ]
  },
  {
   "cell_type": "code",
   "execution_count": null,
   "id": "8d5c9e1a-144b-406e-af78-0fc01fbf6216",
   "metadata": {},
   "outputs": [],
   "source": [
    "#ans6\n",
    "\n",
    "\n",
    "import mysql.connector\n",
    "\n",
    "mydb=mysql.connector.connect(\n",
    "    host='localhost',\n",
    "    username='root',\n",
    "    password='Tejpal@123'\n",
    "\n",
    ")\n",
    "cur=mydb.cursor()"
   ]
  },
  {
   "cell_type": "markdown",
   "id": "886a0997-0fc7-45b7-a7ac-7776fc8ae5b4",
   "metadata": {},
   "source": [
    "A cursor is an object which helps to execute the query and fetch the records from the database. The cursor plays a very important role in executing the query"
   ]
  },
  {
   "cell_type": "markdown",
   "id": "98fc5f8f-3130-4425-b9b7-079db9db4245",
   "metadata": {},
   "source": [
    "ans7\n",
    "\n",
    "\n",
    "Query order of execution\n",
    "FROM and JOIN s. The FROM clause, and subsequent JOIN s are first executed to determine the total working set of data that is being queries\n",
    "WHERE.\n",
    "GROUP BY.\n",
    "HAVING.\n",
    "SELECT. \n",
    "DISTINCT. \n",
    "ORDER BY. \n",
    "LIMIT / OFFSET."
   ]
  },
  {
   "cell_type": "code",
   "execution_count": null,
   "id": "694e5e76-c20c-4ce3-9181-07a0d2dd2de5",
   "metadata": {},
   "outputs": [],
   "source": []
  }
 ],
 "metadata": {
  "kernelspec": {
   "display_name": "Python 3 (ipykernel)",
   "language": "python",
   "name": "python3"
  },
  "language_info": {
   "codemirror_mode": {
    "name": "ipython",
    "version": 3
   },
   "file_extension": ".py",
   "mimetype": "text/x-python",
   "name": "python",
   "nbconvert_exporter": "python",
   "pygments_lexer": "ipython3",
   "version": "3.10.8"
  }
 },
 "nbformat": 4,
 "nbformat_minor": 5
}
