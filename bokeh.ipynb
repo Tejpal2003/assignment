{
 "cells": [
  {
   "cell_type": "markdown",
   "id": "b3a6121c-9a56-42c8-b598-e9d25c3791bc",
   "metadata": {},
   "source": [
    "# Answer 1"
   ]
  },
  {
   "cell_type": "markdown",
   "id": "ebfd3cc3-79d4-4600-9553-e677e06f0219",
   "metadata": {},
   "source": [
    "Bokeh is a Python library for creating interactive visualizations in web browsers. Here are the basic steps for creating a Bokeh plot using Python code:\n",
    "\n",
    "Import the necessary Bokeh modules: bokeh.plotting and bokeh.io. Define the data you want to plot. This can be done using a Pandas DataFrame or a Python list, for example. Create a figure object using the figure() function from bokeh.plotting. This function takes various arguments to customize the plot, such as the plot width and height, x and y axis labels, etc. Add the desired glyphs (markers, lines, etc.) to the plot using one of the glyph methods such as circle(), line(), or rect() from the figure object. These methods take the data and the properties of the glyph as arguments. Add any desired interactive features to the plot such as tooltips, hover effects, and legends. Call the show() function from bokeh.io to display the plot in a web browser.\n",
    "\n"
   ]
  },
  {
   "cell_type": "code",
   "execution_count": 1,
   "id": "edd592e9-684a-46d5-afa3-0a617aa67273",
   "metadata": {
    "tags": []
   },
   "outputs": [],
   "source": [
    "import bokeh.plotting as bp\n",
    "import bokeh.io as bi\n",
    "import pandas as pd\n",
    "\n",
    "# Define some data to plot\n",
    "x = [1, 2, 3, 4, 5]\n",
    "y = [1, 4, 9, 16, 25]\n",
    "\n",
    "# Create a figure object\n",
    "fig = bp.figure(title='My Plot', x_axis_label='X', y_axis_label='Y')\n",
    "\n",
    "# Add a circle glyph to the plot\n",
    "fig.circle(x, y, size=10, color='navy', alpha=0.5)\n",
    "\n",
    "# Display the plot\n",
    "bi.show(fig)\n"
   ]
  },
  {
   "cell_type": "markdown",
   "id": "db45de32-ca91-4a0b-9b8b-cc0d4d45c0f3",
   "metadata": {},
   "source": [
    "# Answer 2"
   ]
  },
  {
   "cell_type": "markdown",
   "id": "b6eea9b6-710e-4633-9e8d-ff9e5ba5869d",
   "metadata": {},
   "source": [
    "Glyphs in Bokeh are the visual building blocks used to create plots. Glyphs represent the different shapes and markers used to display data points, such as circles, squares, lines, etc. Each glyph is defined by a set of properties, such as position, size, color, and transparency, which are used to customize its appearance.\n",
    "\n",
    "To add glyphs to a Bokeh plot, you need to create a figure object using the figure() function from bokeh.plotting, and then call one of the glyph methods such as circle(), line(), or rect() from the figure object. These methods take the data and the properties of the glyph as arguments."
   ]
  },
  {
   "cell_type": "code",
   "execution_count": 2,
   "id": "794fc5eb-7d07-4461-997e-cef8572cfe30",
   "metadata": {
    "tags": []
   },
   "outputs": [],
   "source": [
    "import bokeh.plotting as bp\n",
    "import bokeh.io as bi\n",
    "import pandas as pd\n",
    "\n",
    "# Load the iris dataset from Bokeh\n",
    "from bokeh.sampledata.iris import flowers as iris_data\n",
    "\n",
    "# Create a figure object\n",
    "fig = bp.figure(title='Iris Scatter Plot', x_axis_label='Petal Length',\n",
    "                y_axis_label='Petal Width')\n",
    "\n",
    "# Add a circle glyph to the plot\n",
    "fig.circle(x=iris_data[\"petal_length\"], y=iris_data[\"petal_width\"],\n",
    "           size=10, color='blue', alpha=0.5)\n",
    "\n",
    "# Display the plot\n",
    "bi.show(fig)"
   ]
  },
  {
   "cell_type": "markdown",
   "id": "ac696196-f576-4f03-8409-ad22b5f632f5",
   "metadata": {},
   "source": [
    "# Answer 4"
   ]
  },
  {
   "cell_type": "markdown",
   "id": "114b0cb6-6175-4212-8f74-33d90656c337",
   "metadata": {},
   "source": [
    "Bokeh provides a wide range of options to customize the appearance of a plot. Here are some of the ways to customize the appearance of a Bokeh plot:\n",
    "\n",
    "Title and Axis Labels: You can add a title and axis labels to your plot using the title, x_axis_label, and y_axis_label attributes of the figure object."
   ]
  },
  {
   "cell_type": "code",
   "execution_count": 3,
   "id": "607b0a91-a99b-4cde-80b4-9a3f1f341b6a",
   "metadata": {
    "tags": []
   },
   "outputs": [],
   "source": [
    "fig = bp.figure(title='My Plot', x_axis_label='X Axis', y_axis_label='Y Axis')"
   ]
  },
  {
   "cell_type": "markdown",
   "id": "5b04574f-a107-4e1a-9cd7-e6348c181b54",
   "metadata": {},
   "source": [
    "Axis Ticks and Labels: You can customize the axis ticks and labels using the major_label_text_font_size, axis_label_text_font_size, and major_tick_line_color attributes of the Axis class."
   ]
  },
  {
   "cell_type": "code",
   "execution_count": 4,
   "id": "11efcbff-97e1-41df-af65-fa26efd439d2",
   "metadata": {
    "tags": []
   },
   "outputs": [],
   "source": [
    "fig.xaxis.major_label_text_font_size = '14pt'\n",
    "fig.yaxis.major_label_text_font_size = '14pt'\n",
    "fig.xaxis.axis_label_text_font_size = '16pt'\n",
    "fig.yaxis.axis_label_text_font_size = '16pt'\n",
    "fig.xaxis.major_tick_line_color = 'red'\n",
    "fig.yaxis.major_tick_line_color = 'red'"
   ]
  },
  {
   "cell_type": "markdown",
   "id": "dd030221-9e4e-4386-8cc8-0396ba96f78d",
   "metadata": {},
   "source": [
    "Legend: You can add a legend to your plot using the legend attribute of the glyph methods. You can customize the location and title of the legend using the location and title attributes."
   ]
  },
  {
   "cell_type": "code",
   "execution_count": 5,
   "id": "fde2fdd3-2a10-4239-aaa0-75bbf5b309bc",
   "metadata": {
    "tags": []
   },
   "outputs": [],
   "source": [
    "fig.circle(x='x', y='y1', size=10, color='blue', legend_label='Series 1')\n",
    "fig.line(x='x', y='y2', line_width=2, color='red', legend_label='Series 2')\n",
    "fig.legend.location = 'top_left'\n",
    "fig.legend.title = 'Legend Title'"
   ]
  },
  {
   "cell_type": "markdown",
   "id": "4d98593e-3a11-48a5-972a-6362394d9add",
   "metadata": {},
   "source": [
    "Background: You can set the background color of your plot using the background_fill_color attribute of the figure object."
   ]
  },
  {
   "cell_type": "code",
   "execution_count": 6,
   "id": "6f401268-70fc-4913-b16f-0be7f3362ffe",
   "metadata": {
    "tags": []
   },
   "outputs": [],
   "source": [
    "fig.background_fill_color = '#f2f2f2'"
   ]
  },
  {
   "cell_type": "markdown",
   "id": "66fcd739-7c0b-4673-a333-46b071146bd5",
   "metadata": {},
   "source": [
    "Gridlines: You can customize the appearance of the gridlines using the grid_line_color and grid_line_alpha attributes of the figure object."
   ]
  },
  {
   "cell_type": "code",
   "execution_count": 7,
   "id": "5fcbec89-d34c-495d-8147-efa2ea40bf40",
   "metadata": {
    "tags": []
   },
   "outputs": [],
   "source": [
    "fig.grid.grid_line_color = 'white'\n",
    "fig.grid.grid_line_alpha = 0.5\n",
    "\n"
   ]
  },
  {
   "cell_type": "markdown",
   "id": "8eecbabe-18fb-40f1-a9be-4159e0dfebce",
   "metadata": {},
   "source": [
    "# Answer 4"
   ]
  },
  {
   "cell_type": "markdown",
   "id": "79ac7d91-3a48-4b10-a1c9-7caf47cad24c",
   "metadata": {},
   "source": [
    "Bokeh server is a Python library that allows you to create interactive Bokeh plots that can be updated in real-time. Bokeh server is built on top of Tornado, a scalable web framework for Python.\n",
    "\n",
    "To create an interactive plot using Bokeh server, you need to define your plot as a Bokeh Document object. The Document object contains all the Bokeh objects that make up your plot, such as figures, glyphs, and layouts. You can then add interactive widgets to your plot, such as sliders, buttons, and dropdown menus. The widgets are defined using Bokeh's models API and added to the Document.\n",
    "\n",
    "Once you have defined your plot and added interactive widgets, you can run the Bokeh server using the bokeh serve command. The Bokeh server creates a web application that serves your plot and widgets. When a user interacts with the widgets, the server updates the plot in real-time based on the user's input.\n",
    "\n",
    "Here is an example of how to create an interactive Bokeh plot using Bokeh server:"
   ]
  },
  {
   "cell_type": "code",
   "execution_count": 8,
   "id": "00cfaf18-67d8-4f83-be57-7a0ef1840e91",
   "metadata": {
    "tags": []
   },
   "outputs": [],
   "source": [
    "from bokeh.io import curdoc\n",
    "from bokeh.layouts import column\n",
    "from bokeh.models import ColumnDataSource, Slider\n",
    "from bokeh.plotting import figure\n",
    "\n",
    "# Define the data source\n",
    "source = ColumnDataSource(data=dict(x=[1, 2, 3], y=[1, 4, 9]))\n",
    "\n",
    "# Define the plot\n",
    "plot = figure(title='Interactive Plot', x_axis_label='X', y_axis_label='Y')\n",
    "plot.line('x', 'y', source=source, line_width=2)\n",
    "\n",
    "# Define the slider widget\n",
    "slider = Slider(title='Power', value=1, start=0.1, end=5, step=0.1)\n",
    "\n",
    "# Define the callback function\n",
    "def update_data(attrname, old, new):\n",
    "    new_y = [x**slider.value for x in source.data['x']]\n",
    "    source.data = dict(x=source.data['x'], y=new_y)\n",
    "\n",
    "slider.on_change('value', update_data)\n",
    "\n",
    "# Combine the plot and slider into a layout\n",
    "layout = column(plot, slider)\n",
    "\n",
    "# Add the layout to the current document\n",
    "curdoc().add_root(layout)"
   ]
  },
  {
   "cell_type": "code",
   "execution_count": null,
   "id": "8c0df432-bc9a-4ec1-8ce2-9c3ee6977ca1",
   "metadata": {
    "tags": []
   },
   "outputs": [
    {
     "name": "stdout",
     "output_type": "stream",
     "text": [
      " * Serving Flask app '__main__'\n",
      " * Debug mode: off\n"
     ]
    },
    {
     "name": "stderr",
     "output_type": "stream",
     "text": [
      "WARNING: This is a development server. Do not use it in a production deployment. Use a production WSGI server instead.\n",
      " * Running on http://127.0.0.1:5000\n",
      "Press CTRL+C to quit\n",
      "[2023-10-04 11:01:22,477] ERROR in app: Exception on / [GET]\n",
      "Traceback (most recent call last):\n",
      "  File \"C:\\Users\\DELL\\anaconda3\\Lib\\site-packages\\flask\\app.py\", line 2525, in wsgi_app\n",
      "    response = self.full_dispatch_request()\n",
      "               ^^^^^^^^^^^^^^^^^^^^^^^^^^^^\n",
      "  File \"C:\\Users\\DELL\\anaconda3\\Lib\\site-packages\\flask\\app.py\", line 1822, in full_dispatch_request\n",
      "    rv = self.handle_user_exception(e)\n",
      "         ^^^^^^^^^^^^^^^^^^^^^^^^^^^^^\n",
      "  File \"C:\\Users\\DELL\\anaconda3\\Lib\\site-packages\\flask\\app.py\", line 1820, in full_dispatch_request\n",
      "    rv = self.dispatch_request()\n",
      "         ^^^^^^^^^^^^^^^^^^^^^^^\n",
      "  File \"C:\\Users\\DELL\\anaconda3\\Lib\\site-packages\\flask\\app.py\", line 1796, in dispatch_request\n",
      "    return self.ensure_sync(self.view_functions[rule.endpoint])(**view_args)\n",
      "           ^^^^^^^^^^^^^^^^^^^^^^^^^^^^^^^^^^^^^^^^^^^^^^^^^^^^^^^^^^^^^^^^^\n",
      "  File \"C:\\Users\\DELL\\AppData\\Local\\Temp\\ipykernel_4956\\3536827119.py\", line 19, in index\n",
      "    return render_template('index.html', script=script, div=div, cdn_js=CDN.js_files[0], cdn_css=CDN.css_files[0])\n",
      "                                                                                                 ~~~~~~~~~~~~~^^^\n",
      "IndexError: list index out of range\n",
      "127.0.0.1 - - [04/Oct/2023 11:01:22] \"GET / HTTP/1.1\" 500 -\n"
     ]
    }
   ],
   "source": [
    "# Answer 5\n",
    "from flask import Flask, render_template\n",
    "from bokeh.embed import components\n",
    "from bokeh.plotting import figure\n",
    "from bokeh.resources import CDN\n",
    "\n",
    "app = Flask(__name__)\n",
    "\n",
    "@app.route('/')\n",
    "def index():\n",
    "    # Create the plot\n",
    "    plot = figure(title='My Plot', x_axis_label='X', y_axis_label='Y')\n",
    "    plot.line([1, 2, 3], [1, 4, 9])\n",
    "\n",
    "    # Generate the HTML components\n",
    "    script, div = components(plot)\n",
    "\n",
    "    # Render the template with the plot components\n",
    "    return render_template('index.html', script=script, div=div, cdn_js=CDN.js_files[0], cdn_css=CDN.css_files[0])\n",
    "\n",
    "if __name__ == '__main__':\n",
    "    app.run()\n"
   ]
  },
  {
   "cell_type": "code",
   "execution_count": null,
   "id": "1d4f3504-fa7f-4028-9319-a2814b43371d",
   "metadata": {},
   "outputs": [],
   "source": []
  }
 ],
 "metadata": {
  "kernelspec": {
   "display_name": "Python 3 (ipykernel)",
   "language": "python",
   "name": "python3"
  },
  "language_info": {
   "codemirror_mode": {
    "name": "ipython",
    "version": 3
   },
   "file_extension": ".py",
   "mimetype": "text/x-python",
   "name": "python",
   "nbconvert_exporter": "python",
   "pygments_lexer": "ipython3",
   "version": "3.11.4"
  }
 },
 "nbformat": 4,
 "nbformat_minor": 5
}
