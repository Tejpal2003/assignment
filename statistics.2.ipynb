{
 "cells": [
  {
   "cell_type": "markdown",
   "id": "bf31fdc3-5fed-4880-802e-e231e03c4532",
   "metadata": {},
   "source": [
    "### Q1. What is Statistics?"
   ]
  },
  {
   "cell_type": "markdown",
   "id": "501fa3b0-d986-4b9c-ac03-2401bf3237d8",
   "metadata": {},
   "source": [
    "Statistics in data science is the study of how to collect, analyze, interpret, and present data. It is a branch of mathematics that deals with the analysis of data, which can be used to gain insights, make predictions, and inform decision-making.\n",
    "\n",
    "In data science, statistics is used to summarize and describe data through measures such as mean, median, mode, and standard deviation. It is also used to test hypotheses and make inferences about populations based on samples of data. Additionally, statistical models are used to make predictions and identify relationships between variables."
   ]
  },
  {
   "cell_type": "markdown",
   "id": "94a916b0-0143-4dd9-a003-b44230b82419",
   "metadata": {},
   "source": [
    "### Q2. Define the different types of statistics and give an example of when each type might be used."
   ]
  },
  {
   "cell_type": "markdown",
   "id": "8a04617f-507a-44b5-8e3d-a3a890ca6d42",
   "metadata": {},
   "source": [
    "### 1 Descriptive Statistics:\n",
    "Descriptive statistics involves the collection, analysis, and presentation of data to summarize and describe characteristics of a dataset. It is used to provide a concise and meaningful summary of data through measures such as central tendency, variability, and shape. Descriptive statistics is generally used when data is available for the entire population of interest, or when a sample is used to estimate population parameters."
   ]
  },
  {
   "cell_type": "markdown",
   "id": "df803a82-d5cb-4a55-91b2-d886269c2e9b",
   "metadata": {},
   "source": [
    "### Example of descriptive statistics:\n",
    "A researcher collects data on the heights of 100 students in a school. The researcher uses descriptive statistics to summarize the data by calculating the mean height, standard deviation, and creating a histogram to visualize the distribution of heights."
   ]
  },
  {
   "cell_type": "markdown",
   "id": "6140a10b-1579-4061-a2b8-81dd14f45c56",
   "metadata": {},
   "source": [
    "### 2. Inferential Statistics:\n",
    "Inferential statistics involves making predictions or generalizations about a population based on data from a sample. It is used to draw conclusions or test hypotheses about the population using the sample data. Inferential statistics is generally used when data is not available for the entire population, and a sample is used to make inferences about the population."
   ]
  },
  {
   "cell_type": "markdown",
   "id": "b82bd341-0eea-47d2-a3e8-fde955d6568b",
   "metadata": {},
   "source": [
    "### Example of inferential statistics:\n",
    "A company wants to determine whether a new product will be successful among its target market. The company collects a sample of data from a group of customers who have purchased the product and uses inferential statistics to determine whether the data supports the conclusion that the product will be successful among the entire target market. The company may use techniques such as hypothesis testing, confidence intervals, or regression analysis to draw conclusions about the population."
   ]
  },
  {
   "cell_type": "markdown",
   "id": "fe51c293-23c4-4cf6-9302-bfb1eb6f1738",
   "metadata": {},
   "source": [
    "### Q3. What are the different types of data and how do they differ from each other? Provide an example of each type of data."
   ]
  },
  {
   "cell_type": "markdown",
   "id": "bcbc7bbd-cdbd-4d36-b9cc-ecd0655ba9ed",
   "metadata": {},
   "source": [
    "There are two types of data"
   ]
  },
  {
   "cell_type": "markdown",
   "id": "6c800c8b-7b9a-4e1a-8c9c-01c6854c155c",
   "metadata": {},
   "source": [
    "#### 1. Quantitative Data:\n",
    "When data is collected about a variable that can be measured with numerical values, it is called quantitative data.\n"
   ]
  },
  {
   "cell_type": "markdown",
   "id": "52c21bf0-9388-49f7-8f50-eb953646710b",
   "metadata": {},
   "source": [
    "Examples of quantitative data include age, height, weight, and number of hours worked."
   ]
  },
  {
   "cell_type": "markdown",
   "id": "c3eee27f-655c-4d43-ac87-f319497fe940",
   "metadata": {},
   "source": [
    "#### 2. Qualitative Data:\n",
    "When data is collected about a variable that represents categories or attributes, it is called qualitative data."
   ]
  },
  {
   "cell_type": "markdown",
   "id": "9ffa06dd-8306-412c-87b5-f958e6e65dac",
   "metadata": {},
   "source": [
    "Examples of qualitative data include gender, occupation, color, and type of car."
   ]
  },
  {
   "cell_type": "markdown",
   "id": "bf646f80-9042-47d9-81ec-03761f8bade0",
   "metadata": {},
   "source": [
    "Therefore, the type of data collected is determined by the nature of the variable being measured. If the variable is numeric, the resulting data will be quantitative. If the variable is categorical, the resulting data will be qualitative. Both types of data play an important role in statistical analysis and can provide valuable insights depending on the research question and context."
   ]
  },
  {
   "cell_type": "markdown",
   "id": "0e7f530b-58bf-46d5-8c84-213e59102158",
   "metadata": {},
   "source": [
    "### Q4. Categorise the following datasets with respect to quantitative and qualitative data types:"
   ]
  },
  {
   "cell_type": "markdown",
   "id": "3b8718fd-b1c0-4aa8-965d-403ac4729206",
   "metadata": {},
   "source": [
    "1. Grading in exam: A+, A, B+, B, C+, C, D, E"
   ]
  },
  {
   "cell_type": "markdown",
   "id": "8459c203-3692-449c-b77e-3d69038d4026",
   "metadata": {},
   "source": [
    "#### Qualitative (Categorical) Data Type"
   ]
  },
  {
   "cell_type": "markdown",
   "id": "62218c41-899b-4ed5-b540-2ab6396e48c5",
   "metadata": {},
   "source": [
    "2. Colour of mangoes: yellow, green, orange, red"
   ]
  },
  {
   "cell_type": "markdown",
   "id": "4a7a622d-6231-47a3-886d-a48f80a1ba79",
   "metadata": {},
   "source": [
    "#### Qualitative (Categorical) Data Type"
   ]
  },
  {
   "cell_type": "markdown",
   "id": "8a798055-e0e0-4c97-a092-e068ba862b36",
   "metadata": {},
   "source": [
    "3. Height data of a class: [178.9, 179, 179.5, 176, 177.2, 178.3, 175.8,...]"
   ]
  },
  {
   "cell_type": "markdown",
   "id": "becf2301-9974-43e8-952b-c669466f31e2",
   "metadata": {},
   "source": [
    "#### Quantitative (Continuous) Data Type"
   ]
  },
  {
   "cell_type": "markdown",
   "id": "f1ed7fc6-ade5-4c1c-997f-ec9dabecfe3d",
   "metadata": {},
   "source": [
    "4. Number of mangoes exported by a farm: [500, 600, 478, 672, ...]"
   ]
  },
  {
   "cell_type": "markdown",
   "id": "bdbc4644-39de-4be5-ae82-91abcffcd3b8",
   "metadata": {},
   "source": [
    "#### Quantitative (Discrete) Data Type"
   ]
  },
  {
   "cell_type": "markdown",
   "id": "c94b5c9e-f964-4602-a80b-d2dbd4f049b9",
   "metadata": {},
   "source": [
    "### Q5. Explain the concept of levels of measurement and give an example of a variable for each level."
   ]
  },
  {
   "cell_type": "markdown",
   "id": "88952b2f-b379-45f7-9cf5-4ff9927dab61",
   "metadata": {},
   "source": [
    "### Nominal Level:\n",
    "\n",
    "You can categorize your data by labelling them in mutually exclusive groups, but there is no order between the categories."
   ]
  },
  {
   "cell_type": "markdown",
   "id": "5e4e21af-ca4c-45ac-abe6-9a00dedd076d",
   "metadata": {},
   "source": [
    "Examples: City of birth, Gender, Ethnicity, Car brands, Marital status"
   ]
  },
  {
   "cell_type": "markdown",
   "id": "f3c03385-4006-4800-b39d-d496f0a225e3",
   "metadata": {},
   "source": [
    "#### Ordinal Level:\n",
    "You can categorize and rank your data in an order, but you cannot say anything about the intervals between the rankings."
   ]
  },
  {
   "cell_type": "markdown",
   "id": "1038ff8f-58cf-4b78-ba1b-1d01f8f88a34",
   "metadata": {},
   "source": [
    "Examples: Top 5 Olympic medallists, Language ability (e.g., beginner, intermediate, fluent)"
   ]
  },
  {
   "cell_type": "markdown",
   "id": "526fd281-9888-4a9c-b8a7-9ff212ecb78e",
   "metadata": {},
   "source": [
    " ### Internal Level:\n",
    "You can categorize, rank, and infer equal intervals between neighboring data points, but there is no true zero point."
   ]
  },
  {
   "cell_type": "markdown",
   "id": "6b959e1f-4b59-447e-b073-6cb70aa0aa76",
   "metadata": {},
   "source": [
    "For example, the difference between any two adjacent temperatures is the same: one degree. But zero degrees is defined differently depending on the scale – it doesn’t mean an absolute absence of temperature.\n",
    "Other Examples: Test scores (e.g., IQ or exams), Personality inventories, Temperature in Fahrenheit or Celsius"
   ]
  },
  {
   "cell_type": "markdown",
   "id": "9726fad1-94ce-44d0-98c7-af600258c276",
   "metadata": {},
   "source": [
    "### Ratio Level:\n",
    "You can categorize, rank, and infer equal intervals between neighboring data points, and there is a true zero point.\n",
    "A true zero means there is an absence of the variable of interest. In ratio scales, zero does mean an absolute lack of the variable.\n",
    "\n",
    "For example, in the Kelvin temperature scale, there are no negative degrees of temperature – zero means an absolute lack of thermal energy.\n",
    "Other Exmaples: Height, Age, Weight"
   ]
  },
  {
   "cell_type": "markdown",
   "id": "25f61c95-f294-4637-8673-b717fe50c66d",
   "metadata": {},
   "source": [
    "### Q6. Why is it important to understand the level of measurement when analyzing data? Provide an example to illustrate your answer."
   ]
  },
  {
   "cell_type": "markdown",
   "id": "ccee0d8a-8477-4e1f-a4e7-91015073f1b9",
   "metadata": {},
   "source": [
    "Understanding the level of measurement is important when analyzing data because it determines the type of statistical analyses that can be performed on the data, as well as the appropriate way to interpret the results. Different types of statistical analysis are suited for different levels of measurement, and using an inappropriate analysis can result in inaccurate conclusions.\n",
    "\n",
    "If a variable is nominal, it is inappropriate to perform calculations such as mean or standard deviation, as these statistics are not meaningful for categorical data. Instead, appropriate measures for nominal data include frequency counts and percentages. If a variable is ordinal, it is appropriate to use measures such as median or mode, but not mean, as the ranking of the values does not necessarily correspond to equal intervals. If a variable is interval or ratio, all three measures (mean, median, and mode) can be used, as well as measures such as standard deviation and correlation."
   ]
  },
  {
   "cell_type": "markdown",
   "id": "50da5a7d-3675-4e97-9815-5d982fc33f3c",
   "metadata": {},
   "source": [
    "An example to illustrate the importance of understanding the level of measurement is the analysis of income data. If income is measured as a nominal variable with categories such as \"less than 20,000\", \"20,000 to 40,000\", and \"more than 40,000\", it would be inappropriate to calculate the mean income, as the categories do not represent equal intervals. Instead, appropriate measures would include the frequency counts and percentages of individuals in each income category. If income is measured as a ratio variable in dollars, the mean income can be calculated and compared across different groups or time periods, and statistical tests such as t-tests or ANOVA can be used to determine whether there are significant differences in income between groups."
   ]
  },
  {
   "cell_type": "markdown",
   "id": "0e6356cc-2c4b-4ef0-a6bc-fce0949ab3a5",
   "metadata": {},
   "source": [
    "### Q7. How nominal data type is different from ordinal data type."
   ]
  },
  {
   "cell_type": "markdown",
   "id": "39df4fcd-4fc9-4336-a3dd-d054cb50d1d1",
   "metadata": {},
   "source": [
    "#### Nominal data\n",
    "is a type of categorical data where the categories are unordered and do not have any inherent ranking or order. Nominal data simply represents different categories or groups, without any implied order or hierarchy. Examples of nominal data include gender (male/female), hair color (blonde, brown, black, etc.), or political affiliation (Republican, Democrat, Independent, etc.).\n",
    "\n",
    "#### Ordinal data,\n",
    "on the other hand, is also a type of categorical data, but the categories have a specific order or hierarchy. In other words, the categories can be ranked in a meaningful way. Examples of ordinal data include educational level (e.g. high school, some college, bachelor's degree, master's degree, etc.), socioeconomic status (e.g. low, middle, high), or level of agreement (e.g. strongly disagree, disagree, neutral, agree, strongly agree).\n",
    "\n",
    "The main difference between nominal and ordinal data is that ordinal data has a specific order or ranking of the categories, while nominal data does not."
   ]
  },
  {
   "cell_type": "markdown",
   "id": "0ed62b1e-d08f-41cb-9349-2ad89051b71d",
   "metadata": {},
   "source": [
    "### Q8. Which type of plot can be used to display data in terms of range?"
   ]
  },
  {
   "cell_type": "markdown",
   "id": "2626928a-dfb0-4fd1-b956-9fd3edec8364",
   "metadata": {},
   "source": [
    "A type of plot that can be used to display data in terms of range is a box plot (also known as a box-and-whisker plot). A box plot is a graphical representation of the distribution of a set of continuous data, using five summary statistics: the minimum value, the first quartile (Q1), the median, the third quartile (Q3), and the maximum value.\n",
    "\n",
    "For example, a box plot could be used to display the range of temperatures recorded in a city over a given period of time. The minimum and maximum values would be represented by the whiskers, and the box would represent the interquartile range (the middle 50% of the data). The median temperature would be represented by a line inside the box. This would allow for easy comparison of temperature ranges across different months or years, and also identify any unusually high or low temperatures as outliers."
   ]
  },
  {
   "cell_type": "markdown",
   "id": "158275b0-dc27-40a2-8bd3-ff8cdf1b1f2a",
   "metadata": {},
   "source": [
    "### Q9. Describe the difference between descriptive and inferential statistics. Give an example of each type of statistics and explain how they are used."
   ]
  },
  {
   "cell_type": "markdown",
   "id": "17cdf380-f51f-4540-af4a-a1427bd45dfe",
   "metadata": {},
   "source": [
    "#### Descriptive statistics\n",
    "involves summarizing and describing the main features of a data set, such as measures of central tendency (mean, median, mode) and measures of dispersion (range, standard deviation, variance). Descriptive statistics is used to provide a snapshot or summary of the data, in order to gain an understanding of the characteristics and patterns of the data set.\n",
    "\n",
    "Examples of descriptive statistics include calculating the mean height of a group of people or the standard deviation of their weights.\n",
    "\n",
    "#### Inferential statistics\n",
    ", on the other hand, involves using statistical methods to make inferences or draw conclusions about a population based on a sample of data. Inferential statistics is used to test hypotheses or answer research questions, by making predictions or generalizations about a larger group based on a smaller subset of data.\n",
    "\n",
    "Examples of inferential statistics include hypothesis testing, confidence intervals, and regression analysis."
   ]
  },
  {
   "cell_type": "markdown",
   "id": "7fe5c36f-9721-4b0b-8733-f14c845f9049",
   "metadata": {},
   "source": [
    "### Q10. What are some common measures of central tendency and variability used in statistics? Explain how each measure can be used to describe a dataset."
   ]
  },
  {
   "cell_type": "markdown",
   "id": "5814a950-de3f-4988-98cd-1d8fbc731755",
   "metadata": {},
   "source": [
    "Some of the common Measures of Central Tendency used in Statistics are:\n",
    "\n",
    "1. Mean: The arithmetic mean, or average, is calculated by summing all the values in a dataset and dividing by the number of values. The mean is a useful measure of central tendency when the data is normally distributed and there are no extreme values or outliers.\n",
    "\n",
    "2. Median: The median is the middle value in a dataset when the values are arranged in order. The median is useful when there are extreme values or outliers in the dataset, since it is not affected by these values in the same way as the mean.\n",
    "\n",
    "3. Mode: The mode is the most common value in a dataset. The mode is useful when dealing with categorical data or discrete variables, where there may be several values that occur with the same frequency.\n",
    "\n",
    "Some of the common Measures of Variability used in Statistics are:\n",
    "\n",
    "4. Range: The range is the difference between the largest and smallest values in a dataset. The range provides a simple measure of variability, but it can be sensitive to extreme values or outliers.\n",
    "\n",
    "5. Variance: The variance measures the average squared deviation from the mean in a dataset. The variance is useful when you want to quantify the spread of a dataset, and it is used in many statistical tests and models.\n",
    "\n",
    "6. Standard deviation: The standard deviation is the square root of the variance. The standard deviation provides a more intuitive measure of variability, since it is in the same units as the original data."
   ]
  },
  {
   "cell_type": "code",
   "execution_count": null,
   "id": "d973b543-4574-4190-9118-550bbc206b46",
   "metadata": {},
   "outputs": [],
   "source": []
  }
 ],
 "metadata": {
  "kernelspec": {
   "display_name": "Python 3 (ipykernel)",
   "language": "python",
   "name": "python3"
  },
  "language_info": {
   "codemirror_mode": {
    "name": "ipython",
    "version": 3
   },
   "file_extension": ".py",
   "mimetype": "text/x-python",
   "name": "python",
   "nbconvert_exporter": "python",
   "pygments_lexer": "ipython3",
   "version": "3.10.8"
  }
 },
 "nbformat": 4,
 "nbformat_minor": 5
}
