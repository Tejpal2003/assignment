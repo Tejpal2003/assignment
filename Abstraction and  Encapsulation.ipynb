{
 "cells": [
  {
   "cell_type": "markdown",
   "id": "d6201a58-1dcd-455c-8683-154f91405bf8",
   "metadata": {},
   "source": [
    "ans1\n",
    "\n",
    "An abstract class can be considered as a blueprint for other classes. It allows you to create a set of methods that must be created within any child classes built from the abstract class. A class which contains one or more abstract methods is called an abstract class."
   ]
  },
  {
   "cell_type": "code",
   "execution_count": 1,
   "id": "073268d4-5791-4499-b822-183c6ff4b21e",
   "metadata": {},
   "outputs": [
    {
     "name": "stdout",
     "output_type": "stream",
     "text": [
      "Square is = 256\n",
      "Addition is  46\n"
     ]
    }
   ],
   "source": [
    "from abc import ABC,abstractmethod\n",
    "class Myclass(ABC):\n",
    "    @abstractmethod\n",
    "    def calculate(self,x):\n",
    "        pass\n",
    "    @abstractmethod\n",
    "    def add(self,a,b):\n",
    "        pass\n",
    "class sub1(Myclass):\n",
    "    def calculate(self, x):\n",
    "        print('Square is =', x*x)\n",
    "    \n",
    "    def add(self,a,b):\n",
    "        print('Addition is ',a+b)\n",
    "obj1=sub1()\n",
    "obj1.calculate(16)\n",
    "\n",
    "obj1.add(23,23)\n"
   ]
  },
  {
   "cell_type": "markdown",
   "id": "45410bdd-57bd-45dd-9473-2ada7d4ddc19",
   "metadata": {},
   "source": [
    "ans2\n",
    "\n",
    "Abstraction is the method of hiding the unwanted information. Whereas encapsulation is a method to hide the data in a single entity or unit along with a method to protect information from outside. We can implement abstraction using abstract class and interfaces"
   ]
  },
  {
   "cell_type": "code",
   "execution_count": 2,
   "id": "5b922df7-ceea-40ab-889f-ca86a6b1f005",
   "metadata": {},
   "outputs": [
    {
     "name": "stdout",
     "output_type": "stream",
     "text": [
      "9000\n"
     ]
    }
   ],
   "source": [
    "class bank_aacount:\n",
    "\n",
    "    def __init__(self,balance):\n",
    "        self.__balance=balance\n",
    "\n",
    "    def deposit(self,amount):\n",
    "        self.__balance=self.__balance+amount\n",
    "    def withdraw(self,amount):\n",
    "        if self.__balance >=amount:\n",
    "            self.__balance=self.__balance-amount\n",
    "            return True\n",
    "        else:\n",
    "            return False\n",
    "        \n",
    "    def get_balance(self):\n",
    "        return self.__balance\n",
    "    \n",
    "\n",
    "tej=bank_aacount(1000)\n",
    "tej.deposit(10000)\n",
    "tej.withdraw(2000)\n",
    "print(tej.get_balance())\n"
   ]
  },
  {
   "cell_type": "markdown",
   "id": "56409090-fed3-4e07-9689-48f585a4b223",
   "metadata": {},
   "source": [
    "ans3\n",
    "\n",
    "\n",
    "The main goal of the abstract base class is to provide a standardized way to test whether an object adheres to a given specification. It can also prevent any attempt to instantiate a subclass that doesn’t override a particular method in the superclass"
   ]
  },
  {
   "cell_type": "code",
   "execution_count": null,
   "id": "4ae4d461-5c37-4aef-be99-37285ced226a",
   "metadata": {},
   "outputs": [],
   "source": []
  },
  {
   "cell_type": "code",
   "execution_count": null,
   "id": "8e520fb2-ba05-4465-ab05-0a741bd90a97",
   "metadata": {},
   "outputs": [],
   "source": [
    "ans4"
   ]
  }
 ],
 "metadata": {
  "kernelspec": {
   "display_name": "Python 3 (ipykernel)",
   "language": "python",
   "name": "python3"
  },
  "language_info": {
   "codemirror_mode": {
    "name": "ipython",
    "version": 3
   },
   "file_extension": ".py",
   "mimetype": "text/x-python",
   "name": "python",
   "nbconvert_exporter": "python",
   "pygments_lexer": "ipython3",
   "version": "3.10.8"
  }
 },
 "nbformat": 4,
 "nbformat_minor": 5
}
