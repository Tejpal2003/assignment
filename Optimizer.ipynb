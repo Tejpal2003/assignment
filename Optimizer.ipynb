{
 "cells": [
  {
   "cell_type": "markdown",
   "id": "4c7fdb85-2d81-4240-b8fd-124d41a06e2f",
   "metadata": {},
   "source": [
    "# Part 1 Understanding Optimizers"
   ]
  },
  {
   "cell_type": "markdown",
   "id": "2dce208b-040b-41ab-816a-3bab4962ea6d",
   "metadata": {},
   "source": [
    "## Answer 1"
   ]
  },
  {
   "cell_type": "markdown",
   "id": "4583136d-7a1c-48e7-8ef1-33fdb21cd5ab",
   "metadata": {},
   "source": [
    "Optimization algorithms play a crucial role in training artificial neural networks (ANNs). The primary purpose of optimization algorithms in this context is to find the optimal set of weights and biases for the neural network that minimizes a specific loss function. This process is known as training or optimization."
   ]
  },
  {
   "cell_type": "markdown",
   "id": "92b0ad6b-824d-474c-85f9-0ff44c3b9945",
   "metadata": {},
   "source": [
    "### Here's why optimization algorithms are necessary in ANNs:\n",
    "\n",
    "\n",
    "Minimizing the Loss Function: In supervised learning tasks, ANNs are trained to make predictions based on input data. The network's performance is evaluated using a loss function, which measures the difference between the predicted output and the true target values. The goal is to minimize this loss function, so the network's predictions become more accurate. Optimization algorithms are used to find the weights and biases that achieve this minimum loss.\n",
    "\n",
    "High-Dimensional Non-Convex Space: ANNs have a vast number of parameters (weights and biases) that control the behavior of the network. The relationship between these parameters and the loss function forms a high-dimensional non-convex space. This means there are many local minima, maxima, and saddle points, making it challenging to find the global minimum (optimal solution) analytically. Optimization algorithms are designed to navigate this complex space efficiently and find a good solution.\n",
    "\n",
    "Gradient-Based Optimization: Most commonly used optimization algorithms in ANNs are gradient-based. They rely on calculating the gradient of the loss function with respect to the model's parameters. The gradient points in the direction of the steepest increase of the loss function. Optimization algorithms use this information to iteratively update the weights and biases in a way that moves them towards the direction of steepest decrease, eventually converging to a minimum.\n",
    "\n",
    "Backpropagation: Backpropagation is a widely used algorithm for computing gradients efficiently in ANNs. It allows the gradients to be propagated backward through the network from the output layer to the input layer, efficiently computing the gradient for each parameter. Optimization algorithms use these gradients to update the model's parameters during training.\n",
    "\n",
    "Iterative Process: Training ANNs is an iterative process that involves multiple passes over the training data (epochs). During each epoch, the optimization algorithm adjusts the model's parameters based on the gradients computed from the training data. This process continues until the model converges to a satisfactory solution or reaches a predefined stopping criterion.\n",
    "\n",
    "\n",
    "\n",
    "In summary, optimization algorithms are essential in artificial neural networks to find the optimal configuration of model parameters, allowing the network to learn from data and make accurate predictions. Without these algorithms, training complex neural networks with a large number of parameters would be computationally infeasible and impractical."
   ]
  },
  {
   "cell_type": "markdown",
   "id": "a8b2d95b-04ed-4724-83c9-d1eabdfa38d8",
   "metadata": {},
   "source": [
    "## Answer 2\n",
    "\n",
    "Gradient Descent is a fundamental optimization algorithm used to minimize a function (typically a loss function) by adjusting the parameters iteratively in the direction of the steepest descent (i.e., the opposite direction of the gradient). It is widely used in training artificial neural networks and other machine learning models.\n",
    "\n",
    "### The basic Gradient Descent algorithm works as follows:\n",
    "\n",
    "Initialize the model's parameters randomly.\n",
    "\n",
    "Compute the gradient of the loss function with respect to each parameter.\n",
    "Update each parameter by subtracting a small fraction (learning rate) of the corresponding gradient.\n",
    "\n",
    "\n",
    "Repeat steps 2 and 3 iteratively until convergence or a predefined number of iterations.\n",
    "\n",
    "\n",
    "\n",
    "The learning rate determines the step size taken in the direction of the gradient and affects the convergence and stability of the algorithm. A small learning rate may lead to slow convergence, while a large learning rate may cause the algorithm to overshoot the optimal solution and potentially diverge.\n",
    "\n",
    "\n",
    "### There are several variants of Gradient Descent, each with its unique characteristics, tradeoffs, and memory requirements:\n",
    "\n",
    "\n",
    "\n",
    "Stochastic Gradient Descent (SGD):\n",
    "SGD updates the model's parameters after evaluating the gradient on a single randomly chosen data point (or a small batch of data points) at each iteration. Because of its random nature, it introduces more noise, which can help escape local minima and speed up convergence. However, it may also lead to a more erratic and noisy convergence path, making the learning process somewhat unstable. SGD requires relatively less memory as it only needs to store gradients for a small batch of data.\n",
    "\n",
    "Mini-batch Gradient Descent:\n",
    "This variant is a compromise between SGD and full-batch Gradient Descent. It divides the training data into small batches (e.g., 32, 64, or 128 samples) and computes the average gradient for each batch. Mini-batch Gradient Descent strikes a balance between the noisy updates of SGD and the memory requirements of full-batch Gradient Descent. It is the most commonly used optimization algorithm in practice due to its efficiency and stability.\n",
    "\n",
    "Batch Gradient Descent:\n",
    "In this variant, the entire training dataset is used to compute the gradient of the loss function, and the model's parameters are updated after processing the entire dataset. Batch Gradient Descent typically provides smooth convergence due to a more accurate estimation of the gradient. However, it can be computationally expensive and memory-intensive, especially for large datasets.\n",
    "\n",
    "Momentum:\n",
    "Momentum is an extension to Gradient Descent that adds a velocity term to the parameter updates. It helps the optimization process by continuing to move in the direction of the previous updates with a certain momentum, reducing the oscillations and speeding up convergence. Momentum can help escape shallow local minima and provides some tolerance to noisy data.\n",
    "\n",
    "\n",
    "Adagrad (Adaptive Gradient Algorithm):\n",
    "Adagrad adapts the learning rate for each parameter based on the historical squared gradients. It gives larger updates for infrequent parameters and smaller updates for frequent ones. This adaptive learning rate mechanism is beneficial when dealing with sparse data or when the scale of the parameters varies significantly.\n",
    "\n",
    "RMSprop (Root Mean Square Propagation):\n",
    "RMSprop is a modification of Adagrad that addresses some of its limitations. It uses a moving average of squared gradients to normalize the learning rates, which helps prevent the learning rate from decaying too quickly.\n",
    "\n",
    "Adam (Adaptive Moment Estimation):\n",
    "Adam combines the ideas of Momentum and RMSprop. It utilizes both the first-moment estimate (the mean of the gradients) and the second-moment estimate (the uncentered variance of the gradients) to adapt the learning rates for each parameter. Adam is widely used and is known for its robust performance across a wide range of problems.\n",
    "\n",
    "\n",
    "### Tradeoffs:\n",
    "\n",
    "\n",
    "Convergence: Variants like SGD and Momentum may converge faster due to their ability to escape local minima and noise-tolerant nature. However, they might not converge as accurately as Batch Gradient Descent, which uses a more accurate gradient estimate.\n",
    "\n",
    "Memory Requirements: Full-batch Gradient Descent needs to store the gradients for the entire dataset, which can be memory-intensive for large datasets. In contrast, SGD and Mini-batch Gradient Descent require less memory as they only need to store gradients for a small batch.\n",
    "\n",
    "Stability: Full-batch Gradient Descent and Mini-batch Gradient Descent generally provide more stable and smooth convergence. On the other hand, variants like SGD and Momentum might exhibit more oscillations during the optimization process.\n",
    "\n",
    "In summary, the choice of optimization algorithm and its variant depends on the specific problem, dataset size, and computational resources available. SGD and its variants are commonly used due to their efficiency, while the choice of the best algorithm often involves empirical evaluation and tuning to achieve the desired convergence speed and accuracy."
   ]
  },
  {
   "cell_type": "markdown",
   "id": "704b927b-0487-4937-b2b9-ef896376bb06",
   "metadata": {},
   "source": [
    "## Answer 3\n",
    "\n",
    "\n",
    "Traditional gradient descent optimization methods, such as basic Gradient Descent and Stochastic Gradient Descent (SGD), face several challenges that can hinder their efficiency and effectiveness in training artificial neural networks. Some of the key challenges are:\n",
    "Slow Convergence: Traditional optimization methods can have slow convergence rates, especially when dealing with deep neural networks or complex loss landscapes. In these cases, the optimization process may get stuck in regions of the parameter space where the gradient is shallow, leading to slow progress towards the optimal solution.\n",
    "\n",
    "Local Minima and Plateaus: The loss landscape of neural networks is highly non-convex, meaning it has many local minima, saddle points, and plateaus. Traditional optimizers can get trapped in local minima, preventing them from reaching the global minimum and obtaining the best possible solution.\n",
    "\n",
    "Learning Rate Selection: Setting an appropriate learning rate for traditional gradient descent methods can be challenging. A learning rate that is too large can cause the optimization process to diverge, while a learning rate that is too small can lead to slow convergence or getting stuck in local minima.\n",
    "\n",
    "Oscillations: In some cases, the optimization process may exhibit oscillations, where the parameter updates move back and forth without converging. This can happen when the learning rate is not properly tuned or when dealing with noisy gradients, especially in the case of SGD.\n",
    "\n",
    "\n",
    "\n",
    "To address these challenges, modern optimizers have been developed, and they utilize various techniques to overcome these limitations and improve the optimization process. Some popular modern optimizers include:\n",
    "Momentum: Momentum addresses the slow convergence problem by adding a velocity term to the parameter updates. This helps the optimization process to continue moving in the direction of the previous updates, enabling faster convergence and reducing oscillations.\n",
    "\n",
    "Adaptive Learning Rates: Optimizers like Adagrad, RMSprop, and Adam adapt the learning rates for each parameter based on historical information about the gradients. This adaptivity allows the optimizer to use larger learning rates for infrequent parameters and smaller learning rates for frequent ones. Adaptive learning rates help prevent the learning rate from decaying too quickly, making the optimization process more efficient.\n",
    "\n",
    "Second-Order Methods: Newton's method and variants like the Hessian matrix-based optimization methods can provide more accurate estimates of the optimal parameters by taking into account second-order information about the loss function. However, they can be computationally expensive and might require additional memory to store the Hessian matrix.\n",
    "\n",
    "Batch Normalization: Batch normalization is a technique applied to the activations of a neural network, which helps to reduce internal covariate shift. By normalizing the activations in each mini-batch during training, it improves the stability of the optimization process and enables the use of higher learning rates.\n",
    "\n",
    "Weight Initialization: Proper weight initialization techniques can help mitigate the issue of getting stuck in poor local minima during the early stages of training. Methods like Xavier/Glorot initialization and He initialization set the initial weights of the network in a way that encourages a smoother optimization process.\n",
    "\n",
    "\n",
    "Learning Rate Schedules: Modern optimizers often employ learning rate schedules, where the learning rate is adjusted over time during training. Learning rate schedules can start with larger learning rates to make more substantial updates initially and then gradually decrease the learning rate as training progresses, allowing for more precise fine-tuning.\n",
    "\n",
    "By incorporating these techniques, modern optimizers are better equipped to tackle the challenges associated with traditional gradient descent methods. They generally lead to faster convergence, improved stability, and better exploration of the parameter space, making them more effective in training complex neural networks and deep learning models. However, the choice of optimizer and its hyperparameters can still require some empirical experimentation and tuning to achieve the best results for a specific problem."
   ]
  },
  {
   "cell_type": "markdown",
   "id": "fc01caca-3084-4974-b5f5-6c49391db0be",
   "metadata": {},
   "source": [
    "## Answer 4\n",
    "\n",
    "\n",
    "In the context of optimization algorithms, momentum and learning rate are two essential concepts that significantly impact convergence and model performance. They are commonly used in modern optimization algorithms, particularly in training neural networks.\n",
    "\n",
    "Momentum:\n",
    "\n",
    "\n",
    "Momentum is a technique used to accelerate the convergence of optimization algorithms, especially in the presence of sparse gradients and noisy data. It addresses the problem of slow convergence by adding a \"momentum\" term to the parameter updates. The momentum term helps the optimizer to continue moving in the direction of the previous updates, which can be seen as adding inertia to the optimization process.\n",
    "\n",
    "Mathematically, the update rule for a parameter using momentum is as follows:\n",
    "\n",
    "\n",
    "v(t) = beta * v(t-1) + (1 - beta) * gradient\n",
    "parameter = parameter - learning_rate * v(t)\n",
    "\n",
    "\n",
    "where:\n",
    "\n",
    "v(t) is the velocity at time step t, which represents the accumulated gradient direction from previous time steps.\n",
    "beta is the momentum coefficient (typically a value between 0 and 1) that determines how much of the previous velocity is retained. A higher value of beta gives more weight to previous updates.\n",
    "Impact on Convergence and Model Performance:\n",
    "Faster Convergence: Momentum helps the optimizer to navigate through shallow regions and narrow valleys more efficiently. By carrying forward the accumulated direction from previous updates, momentum accelerates the convergence process and reduces the oscillations that can occur during optimization.\n",
    "\n",
    "Escaping Local Minima: The momentum term allows the optimizer to escape shallow local minima, enabling it to explore the parameter space more effectively and potentially find better solutions.\n",
    "\n",
    "Dampening Oscillations: When dealing with noisy or sparse gradients, momentum helps to dampen the oscillations that can occur during the optimization process, leading to more stable updates.\n",
    "\n",
    "However, very high momentum values can cause the optimizer to overshoot the minimum and lead to instability in convergence. Therefore, choosing an appropriate value for the momentum coefficient is crucial and often requires empirical tuning.\n",
    "\n",
    "Learning Rate:\n",
    "\n",
    "The learning rate is a hyperparameter that determines the step size taken in the direction of the gradient during each iteration of the optimization process. It controls the rate at which the model's parameters are updated.\n",
    "\n",
    "In the context of optimization algorithms, momentum and learning rate are two essential concepts that significantly impact convergence and model performance. They are commonly used in modern optimization algorithms, particularly in training neural networks.\n",
    "Momentum:\n",
    "Momentum is a technique used to accelerate the convergence of optimization algorithms, especially in the presence of sparse gradients and noisy data. It addresses the problem of slow convergence by adding a \"momentum\" term to the parameter updates. The momentum term helps the optimizer to continue moving in the direction of the previous updates, which can be seen as adding inertia to the optimization process.\n",
    "\n",
    "Mathematically, the update rule for a parameter using momentum is as follows:\n",
    "v(t) = beta * v(t-1) + (1 - beta) * gradient\n",
    "parameter = parameter - learning_rate * v(t)\n",
    "where:\n",
    "\n",
    "v(t) is the velocity at time step t, which represents the accumulated gradient direction from previous time steps.\n",
    "beta is the momentum coefficient (typically a value between 0 and 1) that determines how much of the previous velocity is retained. A higher value of beta gives more weight to previous updates.\n",
    "Impact on Convergence and Model Performance:\n",
    "Faster Convergence: Momentum helps the optimizer to navigate through shallow regions and narrow valleys more efficiently. By carrying forward the accumulated direction from previous updates, momentum accelerates the convergence process and reduces the oscillations that can occur during optimization.\n",
    "\n",
    "Escaping Local Minima: The momentum term allows the optimizer to escape shallow local minima, enabling it to explore the parameter space more effectively and potentially find better solutions.\n",
    "\n",
    "Dampening Oscillations: When dealing with noisy or sparse gradients, momentum helps to dampen the oscillations that can occur during the optimization process, leading to more stable updates.\n",
    "\n",
    "However, very high momentum values can cause the optimizer to overshoot the minimum and lead to instability in convergence. Therefore, choosing an appropriate value for the momentum coefficient is crucial and often requires empirical tuning.\n",
    "Learning Rate:\n",
    "The learning rate is a hyperparameter that determines the step size taken in the direction of the gradient during each iteration of the optimization process. It controls the rate at which the model's parameters are updated.\n",
    "\n",
    "Mathematically, the update rule for a parameter using the learning rate is as follows:\n",
    "parameter = parameter - learning_rate * gradient\n",
    "Impact on Convergence and Model Performance:\n",
    "Learning Rate Too Small: A small learning rate slows down the optimization process, as the updates are tiny, and it may take a long time to reach the optimal solution. Additionally, a very small learning rate may cause the optimization to get stuck in local minima or plateaus.\n",
    "\n",
    "Learning Rate Too Large: A large learning rate can lead to overshooting the optimal solution, causing the optimization process to diverge. It can cause instability and result in the model failing to converge.\n",
    "\n",
    "Learning Rate Schedules: Often, a learning rate schedule is used, where the learning rate is decreased over time during training. This approach starts with a larger learning rate to make more substantial updates in the early stages and gradually decreases the learning rate as training progresses. Learning rate schedules help achieve more stable convergence and fine-tuning of the model towards the end of training.\n",
    "\n",
    "Adaptive Learning Rates: Adaptive optimization algorithms, like RMSprop and Adam, dynamically adjust the learning rate based on historical information about the gradients. This adaptivity helps in efficiently tuning the learning rate for different parameters and can lead to faster convergence and better performance.\n",
    "\n",
    "In summary, both momentum and learning rate play critical roles in the optimization process of neural networks. Properly tuning these hyperparameters is essential for achieving faster convergence, stable optimization, and better overall performance of the trained model.\n"
   ]
  },
  {
   "cell_type": "markdown",
   "id": "87d331ea-b39b-4ff3-9394-5b6f2d71d7d3",
   "metadata": {},
   "source": [
    "# Part 2  Optimizer Techniques"
   ]
  },
  {
   "cell_type": "markdown",
   "id": "2d358a42-fb37-465c-bc64-595de0cdd5b5",
   "metadata": {},
   "source": [
    "# Answer 5\n",
    "\n",
    "\n",
    "Stochastic Gradient Descent (SGD) is a variant of the traditional gradient descent optimization algorithm used in training machine learning models, especially in the context of large datasets and deep neural networks. Unlike the traditional gradient descent, which computes the gradient using the entire dataset, SGD updates the model's parameters after evaluating the gradient on a single randomly chosen data point (or a small batch of data points) at each iteration.\n",
    "The update rule for a parameter using SGD can be represented as follows:\n",
    "parameter = parameter - learning_rate * gradient(data_point)\n",
    "where:\n",
    "\n",
    "parameter: The model's parameter being updated.\n",
    "learning_rate: The hyperparameter that controls the step size for parameter updates.\n",
    "gradient(data_point): The gradient of the loss function with respect to the parameter, computed using a single data point.\n",
    "Advantages of Stochastic Gradient Descent over Traditional Gradient Descent:\n",
    "Faster Updates: SGD updates the model's parameters more frequently since it processes only one data point (or a small batch) at a time. This can lead to faster convergence, especially in the early stages of training, as it allows the model to quickly adjust its weights based on the most recent data.\n",
    "\n",
    "Lower Memory Requirements: Traditional gradient descent requires storing the gradients for the entire dataset in memory, which can be memory-intensive for large datasets. In contrast, SGD requires much less memory as it only needs to store the gradients for a single data point (or a small batch), making it more memory-efficient.\n",
    "\n",
    "Noise-Tolerant: The updates in SGD are more noisy compared to the batch gradient descent, as they are based on individual data points. This noise can help the optimization process escape shallow local minima and make the training more robust to noisy data.\n",
    "\n",
    "Generalization: SGD's noisy updates can lead to better generalization, as they prevent the model from overfitting to the training data. This is particularly useful when dealing with high-dimensional data and complex models like deep neural networks.\n",
    "\n",
    "Limitations and Scenarios Where SGD is Most Suitable:\n",
    "Noisy Updates: The noisy updates in SGD can also be a limitation, as they may introduce more oscillations during optimization. While this can help the optimization process escape local minima, it might also slow down convergence or lead to suboptimal solutions.\n",
    "\n",
    "Learning Rate Selection: Setting an appropriate learning rate is crucial for SGD. A learning rate that is too large can cause the optimization process to diverge, while a learning rate that is too small can lead to slow convergence.\n",
    "\n",
    "Incomplete Information: Because SGD only considers a single data point (or a small batch) at a time, it may not provide an accurate estimate of the true gradient. This can lead to noisy updates and slower convergence compared to batch gradient descent in some cases.\n",
    "\n",
    "Small Batch Size: While using small batch sizes in SGD can reduce memory requirements, extremely small batch sizes can lead to noisy updates and slow convergence. Finding the right balance is essential.\n",
    "\n",
    "Scenarios where SGD is most suitable:\n",
    "Large Datasets: SGD is well-suited for large datasets when computing gradients on the entire dataset becomes computationally expensive and memory-intensive.\n",
    "\n",
    "Deep Learning: In deep neural network training, where the number of parameters can be very high, SGD's efficiency in memory usage and faster updates make it a popular choice.\n",
    "\n",
    "\n",
    "Online Learning: SGD is commonly used in online learning settings, where new data arrives in a continuous stream and the model needs to be updated incrementally.\n",
    "\n",
    "Noisy or Non-Stationary Data: SGD can be more robust to noisy or non-stationary data compared to batch gradient descent, making it suitable for handling data with varying distributions or frequent updates.\n",
    "\n",
    "In summary, SGD offers advantages in terms of speed and memory efficiency, making it a popular choice for training large-scale machine learning models, particularly in the domain of deep learning. However, the choice of learning rate, batch size, and the trade-off between convergence speed and noise tolerance requires careful consideration and experimentation.\n"
   ]
  },
  {
   "cell_type": "markdown",
   "id": "c0d8eb7e-e563-478a-97fa-1ff89df9686e",
   "metadata": {},
   "source": [
    "## Answer 6\n",
    "\n",
    "\n",
    "Adam (Adaptive Moment Estimation) is an advanced optimization algorithm that combines the ideas of momentum and adaptive learning rates. It is designed to provide fast and efficient convergence while being robust to different types of data and architectures, making it one of the most popular optimization methods for training neural networks.\n",
    "\n",
    "The key components of the Adam optimizer are:\n",
    "\n",
    "Momentum: Like momentum-based optimizers, Adam uses a momentum term to keep track of the moving average of past gradients. This helps the optimizer to continue moving in the direction of the previous updates, aiding in faster convergence and reducing oscillations.\n",
    "\n",
    "Adaptive Learning Rates: Adam adapts the learning rate for each parameter based on the past gradients. It maintains a running estimate of the first-moment (mean) of the gradients and the second-moment (uncentered variance) of the gradients. These estimates are biased toward zero at the beginning, so the algorithm applies a bias correction term to make the estimates unbiased.\n",
    "\n",
    "\n",
    "The update rule for a parameter using Adam can be represented as follows:\n",
    "\n",
    "m(t) = beta1 * m(t-1) + (1 - beta1) * gradient\n",
    "v(t) = beta2 * v(t-1) + (1 - beta2) * gradient^2\n",
    "\n",
    "m_hat = m(t) / (1 - beta1^t)\n",
    "v_hat = v(t) / (1 - beta2^t)\n",
    "\n",
    "parameter = parameter - learning_rate * m_hat / (sqrt(v_hat) + epsilon)\n",
    "\n",
    "where:\n",
    "\n",
    "m(t): The first-moment estimate (mean) of the gradients at time step t.\n",
    "v(t): The second-moment estimate (uncentered variance) of the gradients at time step t.\n",
    "beta1 and beta2: Exponential decay rates for the moving averages (typically close to 1 but less than 1).\n",
    "learning_rate: The hyperparameter that controls the step size for parameter updates.\n",
    "epsilon: A small constant added to the denominator to prevent division by zero.\n",
    "Benefits of Adam Optimizer:\n",
    "Fast Convergence: By combining momentum and adaptive learning rates, Adam often converges faster than traditional optimization algorithms like SGD and even some adaptive methods like RMSprop.\n",
    "\n",
    "Adaptive Learning Rates: The adaptive learning rate mechanism allows Adam to effectively tune the learning rates for each parameter, providing faster convergence and better generalization.\n",
    "\n",
    "Robustness: Adam's robustness to noisy gradients and varying learning rates makes it suitable for a wide range of architectures and problem domains.\n",
    "\n",
    "Low Memory Requirements: Adam only requires storage for the first and second-moment estimates per parameter, making it memory-efficient even for large-scale neural networks.\n",
    "\n",
    "Potential Drawbacks of Adam Optimizer:\n",
    "Hyperparameter Sensitivity: Adam has several hyperparameters, such as beta1, beta2, and epsilon, which need to be carefully tuned for optimal performance. Poor choices of these hyperparameters can lead to suboptimal convergence or instability.\n",
    "\n",
    "Bias Correction: The bias correction terms in the estimates can introduce some initial instability during the early training iterations before the estimates stabilize.\n",
    "\n",
    "\n",
    "Noisy Updates: Adam's adaptive learning rates can lead to noisy updates, which might result in some oscillations during the optimization process.\n",
    "\n",
    "Not Suitable for All Cases: While Adam performs well in many scenarios, it might not always be the best choice. For certain problems and architectures, simpler optimization algorithms like SGD or variants might provide better results.\n",
    "\n",
    "In summary, Adam is a powerful optimization algorithm that combines momentum and adaptive learning rates to achieve fast convergence and robustness. It is widely used in deep learning due to its effectiveness in training complex neural networks. However, careful hyperparameter tuning and consideration of the problem's characteristics are necessary to leverage its benefits effectively."
   ]
  },
  {
   "cell_type": "markdown",
   "id": "723268d8-9903-484e-aa41-8087b63ef900",
   "metadata": {},
   "source": [
    "## Answer7\n",
    "\n",
    "RMSProp (Root Mean Square Propagation) is an optimization algorithm that addresses the challenges of adaptive learning rates, similar to Adam. It was introduced to improve upon the limitations of traditional gradient descent and to overcome some issues of Adagrad, another adaptive learning rate optimizer.\n",
    "Concept of RMSProp:\n",
    "RMSProp modifies the learning rates for each parameter by adapting the learning rate based on the historical average of squared gradients. It utilizes an exponentially decaying average of squared gradients to rescale the learning rates for each parameter. This adaptivity allows the optimizer to give larger updates for infrequent parameters and smaller updates for frequent ones, making it more suitable for non-convex optimization problems like training neural networks.\n",
    "The update rule for a parameter using RMSProp can be represented as follows:\n",
    "\n",
    "v(t) = beta * v(t-1) + (1 - beta) * gradient^2\n",
    "parameter = parameter - learning_rate * gradient / (sqrt(v(t)) + epsilon)\n",
    "\n",
    "where:\n",
    "\n",
    "v(t): The exponential moving average of squared gradients at time step t.\n",
    "beta: Exponential decay rate (typically close to 1 but less than 1).\n",
    "learning_rate: The hyperparameter that controls the step size for parameter updates.\n",
    "epsilon: A small constant added to the denominator to prevent division by zero.\n",
    "\n",
    "\n",
    "Comparison of RMSProp and Adam:\n",
    "Similarity: Both RMSProp and Adam are adaptive learning rate algorithms that adjust the learning rates for each parameter based on historical gradient information. They both aim to improve the convergence speed and performance of the optimization process.\n",
    "\n",
    "Distinction: The primary difference between RMSProp and Adam lies in the way they update the moving average of squared gradients (v(t) in the update rules).\n",
    "\n",
    "Adaptive Learning Rates: Both RMSProp and Adam provide adaptive learning rates, which allow them to effectively tune the learning rates for each parameter based on the historical gradients. This adaptivity can lead to faster convergence and better performance.\n",
    "\n",
    "Relative Strengths:\n",
    "RMSProp: It is computationally less expensive than Adam since it does not maintain the moving average of first-order moments (mean of gradients) like Adam. As a result, RMSProp may require less memory and computation.\n",
    "\n",
    "Adam: Adam often shows better performance and faster convergence compared to RMSProp in practice. The inclusion of the first-moment estimate (momentum) in Adam makes it more effective in handling noisy gradients and escaping shallow local minima.\n",
    "\n",
    "Relative Weaknesses:\n",
    "RMSProp: The learning rates may still need manual tuning for optimal performance, especially in cases with highly variable gradients or complex loss landscapes.\n",
    "\n",
    "Adam: The inclusion of both first and second-moment estimates in Adam can introduce additional hyperparameters (beta1 and beta2) to tune, making it more sensitive to the choice of hyperparameters. Poor hyperparameter choices can lead to suboptimal convergence or instability.\n",
    "\n",
    "\n",
    "Choosing Between RMSProp and Adam:\n",
    "\n",
    "The choice between RMSProp and Adam depends on the specific problem, dataset, and architecture being used. In practice, Adam is generally more popular due to its robustness and often faster convergence. However, it might require more hyperparameter tuning compared to RMSProp. If computational resources or memory constraints are a concern, RMSProp can be a good alternative to Adam, as it can be computationally more efficient while still providing adaptive learning rates. For small and moderate-sized datasets or simpler models, RMSProp might suffice, while for large-scale, complex models, Adam is often the preferred choice. It's important to experiment and compare the performance of both optimizers on your specific problem to determine the most suitable one for your application."
   ]
  },
  {
   "cell_type": "markdown",
   "id": "e13648d9-6c4c-4e46-8283-1867767a2169",
   "metadata": {},
   "source": [
    "# Part 3 : Applying Optimizers\n",
    "\n",
    "\n",
    "## Create binary classification dataset :"
   ]
  },
  {
   "cell_type": "code",
   "execution_count": 1,
   "id": "fa56a227-dc32-41a3-90ba-630114a032b2",
   "metadata": {
    "tags": []
   },
   "outputs": [
    {
     "data": {
      "text/plain": [
       "array([[  1.52285216,  -1.49389723,  -1.9692536 , ...,  -2.62517177,\n",
       "         -2.89988744,   0.64148094],\n",
       "       [ -0.96175893,  -1.02358023,   1.06754189, ...,  -4.46144893,\n",
       "         -2.36367735,   0.84276158],\n",
       "       [  0.8811009 ,   0.91976806,   0.03229224, ...,   6.46100037,\n",
       "         -1.77300873,  -0.28045463],\n",
       "       ...,\n",
       "       [ -0.35110241,   0.19470838,  -0.13692354, ...,   6.38890817,\n",
       "         -0.11350403,  -3.36359598],\n",
       "       [ -0.8676344 ,  -0.02924436,   0.15738488, ...,   7.91147633,\n",
       "         -4.60465145,  -0.68525265],\n",
       "       [  1.33422947,   0.84729414,  -0.25055607, ..., -11.44993352,\n",
       "         -4.27272824,  -1.62696704]])"
      ]
     },
     "execution_count": 1,
     "metadata": {},
     "output_type": "execute_result"
    }
   ],
   "source": [
    "from sklearn.datasets import make_classification\n",
    "X, Y = make_classification(n_samples=6000, n_classes=2, n_features=30, n_informative=15, random_state=42)\n",
    "X"
   ]
  },
  {
   "cell_type": "code",
   "execution_count": 2,
   "id": "c36543dd-afa8-4e32-a206-c739cfaae4ed",
   "metadata": {
    "tags": []
   },
   "outputs": [
    {
     "name": "stdout",
     "output_type": "stream",
     "text": [
      "['x1', 'x2', 'x3', 'x4', 'x5', 'x6', 'x7', 'x8', 'x9', 'x10', 'x11', 'x12', 'x13', 'x14', 'x15', 'x16', 'x17', 'x18', 'x19', 'x20', 'x21', 'x22', 'x23', 'x24', 'x25', 'x26', 'x27', 'x28', 'x29', 'x30']\n"
     ]
    }
   ],
   "source": [
    "cols = [f'x{i+1}' for i in range(30)]\n",
    "print(cols)"
   ]
  },
  {
   "cell_type": "code",
   "execution_count": 3,
   "id": "72a7e09d-260e-4da6-bbbf-dd79b33dda02",
   "metadata": {
    "tags": []
   },
   "outputs": [
    {
     "data": {
      "text/html": [
       "<div>\n",
       "<style scoped>\n",
       "    .dataframe tbody tr th:only-of-type {\n",
       "        vertical-align: middle;\n",
       "    }\n",
       "\n",
       "    .dataframe tbody tr th {\n",
       "        vertical-align: top;\n",
       "    }\n",
       "\n",
       "    .dataframe thead th {\n",
       "        text-align: right;\n",
       "    }\n",
       "</style>\n",
       "<table border=\"1\" class=\"dataframe\">\n",
       "  <thead>\n",
       "    <tr style=\"text-align: right;\">\n",
       "      <th></th>\n",
       "      <th>x1</th>\n",
       "      <th>x2</th>\n",
       "      <th>x3</th>\n",
       "      <th>x4</th>\n",
       "      <th>x5</th>\n",
       "      <th>x6</th>\n",
       "      <th>x7</th>\n",
       "      <th>x8</th>\n",
       "      <th>x9</th>\n",
       "      <th>x10</th>\n",
       "      <th>...</th>\n",
       "      <th>x21</th>\n",
       "      <th>x22</th>\n",
       "      <th>x23</th>\n",
       "      <th>x24</th>\n",
       "      <th>x25</th>\n",
       "      <th>x26</th>\n",
       "      <th>x27</th>\n",
       "      <th>x28</th>\n",
       "      <th>x29</th>\n",
       "      <th>x30</th>\n",
       "    </tr>\n",
       "  </thead>\n",
       "  <tbody>\n",
       "    <tr>\n",
       "      <th>0</th>\n",
       "      <td>1.522852</td>\n",
       "      <td>-1.493897</td>\n",
       "      <td>-1.969254</td>\n",
       "      <td>-1.950937</td>\n",
       "      <td>0.729409</td>\n",
       "      <td>-0.505545</td>\n",
       "      <td>-1.548064</td>\n",
       "      <td>1.425791</td>\n",
       "      <td>-3.304799</td>\n",
       "      <td>-0.439496</td>\n",
       "      <td>...</td>\n",
       "      <td>-0.700752</td>\n",
       "      <td>-1.188037</td>\n",
       "      <td>1.321142</td>\n",
       "      <td>3.119569</td>\n",
       "      <td>3.247756</td>\n",
       "      <td>-2.564369</td>\n",
       "      <td>1.586801</td>\n",
       "      <td>-2.625172</td>\n",
       "      <td>-2.899887</td>\n",
       "      <td>0.641481</td>\n",
       "    </tr>\n",
       "    <tr>\n",
       "      <th>1</th>\n",
       "      <td>-0.961759</td>\n",
       "      <td>-1.023580</td>\n",
       "      <td>1.067542</td>\n",
       "      <td>-4.162742</td>\n",
       "      <td>1.798332</td>\n",
       "      <td>0.290994</td>\n",
       "      <td>-0.460173</td>\n",
       "      <td>-0.896801</td>\n",
       "      <td>0.016522</td>\n",
       "      <td>-1.341976</td>\n",
       "      <td>...</td>\n",
       "      <td>-1.020864</td>\n",
       "      <td>-0.796174</td>\n",
       "      <td>0.995266</td>\n",
       "      <td>-0.434632</td>\n",
       "      <td>0.049613</td>\n",
       "      <td>-2.943068</td>\n",
       "      <td>4.405926</td>\n",
       "      <td>-4.461449</td>\n",
       "      <td>-2.363677</td>\n",
       "      <td>0.842762</td>\n",
       "    </tr>\n",
       "    <tr>\n",
       "      <th>2</th>\n",
       "      <td>0.881101</td>\n",
       "      <td>0.919768</td>\n",
       "      <td>0.032292</td>\n",
       "      <td>-2.042465</td>\n",
       "      <td>1.380894</td>\n",
       "      <td>-0.368263</td>\n",
       "      <td>1.692659</td>\n",
       "      <td>1.808263</td>\n",
       "      <td>-1.036441</td>\n",
       "      <td>0.258514</td>\n",
       "      <td>...</td>\n",
       "      <td>0.471950</td>\n",
       "      <td>2.116017</td>\n",
       "      <td>-3.997930</td>\n",
       "      <td>-2.947469</td>\n",
       "      <td>-0.580025</td>\n",
       "      <td>1.446176</td>\n",
       "      <td>5.814471</td>\n",
       "      <td>6.461000</td>\n",
       "      <td>-1.773009</td>\n",
       "      <td>-0.280455</td>\n",
       "    </tr>\n",
       "    <tr>\n",
       "      <th>3</th>\n",
       "      <td>-0.262708</td>\n",
       "      <td>-0.894839</td>\n",
       "      <td>0.835547</td>\n",
       "      <td>0.259482</td>\n",
       "      <td>0.126441</td>\n",
       "      <td>0.712318</td>\n",
       "      <td>-3.222290</td>\n",
       "      <td>-1.677167</td>\n",
       "      <td>2.845301</td>\n",
       "      <td>-0.583642</td>\n",
       "      <td>...</td>\n",
       "      <td>1.080646</td>\n",
       "      <td>0.105685</td>\n",
       "      <td>2.808264</td>\n",
       "      <td>-0.006864</td>\n",
       "      <td>1.389069</td>\n",
       "      <td>-0.401399</td>\n",
       "      <td>-3.077418</td>\n",
       "      <td>-6.144428</td>\n",
       "      <td>1.410733</td>\n",
       "      <td>0.831030</td>\n",
       "    </tr>\n",
       "    <tr>\n",
       "      <th>4</th>\n",
       "      <td>1.219532</td>\n",
       "      <td>0.339917</td>\n",
       "      <td>0.254114</td>\n",
       "      <td>-2.319354</td>\n",
       "      <td>-0.169682</td>\n",
       "      <td>1.744857</td>\n",
       "      <td>3.390834</td>\n",
       "      <td>0.170762</td>\n",
       "      <td>-0.171321</td>\n",
       "      <td>1.027932</td>\n",
       "      <td>...</td>\n",
       "      <td>-0.445666</td>\n",
       "      <td>-3.096679</td>\n",
       "      <td>4.626698</td>\n",
       "      <td>-2.421581</td>\n",
       "      <td>-1.976743</td>\n",
       "      <td>-1.058870</td>\n",
       "      <td>-4.647209</td>\n",
       "      <td>-10.108797</td>\n",
       "      <td>-0.213168</td>\n",
       "      <td>-3.011489</td>\n",
       "    </tr>\n",
       "  </tbody>\n",
       "</table>\n",
       "<p>5 rows × 30 columns</p>\n",
       "</div>"
      ],
      "text/plain": [
       "         x1        x2        x3        x4        x5        x6        x7  \\\n",
       "0  1.522852 -1.493897 -1.969254 -1.950937  0.729409 -0.505545 -1.548064   \n",
       "1 -0.961759 -1.023580  1.067542 -4.162742  1.798332  0.290994 -0.460173   \n",
       "2  0.881101  0.919768  0.032292 -2.042465  1.380894 -0.368263  1.692659   \n",
       "3 -0.262708 -0.894839  0.835547  0.259482  0.126441  0.712318 -3.222290   \n",
       "4  1.219532  0.339917  0.254114 -2.319354 -0.169682  1.744857  3.390834   \n",
       "\n",
       "         x8        x9       x10  ...       x21       x22       x23       x24  \\\n",
       "0  1.425791 -3.304799 -0.439496  ... -0.700752 -1.188037  1.321142  3.119569   \n",
       "1 -0.896801  0.016522 -1.341976  ... -1.020864 -0.796174  0.995266 -0.434632   \n",
       "2  1.808263 -1.036441  0.258514  ...  0.471950  2.116017 -3.997930 -2.947469   \n",
       "3 -1.677167  2.845301 -0.583642  ...  1.080646  0.105685  2.808264 -0.006864   \n",
       "4  0.170762 -0.171321  1.027932  ... -0.445666 -3.096679  4.626698 -2.421581   \n",
       "\n",
       "        x25       x26       x27        x28       x29       x30  \n",
       "0  3.247756 -2.564369  1.586801  -2.625172 -2.899887  0.641481  \n",
       "1  0.049613 -2.943068  4.405926  -4.461449 -2.363677  0.842762  \n",
       "2 -0.580025  1.446176  5.814471   6.461000 -1.773009 -0.280455  \n",
       "3  1.389069 -0.401399 -3.077418  -6.144428  1.410733  0.831030  \n",
       "4 -1.976743 -1.058870 -4.647209 -10.108797 -0.213168 -3.011489  \n",
       "\n",
       "[5 rows x 30 columns]"
      ]
     },
     "execution_count": 3,
     "metadata": {},
     "output_type": "execute_result"
    }
   ],
   "source": [
    "import pandas as pd\n",
    "X = pd.DataFrame(X,columns=cols)\n",
    "X.head()"
   ]
  },
  {
   "cell_type": "code",
   "execution_count": 4,
   "id": "2de15a7e-6b87-4240-b975-6d24e5d7547c",
   "metadata": {
    "tags": []
   },
   "outputs": [
    {
     "data": {
      "text/html": [
       "<div>\n",
       "<style scoped>\n",
       "    .dataframe tbody tr th:only-of-type {\n",
       "        vertical-align: middle;\n",
       "    }\n",
       "\n",
       "    .dataframe tbody tr th {\n",
       "        vertical-align: top;\n",
       "    }\n",
       "\n",
       "    .dataframe thead th {\n",
       "        text-align: right;\n",
       "    }\n",
       "</style>\n",
       "<table border=\"1\" class=\"dataframe\">\n",
       "  <thead>\n",
       "    <tr style=\"text-align: right;\">\n",
       "      <th></th>\n",
       "      <th>y</th>\n",
       "    </tr>\n",
       "  </thead>\n",
       "  <tbody>\n",
       "    <tr>\n",
       "      <th>0</th>\n",
       "      <td>1</td>\n",
       "    </tr>\n",
       "    <tr>\n",
       "      <th>1</th>\n",
       "      <td>1</td>\n",
       "    </tr>\n",
       "    <tr>\n",
       "      <th>2</th>\n",
       "      <td>0</td>\n",
       "    </tr>\n",
       "    <tr>\n",
       "      <th>3</th>\n",
       "      <td>1</td>\n",
       "    </tr>\n",
       "    <tr>\n",
       "      <th>4</th>\n",
       "      <td>0</td>\n",
       "    </tr>\n",
       "  </tbody>\n",
       "</table>\n",
       "</div>"
      ],
      "text/plain": [
       "   y\n",
       "0  1\n",
       "1  1\n",
       "2  0\n",
       "3  1\n",
       "4  0"
      ]
     },
     "execution_count": 4,
     "metadata": {},
     "output_type": "execute_result"
    }
   ],
   "source": [
    "Y = pd.DataFrame(Y,columns=['y'])\n",
    "Y.head()\n"
   ]
  },
  {
   "cell_type": "code",
   "execution_count": 5,
   "id": "7b8de321-d942-4113-b37e-15b921e764c4",
   "metadata": {
    "tags": []
   },
   "outputs": [
    {
     "data": {
      "text/plain": [
       "(4800, 30)"
      ]
     },
     "execution_count": 5,
     "metadata": {},
     "output_type": "execute_result"
    }
   ],
   "source": [
    "from sklearn.model_selection import train_test_split\n",
    "xtrain, xtest, ytrain, ytest = train_test_split(X,Y,test_size=0.2, random_state=42)\n",
    "xtrain.shape"
   ]
  },
  {
   "cell_type": "code",
   "execution_count": 6,
   "id": "72cf0f32-24ea-4c22-8430-466caaecc02e",
   "metadata": {
    "tags": []
   },
   "outputs": [
    {
     "data": {
      "text/plain": [
       "(1200, 30)"
      ]
     },
     "execution_count": 6,
     "metadata": {},
     "output_type": "execute_result"
    }
   ],
   "source": [
    "xtest.shape"
   ]
  },
  {
   "cell_type": "code",
   "execution_count": 7,
   "id": "b391257a-a6bb-4c55-8ba3-6a3e296e9c06",
   "metadata": {
    "tags": []
   },
   "outputs": [],
   "source": [
    "from sklearn.preprocessing import StandardScaler\n",
    "scaler = StandardScaler()\n",
    "xtrain = pd.DataFrame(scaler.fit_transform(xtrain),columns=xtrain.columns)\n",
    "xtest = pd.DataFrame(scaler.transform(xtest),columns=xtest.columns)"
   ]
  },
  {
   "cell_type": "code",
   "execution_count": 8,
   "id": "4e730952-fd36-4872-92e1-eed6a2988c48",
   "metadata": {
    "tags": []
   },
   "outputs": [],
   "source": [
    "from keras.models import Sequential\n",
    "from keras.layers import Dense, Dropout, BatchNormalization\n",
    "def create_nn_model(optimizer):\n",
    "    # Initialize model\n",
    "    model = Sequential()\n",
    "\n",
    "    # Hidden Layer 1\n",
    "    model.add(Dense(64, activation='relu', input_dim=xtrain.shape[1]))\n",
    "\n",
    "    # Batch Normalization 1\n",
    "    model.add(BatchNormalization())\n",
    "\n",
    "    # Dropout Layer 1\n",
    "    model.add(Dropout(0.3))\n",
    "\n",
    "    # Hidden Layer 2\n",
    "    model.add(Dense(32, activation='relu'))\n",
    "\n",
    "    # Batch Normalization 2\n",
    "    model.add(BatchNormalization())\n",
    "\n",
    "    # Dropout 2\n",
    "    model.add(Dropout(0.2))\n",
    "\n",
    "    # Output Layer \n",
    "    model.add(Dense(1, activation='sigmoid'))\n",
    "\n",
    "    # Compile the model\n",
    "    model.compile(loss='binary_crossentropy',optimizer=optimizer, metrics=['accuracy'])\n",
    "\n",
    "    # Show Model summary\n",
    "    model.summary()\n",
    "\n",
    "    return model"
   ]
  },
  {
   "cell_type": "code",
   "execution_count": 9,
   "id": "808bf21e-37f8-4652-848b-2583b4c2788c",
   "metadata": {
    "tags": []
   },
   "outputs": [],
   "source": [
    "import matplotlib.pyplot as plt\n",
    "def plot_learning_curve(hist, opt):\n",
    "    plt.figure(figsize=(16,8))\n",
    "    plt.plot(hist.history['loss'], label='Training Loss')\n",
    "    plt.plot(hist.history['val_loss'], label='Validation Loss')\n",
    "    plt.xlabel('Epochs')\n",
    "    plt.ylabel('Binary Crossentropy Loss')\n",
    "    plt.title(f'Learning curve for Oprimizer : {opt}')\n",
    "    plt.legend()\n",
    "    plt.show()"
   ]
  },
  {
   "cell_type": "markdown",
   "id": "e4dc0270-6ed5-434c-beaa-2ed9b60f9ae0",
   "metadata": {},
   "source": [
    "# 1. SGD Optimizer"
   ]
  },
  {
   "cell_type": "code",
   "execution_count": 10,
   "id": "3c43d6f5-99ed-4937-83b1-c5cf9497b1b6",
   "metadata": {
    "tags": []
   },
   "outputs": [
    {
     "name": "stdout",
     "output_type": "stream",
     "text": [
      "Model: \"sequential\"\n",
      "_________________________________________________________________\n",
      " Layer (type)                Output Shape              Param #   \n",
      "=================================================================\n",
      " dense (Dense)               (None, 64)                1984      \n",
      "                                                                 \n",
      " batch_normalization (Batch  (None, 64)                256       \n",
      " Normalization)                                                  \n",
      "                                                                 \n",
      " dropout (Dropout)           (None, 64)                0         \n",
      "                                                                 \n",
      " dense_1 (Dense)             (None, 32)                2080      \n",
      "                                                                 \n",
      " batch_normalization_1 (Bat  (None, 32)                128       \n",
      " chNormalization)                                                \n",
      "                                                                 \n",
      " dropout_1 (Dropout)         (None, 32)                0         \n",
      "                                                                 \n",
      " dense_2 (Dense)             (None, 1)                 33        \n",
      "                                                                 \n",
      "=================================================================\n",
      "Total params: 4481 (17.50 KB)\n",
      "Trainable params: 4289 (16.75 KB)\n",
      "Non-trainable params: 192 (768.00 Byte)\n",
      "_________________________________________________________________\n"
     ]
    }
   ],
   "source": [
    "model_sgd =  create_nn_model(optimizer='SGD')"
   ]
  },
  {
   "cell_type": "code",
   "execution_count": null,
   "id": "18f0be93-207c-4080-a320-acddb25bf2f5",
   "metadata": {},
   "outputs": [],
   "source": []
  },
  {
   "cell_type": "code",
   "execution_count": 11,
   "id": "4f1a0b69-c66d-4e50-a308-d16724e5d3bb",
   "metadata": {
    "tags": []
   },
   "outputs": [
    {
     "name": "stdout",
     "output_type": "stream",
     "text": [
      "Epoch 1/50\n",
      "120/120 [==============================] - 5s 14ms/step - loss: 0.7397 - accuracy: 0.6156 - val_loss: 0.5721 - val_accuracy: 0.6969\n",
      "Epoch 2/50\n",
      "120/120 [==============================] - 1s 8ms/step - loss: 0.5981 - accuracy: 0.6870 - val_loss: 0.4920 - val_accuracy: 0.7771\n",
      "Epoch 3/50\n",
      "120/120 [==============================] - 1s 6ms/step - loss: 0.5392 - accuracy: 0.7297 - val_loss: 0.4434 - val_accuracy: 0.7990\n",
      "Epoch 4/50\n",
      "120/120 [==============================] - 1s 7ms/step - loss: 0.5002 - accuracy: 0.7542 - val_loss: 0.4133 - val_accuracy: 0.8167\n",
      "Epoch 5/50\n",
      "120/120 [==============================] - 1s 11ms/step - loss: 0.4673 - accuracy: 0.7747 - val_loss: 0.3891 - val_accuracy: 0.8302\n",
      "Epoch 6/50\n",
      "120/120 [==============================] - 1s 12ms/step - loss: 0.4485 - accuracy: 0.7865 - val_loss: 0.3695 - val_accuracy: 0.8521\n",
      "Epoch 7/50\n",
      "120/120 [==============================] - 1s 8ms/step - loss: 0.4288 - accuracy: 0.7961 - val_loss: 0.3525 - val_accuracy: 0.8573\n",
      "Epoch 8/50\n",
      "120/120 [==============================] - 1s 6ms/step - loss: 0.3958 - accuracy: 0.8201 - val_loss: 0.3387 - val_accuracy: 0.8625\n",
      "Epoch 9/50\n",
      "120/120 [==============================] - 1s 7ms/step - loss: 0.3849 - accuracy: 0.8310 - val_loss: 0.3260 - val_accuracy: 0.8698\n",
      "Epoch 10/50\n",
      "120/120 [==============================] - 1s 6ms/step - loss: 0.3690 - accuracy: 0.8393 - val_loss: 0.3136 - val_accuracy: 0.8740\n",
      "Epoch 11/50\n",
      "120/120 [==============================] - 1s 7ms/step - loss: 0.3588 - accuracy: 0.8430 - val_loss: 0.3038 - val_accuracy: 0.8792\n",
      "Epoch 12/50\n",
      "120/120 [==============================] - 1s 5ms/step - loss: 0.3606 - accuracy: 0.8424 - val_loss: 0.2939 - val_accuracy: 0.8844\n",
      "Epoch 13/50\n",
      "120/120 [==============================] - 1s 4ms/step - loss: 0.3313 - accuracy: 0.8557 - val_loss: 0.2856 - val_accuracy: 0.8865\n",
      "Epoch 14/50\n",
      "120/120 [==============================] - 1s 4ms/step - loss: 0.3308 - accuracy: 0.8607 - val_loss: 0.2775 - val_accuracy: 0.8958\n",
      "Epoch 15/50\n",
      "120/120 [==============================] - 1s 5ms/step - loss: 0.3167 - accuracy: 0.8677 - val_loss: 0.2701 - val_accuracy: 0.8990\n",
      "Epoch 16/50\n",
      "120/120 [==============================] - 1s 6ms/step - loss: 0.3159 - accuracy: 0.8607 - val_loss: 0.2655 - val_accuracy: 0.9000\n",
      "Epoch 17/50\n",
      "120/120 [==============================] - 1s 6ms/step - loss: 0.3163 - accuracy: 0.8643 - val_loss: 0.2600 - val_accuracy: 0.9021\n",
      "Epoch 18/50\n",
      "120/120 [==============================] - 1s 8ms/step - loss: 0.3060 - accuracy: 0.8693 - val_loss: 0.2551 - val_accuracy: 0.9042\n",
      "Epoch 19/50\n",
      "120/120 [==============================] - 1s 8ms/step - loss: 0.3008 - accuracy: 0.8693 - val_loss: 0.2507 - val_accuracy: 0.9104\n",
      "Epoch 20/50\n",
      "120/120 [==============================] - 1s 7ms/step - loss: 0.2967 - accuracy: 0.8781 - val_loss: 0.2481 - val_accuracy: 0.9062\n",
      "Epoch 21/50\n",
      "120/120 [==============================] - 1s 6ms/step - loss: 0.2841 - accuracy: 0.8831 - val_loss: 0.2435 - val_accuracy: 0.9125\n",
      "Epoch 22/50\n",
      "120/120 [==============================] - 1s 7ms/step - loss: 0.2900 - accuracy: 0.8799 - val_loss: 0.2412 - val_accuracy: 0.9167\n",
      "Epoch 23/50\n",
      "120/120 [==============================] - 1s 9ms/step - loss: 0.2935 - accuracy: 0.8729 - val_loss: 0.2398 - val_accuracy: 0.9146\n",
      "Epoch 24/50\n",
      "120/120 [==============================] - 1s 9ms/step - loss: 0.2794 - accuracy: 0.8815 - val_loss: 0.2388 - val_accuracy: 0.9146\n",
      "Epoch 25/50\n",
      "120/120 [==============================] - 1s 7ms/step - loss: 0.2728 - accuracy: 0.8904 - val_loss: 0.2362 - val_accuracy: 0.9125\n",
      "Epoch 26/50\n",
      "120/120 [==============================] - 1s 9ms/step - loss: 0.2720 - accuracy: 0.8859 - val_loss: 0.2336 - val_accuracy: 0.9198\n",
      "Epoch 27/50\n",
      "120/120 [==============================] - 1s 5ms/step - loss: 0.2651 - accuracy: 0.8880 - val_loss: 0.2321 - val_accuracy: 0.9167\n",
      "Epoch 28/50\n",
      "120/120 [==============================] - 1s 5ms/step - loss: 0.2642 - accuracy: 0.8909 - val_loss: 0.2297 - val_accuracy: 0.9146\n",
      "Epoch 29/50\n",
      "120/120 [==============================] - 1s 6ms/step - loss: 0.2574 - accuracy: 0.8961 - val_loss: 0.2280 - val_accuracy: 0.9177\n",
      "Epoch 30/50\n",
      "120/120 [==============================] - 1s 7ms/step - loss: 0.2415 - accuracy: 0.9055 - val_loss: 0.2275 - val_accuracy: 0.9198\n",
      "Epoch 31/50\n",
      "120/120 [==============================] - 1s 9ms/step - loss: 0.2501 - accuracy: 0.9005 - val_loss: 0.2256 - val_accuracy: 0.9167\n",
      "Epoch 32/50\n",
      "120/120 [==============================] - 1s 7ms/step - loss: 0.2536 - accuracy: 0.8932 - val_loss: 0.2246 - val_accuracy: 0.9187\n",
      "Epoch 33/50\n",
      "120/120 [==============================] - 1s 6ms/step - loss: 0.2561 - accuracy: 0.8961 - val_loss: 0.2224 - val_accuracy: 0.9167\n",
      "Epoch 34/50\n",
      "120/120 [==============================] - 1s 7ms/step - loss: 0.2443 - accuracy: 0.9049 - val_loss: 0.2218 - val_accuracy: 0.9229\n",
      "Epoch 35/50\n",
      "120/120 [==============================] - 1s 7ms/step - loss: 0.2405 - accuracy: 0.9049 - val_loss: 0.2206 - val_accuracy: 0.9198\n",
      "Epoch 36/50\n",
      "120/120 [==============================] - 1s 7ms/step - loss: 0.2402 - accuracy: 0.9010 - val_loss: 0.2206 - val_accuracy: 0.9219\n",
      "Epoch 37/50\n",
      "120/120 [==============================] - 1s 8ms/step - loss: 0.2423 - accuracy: 0.9042 - val_loss: 0.2182 - val_accuracy: 0.9240\n",
      "Epoch 38/50\n",
      "120/120 [==============================] - 1s 7ms/step - loss: 0.2424 - accuracy: 0.9081 - val_loss: 0.2164 - val_accuracy: 0.9219\n",
      "Epoch 39/50\n",
      "120/120 [==============================] - 1s 8ms/step - loss: 0.2431 - accuracy: 0.8987 - val_loss: 0.2164 - val_accuracy: 0.9208\n",
      "Epoch 40/50\n",
      "120/120 [==============================] - 1s 8ms/step - loss: 0.2304 - accuracy: 0.9086 - val_loss: 0.2156 - val_accuracy: 0.9198\n",
      "Epoch 41/50\n",
      "120/120 [==============================] - 1s 6ms/step - loss: 0.2317 - accuracy: 0.9036 - val_loss: 0.2137 - val_accuracy: 0.9240\n",
      "Epoch 42/50\n",
      "120/120 [==============================] - 1s 6ms/step - loss: 0.2409 - accuracy: 0.9010 - val_loss: 0.2136 - val_accuracy: 0.9240\n",
      "Epoch 43/50\n",
      "120/120 [==============================] - 1s 7ms/step - loss: 0.2262 - accuracy: 0.9109 - val_loss: 0.2142 - val_accuracy: 0.9219\n",
      "Epoch 44/50\n",
      "120/120 [==============================] - 1s 6ms/step - loss: 0.2266 - accuracy: 0.9055 - val_loss: 0.2124 - val_accuracy: 0.9240\n",
      "Epoch 45/50\n",
      "120/120 [==============================] - 1s 6ms/step - loss: 0.2257 - accuracy: 0.9094 - val_loss: 0.2123 - val_accuracy: 0.9271\n",
      "Epoch 46/50\n",
      "120/120 [==============================] - 1s 6ms/step - loss: 0.2241 - accuracy: 0.9125 - val_loss: 0.2126 - val_accuracy: 0.9229\n",
      "Epoch 47/50\n",
      "120/120 [==============================] - 1s 8ms/step - loss: 0.2434 - accuracy: 0.9003 - val_loss: 0.2118 - val_accuracy: 0.9229\n",
      "Epoch 48/50\n",
      "120/120 [==============================] - 1s 6ms/step - loss: 0.2217 - accuracy: 0.9138 - val_loss: 0.2111 - val_accuracy: 0.9260\n",
      "Epoch 49/50\n",
      "120/120 [==============================] - 1s 6ms/step - loss: 0.2127 - accuracy: 0.9180 - val_loss: 0.2093 - val_accuracy: 0.9250\n",
      "Epoch 50/50\n",
      "120/120 [==============================] - 1s 6ms/step - loss: 0.2200 - accuracy: 0.9143 - val_loss: 0.2088 - val_accuracy: 0.9250\n"
     ]
    }
   ],
   "source": [
    "hist_sgd = model_sgd.fit(xtrain, ytrain, validation_split=0.2, epochs=50)\n"
   ]
  },
  {
   "cell_type": "markdown",
   "id": "289f90cf-d7b1-40d3-a1d9-be01343dcb7e",
   "metadata": {
    "tags": []
   },
   "source": [
    "plot_learning_curve(hist=hist_sgd, opt='SGD')"
   ]
  },
  {
   "cell_type": "code",
   "execution_count": 14,
   "id": "74c05f15-acab-4baa-83b5-f3778d5b450a",
   "metadata": {
    "tags": []
   },
   "outputs": [
    {
     "name": "stdout",
     "output_type": "stream",
     "text": [
      "150/150 [==============================] - 1s 5ms/step - loss: 0.1476 - accuracy: 0.9508\n"
     ]
    }
   ],
   "source": [
    "tr_loss_sgd, tr_acc_sgd = model_sgd.evaluate(xtrain, ytrain)"
   ]
  },
  {
   "cell_type": "code",
   "execution_count": 15,
   "id": "536eff9a-b806-4a61-86e6-68ba89b63756",
   "metadata": {
    "tags": []
   },
   "outputs": [
    {
     "name": "stdout",
     "output_type": "stream",
     "text": [
      "38/38 [==============================] - 1s 3ms/step - loss: 0.1541 - accuracy: 0.9417\n"
     ]
    }
   ],
   "source": [
    "ts_loss_sgd, ts_acc_sgd = model_sgd.evaluate(xtest, ytest)"
   ]
  },
  {
   "cell_type": "markdown",
   "id": "a63468f3-574b-4c11-9320-429e3fc586c1",
   "metadata": {},
   "source": [
    "## 2. RMS Prop"
   ]
  },
  {
   "cell_type": "code",
   "execution_count": 16,
   "id": "6998be50-5070-41ed-b535-c4e378ba8e22",
   "metadata": {
    "tags": []
   },
   "outputs": [
    {
     "name": "stdout",
     "output_type": "stream",
     "text": [
      "Model: \"sequential_1\"\n",
      "_________________________________________________________________\n",
      " Layer (type)                Output Shape              Param #   \n",
      "=================================================================\n",
      " dense_3 (Dense)             (None, 64)                1984      \n",
      "                                                                 \n",
      " batch_normalization_2 (Bat  (None, 64)                256       \n",
      " chNormalization)                                                \n",
      "                                                                 \n",
      " dropout_2 (Dropout)         (None, 64)                0         \n",
      "                                                                 \n",
      " dense_4 (Dense)             (None, 32)                2080      \n",
      "                                                                 \n",
      " batch_normalization_3 (Bat  (None, 32)                128       \n",
      " chNormalization)                                                \n",
      "                                                                 \n",
      " dropout_3 (Dropout)         (None, 32)                0         \n",
      "                                                                 \n",
      " dense_5 (Dense)             (None, 1)                 33        \n",
      "                                                                 \n",
      "=================================================================\n",
      "Total params: 4481 (17.50 KB)\n",
      "Trainable params: 4289 (16.75 KB)\n",
      "Non-trainable params: 192 (768.00 Byte)\n",
      "_________________________________________________________________\n"
     ]
    }
   ],
   "source": [
    "model_rmsprop = create_nn_model(optimizer='RMSProp')"
   ]
  },
  {
   "cell_type": "code",
   "execution_count": 17,
   "id": "662a8bf1-2d3d-494e-bc03-c0afb12c6e8e",
   "metadata": {
    "tags": []
   },
   "outputs": [
    {
     "name": "stdout",
     "output_type": "stream",
     "text": [
      "Epoch 1/50\n",
      "120/120 [==============================] - 6s 10ms/step - loss: 0.5929 - accuracy: 0.6857 - val_loss: 0.4642 - val_accuracy: 0.8052\n",
      "Epoch 2/50\n",
      "120/120 [==============================] - 1s 7ms/step - loss: 0.4387 - accuracy: 0.7964 - val_loss: 0.3452 - val_accuracy: 0.8698\n",
      "Epoch 3/50\n",
      "120/120 [==============================] - 1s 6ms/step - loss: 0.3845 - accuracy: 0.8292 - val_loss: 0.2953 - val_accuracy: 0.8896\n",
      "Epoch 4/50\n",
      "120/120 [==============================] - 1s 10ms/step - loss: 0.3295 - accuracy: 0.8552 - val_loss: 0.2666 - val_accuracy: 0.9010\n",
      "Epoch 5/50\n",
      "120/120 [==============================] - 1s 7ms/step - loss: 0.3057 - accuracy: 0.8763 - val_loss: 0.2493 - val_accuracy: 0.9021\n",
      "Epoch 6/50\n",
      "120/120 [==============================] - 1s 7ms/step - loss: 0.2799 - accuracy: 0.8878 - val_loss: 0.2380 - val_accuracy: 0.9083\n",
      "Epoch 7/50\n",
      "120/120 [==============================] - 1s 7ms/step - loss: 0.2589 - accuracy: 0.8919 - val_loss: 0.2305 - val_accuracy: 0.9104\n",
      "Epoch 8/50\n",
      "120/120 [==============================] - 1s 6ms/step - loss: 0.2442 - accuracy: 0.8984 - val_loss: 0.2232 - val_accuracy: 0.9094\n",
      "Epoch 9/50\n",
      "120/120 [==============================] - 1s 7ms/step - loss: 0.2374 - accuracy: 0.9044 - val_loss: 0.2158 - val_accuracy: 0.9135\n",
      "Epoch 10/50\n",
      "120/120 [==============================] - 1s 7ms/step - loss: 0.2248 - accuracy: 0.9055 - val_loss: 0.2112 - val_accuracy: 0.9156\n",
      "Epoch 11/50\n",
      "120/120 [==============================] - 1s 7ms/step - loss: 0.2265 - accuracy: 0.9115 - val_loss: 0.2025 - val_accuracy: 0.9187\n",
      "Epoch 12/50\n",
      "120/120 [==============================] - 1s 6ms/step - loss: 0.2078 - accuracy: 0.9208 - val_loss: 0.1972 - val_accuracy: 0.9187\n",
      "Epoch 13/50\n",
      "120/120 [==============================] - 1s 5ms/step - loss: 0.2011 - accuracy: 0.9237 - val_loss: 0.1898 - val_accuracy: 0.9240\n",
      "Epoch 14/50\n",
      "120/120 [==============================] - 1s 7ms/step - loss: 0.1865 - accuracy: 0.9281 - val_loss: 0.1859 - val_accuracy: 0.9292\n",
      "Epoch 15/50\n",
      "120/120 [==============================] - 1s 6ms/step - loss: 0.1963 - accuracy: 0.9263 - val_loss: 0.1834 - val_accuracy: 0.9281\n",
      "Epoch 16/50\n",
      "120/120 [==============================] - 1s 7ms/step - loss: 0.1845 - accuracy: 0.9307 - val_loss: 0.1811 - val_accuracy: 0.9333\n",
      "Epoch 17/50\n",
      "120/120 [==============================] - 1s 7ms/step - loss: 0.1893 - accuracy: 0.9292 - val_loss: 0.1782 - val_accuracy: 0.9292\n",
      "Epoch 18/50\n",
      "120/120 [==============================] - 1s 6ms/step - loss: 0.1856 - accuracy: 0.9307 - val_loss: 0.1728 - val_accuracy: 0.9365\n",
      "Epoch 19/50\n",
      "120/120 [==============================] - 1s 7ms/step - loss: 0.1776 - accuracy: 0.9273 - val_loss: 0.1692 - val_accuracy: 0.9406\n",
      "Epoch 20/50\n",
      "120/120 [==============================] - 1s 6ms/step - loss: 0.1720 - accuracy: 0.9365 - val_loss: 0.1659 - val_accuracy: 0.9417\n",
      "Epoch 21/50\n",
      "120/120 [==============================] - 1s 7ms/step - loss: 0.1707 - accuracy: 0.9352 - val_loss: 0.1637 - val_accuracy: 0.9417\n",
      "Epoch 22/50\n",
      "120/120 [==============================] - 1s 7ms/step - loss: 0.1688 - accuracy: 0.9391 - val_loss: 0.1627 - val_accuracy: 0.9448\n",
      "Epoch 23/50\n",
      "120/120 [==============================] - 1s 6ms/step - loss: 0.1542 - accuracy: 0.9419 - val_loss: 0.1576 - val_accuracy: 0.9458\n",
      "Epoch 24/50\n",
      "120/120 [==============================] - 1s 6ms/step - loss: 0.1641 - accuracy: 0.9359 - val_loss: 0.1546 - val_accuracy: 0.9469\n",
      "Epoch 25/50\n",
      "120/120 [==============================] - 1s 6ms/step - loss: 0.1651 - accuracy: 0.9370 - val_loss: 0.1567 - val_accuracy: 0.9469\n",
      "Epoch 26/50\n",
      "120/120 [==============================] - 1s 7ms/step - loss: 0.1480 - accuracy: 0.9469 - val_loss: 0.1558 - val_accuracy: 0.9490\n",
      "Epoch 27/50\n",
      "120/120 [==============================] - 1s 8ms/step - loss: 0.1502 - accuracy: 0.9458 - val_loss: 0.1549 - val_accuracy: 0.9479\n",
      "Epoch 28/50\n",
      "120/120 [==============================] - 1s 7ms/step - loss: 0.1508 - accuracy: 0.9435 - val_loss: 0.1550 - val_accuracy: 0.9458\n",
      "Epoch 29/50\n",
      "120/120 [==============================] - 1s 8ms/step - loss: 0.1504 - accuracy: 0.9477 - val_loss: 0.1547 - val_accuracy: 0.9469\n",
      "Epoch 30/50\n",
      "120/120 [==============================] - 1s 11ms/step - loss: 0.1556 - accuracy: 0.9417 - val_loss: 0.1530 - val_accuracy: 0.9510\n",
      "Epoch 31/50\n",
      "120/120 [==============================] - 1s 12ms/step - loss: 0.1586 - accuracy: 0.9432 - val_loss: 0.1541 - val_accuracy: 0.9500\n",
      "Epoch 32/50\n",
      "120/120 [==============================] - 1s 9ms/step - loss: 0.1526 - accuracy: 0.9453 - val_loss: 0.1498 - val_accuracy: 0.9521\n",
      "Epoch 33/50\n",
      "120/120 [==============================] - 1s 7ms/step - loss: 0.1458 - accuracy: 0.9495 - val_loss: 0.1475 - val_accuracy: 0.9510\n",
      "Epoch 34/50\n",
      "120/120 [==============================] - 1s 9ms/step - loss: 0.1408 - accuracy: 0.9458 - val_loss: 0.1483 - val_accuracy: 0.9521\n",
      "Epoch 35/50\n",
      "120/120 [==============================] - 1s 7ms/step - loss: 0.1354 - accuracy: 0.9495 - val_loss: 0.1489 - val_accuracy: 0.9500\n",
      "Epoch 36/50\n",
      "120/120 [==============================] - 1s 6ms/step - loss: 0.1327 - accuracy: 0.9508 - val_loss: 0.1493 - val_accuracy: 0.9521\n",
      "Epoch 37/50\n",
      "120/120 [==============================] - 1s 7ms/step - loss: 0.1341 - accuracy: 0.9505 - val_loss: 0.1503 - val_accuracy: 0.9510\n",
      "Epoch 38/50\n",
      "120/120 [==============================] - 1s 6ms/step - loss: 0.1260 - accuracy: 0.9544 - val_loss: 0.1462 - val_accuracy: 0.9479\n",
      "Epoch 39/50\n",
      "120/120 [==============================] - 1s 7ms/step - loss: 0.1352 - accuracy: 0.9523 - val_loss: 0.1446 - val_accuracy: 0.9552\n",
      "Epoch 40/50\n",
      "120/120 [==============================] - 1s 7ms/step - loss: 0.1344 - accuracy: 0.9508 - val_loss: 0.1397 - val_accuracy: 0.9531\n",
      "Epoch 41/50\n",
      "120/120 [==============================] - 1s 7ms/step - loss: 0.1276 - accuracy: 0.9513 - val_loss: 0.1406 - val_accuracy: 0.9563\n",
      "Epoch 42/50\n",
      "120/120 [==============================] - 1s 6ms/step - loss: 0.1186 - accuracy: 0.9594 - val_loss: 0.1426 - val_accuracy: 0.9563\n",
      "Epoch 43/50\n",
      "120/120 [==============================] - 1s 6ms/step - loss: 0.1216 - accuracy: 0.9568 - val_loss: 0.1448 - val_accuracy: 0.9552\n",
      "Epoch 44/50\n",
      "120/120 [==============================] - 1s 7ms/step - loss: 0.1201 - accuracy: 0.9591 - val_loss: 0.1412 - val_accuracy: 0.9531\n",
      "Epoch 45/50\n",
      "120/120 [==============================] - 1s 6ms/step - loss: 0.1255 - accuracy: 0.9529 - val_loss: 0.1414 - val_accuracy: 0.9552\n",
      "Epoch 46/50\n",
      "120/120 [==============================] - 1s 6ms/step - loss: 0.1344 - accuracy: 0.9505 - val_loss: 0.1386 - val_accuracy: 0.9542\n",
      "Epoch 47/50\n",
      "120/120 [==============================] - 1s 7ms/step - loss: 0.1258 - accuracy: 0.9521 - val_loss: 0.1427 - val_accuracy: 0.9521\n",
      "Epoch 48/50\n",
      "120/120 [==============================] - 1s 6ms/step - loss: 0.1158 - accuracy: 0.9589 - val_loss: 0.1423 - val_accuracy: 0.9521\n",
      "Epoch 49/50\n",
      "120/120 [==============================] - 1s 7ms/step - loss: 0.1260 - accuracy: 0.9539 - val_loss: 0.1404 - val_accuracy: 0.9552\n",
      "Epoch 50/50\n",
      "120/120 [==============================] - 2s 14ms/step - loss: 0.1135 - accuracy: 0.9594 - val_loss: 0.1418 - val_accuracy: 0.9573\n"
     ]
    }
   ],
   "source": [
    "hist_rmsprop = model_rmsprop.fit(xtrain, ytrain, validation_split=0.2, epochs=50)"
   ]
  },
  {
   "cell_type": "code",
   "execution_count": 18,
   "id": "5dcc92f0-9eb6-4522-9ac3-dee791f563a2",
   "metadata": {
    "tags": []
   },
   "outputs": [
    {
     "data": {
      "image/png": "[encoded data removed]",
      "text/plain": [
       "<Figure size 1600x800 with 1 Axes>"
      ]
     },
     "metadata": {},
     "output_type": "display_data"
    }
   ],
   "source": [
    "plot_learning_curve(hist=hist_rmsprop, opt='RMSProp')"
   ]
  },
  {
   "cell_type": "code",
   "execution_count": 19,
   "id": "bb97d4b7-c391-4903-9001-ff2971bf452b",
   "metadata": {
    "tags": []
   },
   "outputs": [
    {
     "name": "stdout",
     "output_type": "stream",
     "text": [
      "150/150 [==============================] - 1s 4ms/step - loss: 0.0660 - accuracy: 0.9823\n"
     ]
    }
   ],
   "source": [
    "tr_loss_rms, tr_acc_rms = model_rmsprop.evaluate(xtrain, ytrain)"
   ]
  },
  {
   "cell_type": "markdown",
   "id": "719712e0-1706-4c70-80e2-573c68d66a1c",
   "metadata": {},
   "source": [
    "## 3. Adam Optimizer"
   ]
  },
  {
   "cell_type": "code",
   "execution_count": 20,
   "id": "00e5af9f-04cf-446d-ab1f-7d6ba3093709",
   "metadata": {
    "tags": []
   },
   "outputs": [
    {
     "name": "stdout",
     "output_type": "stream",
     "text": [
      "Model: \"sequential_2\"\n",
      "_________________________________________________________________\n",
      " Layer (type)                Output Shape              Param #   \n",
      "=================================================================\n",
      " dense_6 (Dense)             (None, 64)                1984      \n",
      "                                                                 \n",
      " batch_normalization_4 (Bat  (None, 64)                256       \n",
      " chNormalization)                                                \n",
      "                                                                 \n",
      " dropout_4 (Dropout)         (None, 64)                0         \n",
      "                                                                 \n",
      " dense_7 (Dense)             (None, 32)                2080      \n",
      "                                                                 \n",
      " batch_normalization_5 (Bat  (None, 32)                128       \n",
      " chNormalization)                                                \n",
      "                                                                 \n",
      " dropout_5 (Dropout)         (None, 32)                0         \n",
      "                                                                 \n",
      " dense_8 (Dense)             (None, 1)                 33        \n",
      "                                                                 \n",
      "=================================================================\n",
      "Total params: 4481 (17.50 KB)\n",
      "Trainable params: 4289 (16.75 KB)\n",
      "Non-trainable params: 192 (768.00 Byte)\n",
      "_________________________________________________________________\n"
     ]
    }
   ],
   "source": [
    "model_adam = create_nn_model(optimizer='Adam')"
   ]
  },
  {
   "cell_type": "code",
   "execution_count": 21,
   "id": "c6cdcaef-7c12-41c7-b003-1c81f4c9c2f2",
   "metadata": {
    "tags": []
   },
   "outputs": [
    {
     "name": "stdout",
     "output_type": "stream",
     "text": [
      "Epoch 1/50\n",
      "120/120 [==============================] - 6s 10ms/step - loss: 0.6511 - accuracy: 0.6320 - val_loss: 0.4813 - val_accuracy: 0.8115\n",
      "Epoch 2/50\n",
      "120/120 [==============================] - 1s 6ms/step - loss: 0.4631 - accuracy: 0.7802 - val_loss: 0.3643 - val_accuracy: 0.8458\n",
      "Epoch 3/50\n",
      "120/120 [==============================] - 1s 6ms/step - loss: 0.4092 - accuracy: 0.8151 - val_loss: 0.3113 - val_accuracy: 0.8646\n",
      "Epoch 4/50\n",
      "120/120 [==============================] - 1s 8ms/step - loss: 0.3580 - accuracy: 0.8388 - val_loss: 0.2831 - val_accuracy: 0.8781\n",
      "Epoch 5/50\n",
      "120/120 [==============================] - 1s 5ms/step - loss: 0.3293 - accuracy: 0.8568 - val_loss: 0.2589 - val_accuracy: 0.8958\n",
      "Epoch 6/50\n",
      "120/120 [==============================] - 1s 5ms/step - loss: 0.3082 - accuracy: 0.8677 - val_loss: 0.2430 - val_accuracy: 0.9052\n",
      "Epoch 7/50\n",
      "120/120 [==============================] - 1s 5ms/step - loss: 0.2744 - accuracy: 0.8844 - val_loss: 0.2295 - val_accuracy: 0.9083\n",
      "Epoch 8/50\n",
      "120/120 [==============================] - 1s 5ms/step - loss: 0.2699 - accuracy: 0.8875 - val_loss: 0.2223 - val_accuracy: 0.9125\n",
      "Epoch 9/50\n",
      "120/120 [==============================] - 1s 6ms/step - loss: 0.2501 - accuracy: 0.9013 - val_loss: 0.2158 - val_accuracy: 0.9167\n",
      "Epoch 10/50\n",
      "120/120 [==============================] - 1s 10ms/step - loss: 0.2366 - accuracy: 0.9076 - val_loss: 0.2092 - val_accuracy: 0.9208\n",
      "Epoch 11/50\n",
      "120/120 [==============================] - 1s 9ms/step - loss: 0.2284 - accuracy: 0.9117 - val_loss: 0.2001 - val_accuracy: 0.9250\n",
      "Epoch 12/50\n",
      "120/120 [==============================] - 1s 8ms/step - loss: 0.2144 - accuracy: 0.9154 - val_loss: 0.1939 - val_accuracy: 0.9333\n",
      "Epoch 13/50\n",
      "120/120 [==============================] - 1s 7ms/step - loss: 0.2303 - accuracy: 0.9091 - val_loss: 0.1912 - val_accuracy: 0.9292\n",
      "Epoch 14/50\n",
      "120/120 [==============================] - 1s 6ms/step - loss: 0.2106 - accuracy: 0.9187 - val_loss: 0.1886 - val_accuracy: 0.9333\n",
      "Epoch 15/50\n",
      "120/120 [==============================] - 1s 5ms/step - loss: 0.2029 - accuracy: 0.9198 - val_loss: 0.1852 - val_accuracy: 0.9365\n",
      "Epoch 16/50\n",
      "120/120 [==============================] - 1s 6ms/step - loss: 0.1964 - accuracy: 0.9237 - val_loss: 0.1855 - val_accuracy: 0.9344\n",
      "Epoch 17/50\n",
      "120/120 [==============================] - 1s 5ms/step - loss: 0.1808 - accuracy: 0.9276 - val_loss: 0.1844 - val_accuracy: 0.9344\n",
      "Epoch 18/50\n",
      "120/120 [==============================] - 1s 6ms/step - loss: 0.1871 - accuracy: 0.9273 - val_loss: 0.1811 - val_accuracy: 0.9323\n",
      "Epoch 19/50\n",
      "120/120 [==============================] - 1s 7ms/step - loss: 0.1757 - accuracy: 0.9302 - val_loss: 0.1775 - val_accuracy: 0.9354\n",
      "Epoch 20/50\n",
      "120/120 [==============================] - 1s 5ms/step - loss: 0.1853 - accuracy: 0.9331 - val_loss: 0.1732 - val_accuracy: 0.9438\n",
      "Epoch 21/50\n",
      "120/120 [==============================] - 1s 7ms/step - loss: 0.1728 - accuracy: 0.9378 - val_loss: 0.1704 - val_accuracy: 0.9396\n",
      "Epoch 22/50\n",
      "120/120 [==============================] - 1s 6ms/step - loss: 0.1585 - accuracy: 0.9398 - val_loss: 0.1705 - val_accuracy: 0.9406\n",
      "Epoch 23/50\n",
      "120/120 [==============================] - 1s 8ms/step - loss: 0.1636 - accuracy: 0.9354 - val_loss: 0.1695 - val_accuracy: 0.9417\n",
      "Epoch 24/50\n",
      "120/120 [==============================] - 1s 6ms/step - loss: 0.1644 - accuracy: 0.9362 - val_loss: 0.1651 - val_accuracy: 0.9417\n",
      "Epoch 25/50\n",
      "120/120 [==============================] - 1s 5ms/step - loss: 0.1740 - accuracy: 0.9346 - val_loss: 0.1642 - val_accuracy: 0.9438\n",
      "Epoch 26/50\n",
      "120/120 [==============================] - 1s 7ms/step - loss: 0.1527 - accuracy: 0.9435 - val_loss: 0.1647 - val_accuracy: 0.9448\n",
      "Epoch 27/50\n",
      "120/120 [==============================] - 1s 6ms/step - loss: 0.1535 - accuracy: 0.9464 - val_loss: 0.1640 - val_accuracy: 0.9438\n",
      "Epoch 28/50\n",
      "120/120 [==============================] - 1s 9ms/step - loss: 0.1500 - accuracy: 0.9427 - val_loss: 0.1642 - val_accuracy: 0.9458\n",
      "Epoch 29/50\n",
      "120/120 [==============================] - 1s 8ms/step - loss: 0.1560 - accuracy: 0.9404 - val_loss: 0.1599 - val_accuracy: 0.9500\n",
      "Epoch 30/50\n",
      "120/120 [==============================] - 1s 9ms/step - loss: 0.1324 - accuracy: 0.9492 - val_loss: 0.1659 - val_accuracy: 0.9438\n",
      "Epoch 31/50\n",
      "120/120 [==============================] - 1s 7ms/step - loss: 0.1456 - accuracy: 0.9469 - val_loss: 0.1601 - val_accuracy: 0.9469\n",
      "Epoch 32/50\n",
      "120/120 [==============================] - 1s 8ms/step - loss: 0.1334 - accuracy: 0.9438 - val_loss: 0.1605 - val_accuracy: 0.9490\n",
      "Epoch 33/50\n",
      "120/120 [==============================] - 1s 8ms/step - loss: 0.1577 - accuracy: 0.9432 - val_loss: 0.1578 - val_accuracy: 0.9458\n",
      "Epoch 34/50\n",
      "120/120 [==============================] - 1s 7ms/step - loss: 0.1421 - accuracy: 0.9456 - val_loss: 0.1611 - val_accuracy: 0.9458\n",
      "Epoch 35/50\n",
      "120/120 [==============================] - 1s 8ms/step - loss: 0.1409 - accuracy: 0.9521 - val_loss: 0.1527 - val_accuracy: 0.9469\n",
      "Epoch 36/50\n",
      "120/120 [==============================] - 1s 8ms/step - loss: 0.1421 - accuracy: 0.9505 - val_loss: 0.1531 - val_accuracy: 0.9479\n",
      "Epoch 37/50\n",
      "120/120 [==============================] - 1s 7ms/step - loss: 0.1420 - accuracy: 0.9474 - val_loss: 0.1469 - val_accuracy: 0.9531\n",
      "Epoch 38/50\n",
      "120/120 [==============================] - 1s 7ms/step - loss: 0.1257 - accuracy: 0.9544 - val_loss: 0.1507 - val_accuracy: 0.9521\n",
      "Epoch 39/50\n",
      "120/120 [==============================] - 1s 7ms/step - loss: 0.1316 - accuracy: 0.9563 - val_loss: 0.1508 - val_accuracy: 0.9500\n",
      "Epoch 40/50\n",
      "120/120 [==============================] - 1s 6ms/step - loss: 0.1350 - accuracy: 0.9497 - val_loss: 0.1471 - val_accuracy: 0.9531\n",
      "Epoch 41/50\n",
      "120/120 [==============================] - 1s 7ms/step - loss: 0.1211 - accuracy: 0.9539 - val_loss: 0.1457 - val_accuracy: 0.9490\n",
      "Epoch 42/50\n",
      "120/120 [==============================] - 1s 8ms/step - loss: 0.1292 - accuracy: 0.9542 - val_loss: 0.1459 - val_accuracy: 0.9542\n",
      "Epoch 43/50\n",
      "120/120 [==============================] - 1s 8ms/step - loss: 0.1167 - accuracy: 0.9591 - val_loss: 0.1428 - val_accuracy: 0.9552\n",
      "Epoch 44/50\n",
      "120/120 [==============================] - 1s 8ms/step - loss: 0.1272 - accuracy: 0.9555 - val_loss: 0.1410 - val_accuracy: 0.9542\n",
      "Epoch 45/50\n",
      "120/120 [==============================] - 1s 8ms/step - loss: 0.1279 - accuracy: 0.9503 - val_loss: 0.1424 - val_accuracy: 0.9531\n",
      "Epoch 46/50\n",
      "120/120 [==============================] - 1s 8ms/step - loss: 0.1208 - accuracy: 0.9555 - val_loss: 0.1421 - val_accuracy: 0.9531\n",
      "Epoch 47/50\n",
      "120/120 [==============================] - 1s 8ms/step - loss: 0.1099 - accuracy: 0.9609 - val_loss: 0.1385 - val_accuracy: 0.9542\n",
      "Epoch 48/50\n",
      "120/120 [==============================] - 1s 7ms/step - loss: 0.1042 - accuracy: 0.9633 - val_loss: 0.1374 - val_accuracy: 0.9521\n",
      "Epoch 49/50\n",
      "120/120 [==============================] - 1s 8ms/step - loss: 0.1181 - accuracy: 0.9602 - val_loss: 0.1325 - val_accuracy: 0.9563\n",
      "Epoch 50/50\n",
      "120/120 [==============================] - 1s 8ms/step - loss: 0.1162 - accuracy: 0.9555 - val_loss: 0.1384 - val_accuracy: 0.9542\n"
     ]
    }
   ],
   "source": [
    "hist_adam = model_adam.fit(xtrain, ytrain, validation_split=0.2, epochs=50)\n"
   ]
  },
  {
   "cell_type": "code",
   "execution_count": 22,
   "id": "cf44852e-860b-40b3-a72c-f70b5d5d5c67",
   "metadata": {
    "tags": []
   },
   "outputs": [
    {
     "data": {
      "image/png": "[encoded data removed]",
      "text/plain": [
       "<Figure size 1600x800 with 1 Axes>"
      ]
     },
     "metadata": {},
     "output_type": "display_data"
    }
   ],
   "source": [
    "plot_learning_curve(hist=hist_adam, opt='Adam')"
   ]
  },
  {
   "cell_type": "code",
   "execution_count": null,
   "id": "5c687610-cda6-4794-9119-b952e7d50741",
   "metadata": {},
   "outputs": [],
   "source": []
  },
  {
   "cell_type": "code",
   "execution_count": 26,
   "id": "73e153c8-34bd-42d1-883a-23d1ba426159",
   "metadata": {
    "tags": []
   },
   "outputs": [
    {
     "name": "stdout",
     "output_type": "stream",
     "text": [
      "150/150 [==============================] - 1s 4ms/step - loss: 0.0608 - accuracy: 0.9829\n",
      "38/38 [==============================] - 0s 4ms/step - loss: 0.0778 - accuracy: 0.9758\n"
     ]
    }
   ],
   "source": [
    "tr_loss_adam, tr_acc_adam = model_adam.evaluate(xtrain,ytrain)\n",
    "ts_loss_adam, ts_acc_adam = model_adam.evaluate(xtest,ytest)"
   ]
  },
  {
   "cell_type": "code",
   "execution_count": null,
   "id": "fe0482a4-25f3-4a82-a1c1-2009307776d3",
   "metadata": {
    "tags": []
   },
   "outputs": [],
   "source": [
    "eval_dct = {'Optimizer':['SGD','RMSProp','Adam'],\n",
    "            'Training Loss':[tr_loss_sgd, tr_loss_rms, tr_loss_adam],\n",
    "            'Testing Loss':[ts_loss_sgd, ts_loss_rms, ts_loss_adam],\n",
    "            'Training Accuracy':[tr_acc_sgd, tr_acc_rms, tr_acc_adam],\n",
    "            'Testing Accuracy':[ts_acc_sgd, ts_acc_rms, ts_acc_adam]}\n",
    "eval_df = pd.DataFrame(eval_dct)\n",
    "eval_df"
   ]
  },
  {
   "cell_type": "code",
   "execution_count": null,
   "id": "5e9d0492-bc70-49a5-8f3e-8b5d85d8ccfb",
   "metadata": {
    "tags": []
   },
   "outputs": [],
   "source": [
    "eval_df.sort_values(by='Testing Accuracy', ascending=False)"
   ]
  },
  {
   "cell_type": "markdown",
   "id": "156d5c3d-34f2-44f5-b100-c7bf4dbadd66",
   "metadata": {},
   "source": [
    "## Answer 9\n",
    "\n",
    "Choosing an appropriate optimizer for a neural network architecture and task is a critical decision that can significantly impact the model's convergence speed, stability, and generalization performance. Different optimization algorithms have distinct characteristics, and the choice should be based on various considerations and tradeoffs. Here are some key factors to consider:\n",
    "Convergence Speed:\n",
    "Adaptive Learning Rates: Optimizers like Adam, RMSprop, and Adagrad adapt the learning rates for each parameter, leading to faster convergence in many cases. These algorithms often converge faster than traditional optimization methods like Gradient Descent and Stochastic Gradient Descent (SGD), which use a fixed learning rate for all parameters.\n",
    "\n",
    "Momentum: Momentum-based optimizers (e.g., Momentum, Nesterov Accelerated Gradient, and Adam) add momentum to the updates, which helps the optimization process to accelerate in the right direction and overcome flat regions more efficiently. This can lead to faster convergence, especially in the presence of sparse gradients.\n",
    "\n",
    "Stability:\n",
    "Batch Size: The choice of batch size can affect the stability of optimization. Larger batch sizes tend to provide smoother updates and lead to more stable convergence, but they may require more memory. Smaller batch sizes, like in SGD, can introduce more noise, leading to some instability during training, but they may escape local minima and lead to better generalization.\n",
    "\n",
    "Learning Rate Schedule: Using a learning rate schedule can enhance the stability of the optimization process. Starting with a larger learning rate and gradually decreasing it as training progresses can help fine-tune the model towards the end of training.\n",
    "\n",
    "Noise-Tolerance: Adaptive algorithms like Adam and RMSprop tend to be more noise-tolerant due to their ability to adapt the learning rates. This makes them more stable in handling noisy or sparse gradients compared to traditional methods like SGD.\n",
    "\n",
    "Generalization Performance:\n",
    "Overfitting: Regularization techniques like Dropout and weight decay, along with the choice of optimizer, can impact the model's tendency to overfit. Optimizers that provide better generalization performance help the model generalize well to unseen data and avoid overfitting.\n",
    "\n",
    "Early Stopping: Monitoring the validation loss and stopping the training process early can help prevent overfitting. The choice of optimizer can influence the optimal stopping point.\n",
    "\n",
    "Complexity and Resource Constraints:\n",
    "Computational Resources: Optimizers like Adam and RMSprop often require more computation and memory compared to simpler methods like SGD, especially for large-scale models.\n",
    "\n",
    "Hyperparameter Sensitivity: Some optimizers, like Adam, have additional hyperparameters (e.g., beta1 and beta2) that need to be tuned. Poor hyperparameter choices can affect the optimization process and generalization performance.\n",
    "\n",
    "Problem Characteristics:\n",
    "Sparse Gradients: For problems with sparse gradients, optimizers like Adam and RMSprop are generally more suitable as they adaptively adjust the learning rates for each parameter.\n",
    "\n",
    "Non-Convex Loss Landscape: Complex non-convex loss landscapes, as often found in deep learning, may benefit from adaptive learning rate methods like Adam, which can help navigate through narrow valleys and escape shallow local minima.\n",
    "\n",
    "In summary, the choice of optimizer should consider factors such as convergence speed, stability, and generalization performance, as well as the complexity of the neural network, the problem characteristics, and the available computational resources. It is essential to experiment with different optimizers, learning rates, and hyperparameters to find the best combination that suits the specific architecture and task at hand."
   ]
  },
  {
   "cell_type": "code",
   "execution_count": null,
   "id": "d5e12f00-3321-4c49-9d23-b66c79069242",
   "metadata": {},
   "outputs": [],
   "source": []
  }
 ],
 "metadata": {
  "kernelspec": {
   "display_name": "Python 3 (ipykernel)",
   "language": "python",
   "name": "python3"
  },
  "language_info": {
   "codemirror_mode": {
    "name": "ipython",
    "version": 3
   },
   "file_extension": ".py",
   "mimetype": "text/x-python",
   "name": "python",
   "nbconvert_exporter": "python",
   "pygments_lexer": "ipython3",
   "version": "3.11.4"
  }
 },
 "nbformat": 4,
 "nbformat_minor": 5
}
